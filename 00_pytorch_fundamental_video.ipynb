{
  "nbformat": 4,
  "nbformat_minor": 0,
  "metadata": {
    "colab": {
      "provenance": [],
      "toc_visible": true,
      "authorship_tag": "ABX9TyNCvfKOrMGSq1wTeAyqQYBW",
      "include_colab_link": true
    },
    "kernelspec": {
      "name": "python3",
      "display_name": "Python 3"
    },
    "language_info": {
      "name": "python"
    }
  },
  "cells": [
    {
      "cell_type": "markdown",
      "metadata": {
        "id": "view-in-github",
        "colab_type": "text"
      },
      "source": [
        "<a href=\"https://colab.research.google.com/github/jsparihar/learning/blob/master/00_pytorch_fundamental_video.ipynb\" target=\"_parent\"><img src=\"https://colab.research.google.com/assets/colab-badge.svg\" alt=\"Open In Colab\"/></a>"
      ]
    },
    {
      "cell_type": "markdown",
      "source": [
        "00_pytorch_funcdamental"
      ],
      "metadata": {
        "id": "STnfchEu-eqh"
      }
    },
    {
      "cell_type": "code",
      "source": [
        "#00_pytorch_funcdamental"
      ],
      "metadata": {
        "id": "K69-58Dd845C"
      },
      "execution_count": 3,
      "outputs": []
    },
    {
      "cell_type": "code",
      "source": [
        "import torch\n",
        "import pandas as pd\n",
        "import numpy as np\n",
        "import matplotlib.pyplot as plt\n",
        "from google.colab import data_table\n",
        "from vega_datasets import data\n",
        "print(torch.__version__)"
      ],
      "metadata": {
        "colab": {
          "base_uri": "https://localhost:8080/"
        },
        "id": "exsSLluw9Mwu",
        "outputId": "074fad52-771a-4aad-9a2f-e5b0c2fc309f"
      },
      "execution_count": 3,
      "outputs": [
        {
          "output_type": "stream",
          "name": "stdout",
          "text": [
            "2.0.1+cu118\n"
          ]
        }
      ]
    },
    {
      "cell_type": "code",
      "execution_count": 5,
      "metadata": {
        "colab": {
          "base_uri": "https://localhost:8080/"
        },
        "id": "gVxWaedS7zET",
        "outputId": "15e15a1f-d79d-4694-99b8-813e1cb37c97"
      },
      "outputs": [
        {
          "output_type": "stream",
          "name": "stdout",
          "text": [
            "Hello time to execute code\n"
          ]
        }
      ],
      "source": [
        "print(\"Hello time to execute code\")"
      ]
    },
    {
      "cell_type": "markdown",
      "source": [
        "# Introuduction to Tensors\n",
        "\n",
        "# Creating **Tensors**\n",
        "\n",
        "Pytorch tensors are created using torch.Tensor() = https://pytorch.org/docs/stable/tensors.html"
      ],
      "metadata": {
        "id": "wh2IyNOK-lJS"
      }
    },
    {
      "cell_type": "code",
      "source": [
        "#scalar\n",
        "scalar = torch.tensor(7)\n",
        "scalar"
      ],
      "metadata": {
        "colab": {
          "base_uri": "https://localhost:8080/"
        },
        "id": "bZ1d0RBu-rWx",
        "outputId": "1dcd6c7e-62b9-441a-edeb-043bdeb1a9f9"
      },
      "execution_count": 7,
      "outputs": [
        {
          "output_type": "execute_result",
          "data": {
            "text/plain": [
              "tensor(7)"
            ]
          },
          "metadata": {},
          "execution_count": 7
        }
      ]
    },
    {
      "cell_type": "code",
      "source": [
        "scalar.ndim"
      ],
      "metadata": {
        "colab": {
          "base_uri": "https://localhost:8080/"
        },
        "id": "5tPdDq13--4g",
        "outputId": "e2ebd96b-8630-4cbb-fde2-530a5198cb00"
      },
      "execution_count": 8,
      "outputs": [
        {
          "output_type": "execute_result",
          "data": {
            "text/plain": [
              "0"
            ]
          },
          "metadata": {},
          "execution_count": 8
        }
      ]
    },
    {
      "cell_type": "code",
      "source": [
        "#Get tensor back as python int\n",
        "scalar.item()"
      ],
      "metadata": {
        "colab": {
          "base_uri": "https://localhost:8080/"
        },
        "id": "sY_o8qr4_7wZ",
        "outputId": "4bb05545-bc3d-466f-9678-91bb87c77a84"
      },
      "execution_count": 9,
      "outputs": [
        {
          "output_type": "execute_result",
          "data": {
            "text/plain": [
              "7"
            ]
          },
          "metadata": {},
          "execution_count": 9
        }
      ]
    },
    {
      "cell_type": "code",
      "source": [
        "#vector\n",
        "vector = torch.tensor([7,7,7])\n",
        "vector"
      ],
      "metadata": {
        "colab": {
          "base_uri": "https://localhost:8080/"
        },
        "id": "oH9_18ylABqX",
        "outputId": "f0111437-222e-48af-fe91-e75e6e27341c"
      },
      "execution_count": 14,
      "outputs": [
        {
          "output_type": "execute_result",
          "data": {
            "text/plain": [
              "tensor([7, 7, 7])"
            ]
          },
          "metadata": {},
          "execution_count": 14
        }
      ]
    },
    {
      "cell_type": "code",
      "source": [
        "vector.ndim"
      ],
      "metadata": {
        "colab": {
          "base_uri": "https://localhost:8080/"
        },
        "id": "pOwZTwEmSFxe",
        "outputId": "fcef4c6c-e5f9-4179-9586-83b5ba13923e"
      },
      "execution_count": 15,
      "outputs": [
        {
          "output_type": "execute_result",
          "data": {
            "text/plain": [
              "1"
            ]
          },
          "metadata": {},
          "execution_count": 15
        }
      ]
    },
    {
      "cell_type": "code",
      "source": [
        "vector.shape"
      ],
      "metadata": {
        "colab": {
          "base_uri": "https://localhost:8080/"
        },
        "id": "Di_onH-ySKpP",
        "outputId": "912f5bf9-c72c-4874-842e-847ca8e907c7"
      },
      "execution_count": 16,
      "outputs": [
        {
          "output_type": "execute_result",
          "data": {
            "text/plain": [
              "torch.Size([3])"
            ]
          },
          "metadata": {},
          "execution_count": 16
        }
      ]
    },
    {
      "cell_type": "code",
      "source": [
        "#MATRIX\n",
        "MATRIX = torch.tensor([[7,8],[9,10]])\n",
        "MATRIX"
      ],
      "metadata": {
        "colab": {
          "base_uri": "https://localhost:8080/"
        },
        "id": "cFevA6AISNiH",
        "outputId": "bcf0629e-eee1-4cc3-d035-c66cbe811504"
      },
      "execution_count": 17,
      "outputs": [
        {
          "output_type": "execute_result",
          "data": {
            "text/plain": [
              "tensor([[ 7,  8],\n",
              "        [ 9, 10]])"
            ]
          },
          "metadata": {},
          "execution_count": 17
        }
      ]
    },
    {
      "cell_type": "code",
      "source": [
        "MATRIX.ndim"
      ],
      "metadata": {
        "colab": {
          "base_uri": "https://localhost:8080/"
        },
        "id": "XOz71FMcSoq1",
        "outputId": "837086cd-4d39-4ad7-c9a6-1e35da78d0bf"
      },
      "execution_count": 18,
      "outputs": [
        {
          "output_type": "execute_result",
          "data": {
            "text/plain": [
              "2"
            ]
          },
          "metadata": {},
          "execution_count": 18
        }
      ]
    },
    {
      "cell_type": "code",
      "source": [
        "MATRIX[0]"
      ],
      "metadata": {
        "colab": {
          "base_uri": "https://localhost:8080/"
        },
        "id": "wfkV4ZTnSyuZ",
        "outputId": "bf53af43-1c4b-421e-d2e4-02426a0df69f"
      },
      "execution_count": 22,
      "outputs": [
        {
          "output_type": "execute_result",
          "data": {
            "text/plain": [
              "tensor([7, 8])"
            ]
          },
          "metadata": {},
          "execution_count": 22
        }
      ]
    },
    {
      "cell_type": "code",
      "source": [
        "MATRIX.shape"
      ],
      "metadata": {
        "colab": {
          "base_uri": "https://localhost:8080/"
        },
        "id": "XmrX_obdS_Nt",
        "outputId": "8ce19f74-e403-4efd-f15a-050b4d183b7e"
      },
      "execution_count": 23,
      "outputs": [
        {
          "output_type": "execute_result",
          "data": {
            "text/plain": [
              "torch.Size([2, 2])"
            ]
          },
          "metadata": {},
          "execution_count": 23
        }
      ]
    },
    {
      "cell_type": "code",
      "source": [
        "#TENSOR\n",
        "TENSOR = torch.tensor([[[7,8,5],[9,10,8],[11,12,7]]])\n",
        "TENSOR"
      ],
      "metadata": {
        "colab": {
          "base_uri": "https://localhost:8080/"
        },
        "id": "lmcvnu8KTEY1",
        "outputId": "6264da1a-b6e1-49ef-f89a-29caa974f043"
      },
      "execution_count": 2,
      "outputs": [
        {
          "output_type": "execute_result",
          "data": {
            "text/plain": [
              "tensor([[[ 7,  8,  5],\n",
              "         [ 9, 10,  8],\n",
              "         [11, 12,  7]]])"
            ]
          },
          "metadata": {},
          "execution_count": 2
        }
      ]
    },
    {
      "cell_type": "code",
      "source": [],
      "metadata": {
        "id": "GLaVMWJGTm_Y"
      },
      "execution_count": null,
      "outputs": []
    },
    {
      "cell_type": "code",
      "source": [
        "TENSOR.ndim"
      ],
      "metadata": {
        "colab": {
          "base_uri": "https://localhost:8080/"
        },
        "id": "UIST2FdbTcCv",
        "outputId": "af3e086f-b23a-469f-edba-081a51ca4dfd"
      },
      "execution_count": 27,
      "outputs": [
        {
          "output_type": "execute_result",
          "data": {
            "text/plain": [
              "3"
            ]
          },
          "metadata": {},
          "execution_count": 27
        }
      ]
    },
    {
      "cell_type": "code",
      "source": [
        "TENSOR.shape"
      ],
      "metadata": {
        "colab": {
          "base_uri": "https://localhost:8080/"
        },
        "id": "1vUViD2-TnlG",
        "outputId": "111985a2-8855-4eb8-e255-c13fa2243f85"
      },
      "execution_count": 28,
      "outputs": [
        {
          "output_type": "execute_result",
          "data": {
            "text/plain": [
              "torch.Size([1, 3, 3])"
            ]
          },
          "metadata": {},
          "execution_count": 28
        }
      ]
    },
    {
      "cell_type": "code",
      "source": [
        "TENSOR[0]"
      ],
      "metadata": {
        "colab": {
          "base_uri": "https://localhost:8080/"
        },
        "id": "NWygdkb6TrL3",
        "outputId": "669bfc94-8524-4418-eadf-0ebc7f99463f"
      },
      "execution_count": 29,
      "outputs": [
        {
          "output_type": "execute_result",
          "data": {
            "text/plain": [
              "tensor([[ 7,  8,  5],\n",
              "        [ 9, 10,  8],\n",
              "        [11, 12,  7]])"
            ]
          },
          "metadata": {},
          "execution_count": 29
        }
      ]
    },
    {
      "cell_type": "markdown",
      "source": [
        "# Random Tensors\n",
        "\n",
        "Why random Tensors?\n",
        "\n",
        "Random tensors are important becuase the way many neural networks learn is that they start with tensors full of random numbers and then adjust those random numbers to better represent the data.\n",
        "\n",
        "*Start with random number  > look at data -> update random number -> loot at data -> update random number*s\n",
        "\n",
        "https://pytorch.org/docs/stable/random.html"
      ],
      "metadata": {
        "id": "RG5IYSjXVKWc"
      }
    },
    {
      "cell_type": "code",
      "source": [
        " ##Random Tensors tensos of size(3,7)\n",
        "random_tensor = torch.rand(2,2)\n",
        "random_tensor"
      ],
      "metadata": {
        "colab": {
          "base_uri": "https://localhost:8080/"
        },
        "id": "jEQML_IJTxbN",
        "outputId": "79dea1dd-4c55-4ad6-e44c-66992f23f0d6"
      },
      "execution_count": 8,
      "outputs": [
        {
          "output_type": "execute_result",
          "data": {
            "text/plain": [
              "tensor([[0.3764, 0.4544],\n",
              "        [0.6383, 0.2297]])"
            ]
          },
          "metadata": {},
          "execution_count": 8
        }
      ]
    },
    {
      "cell_type": "code",
      "source": [
        "random_tensor.ndim"
      ],
      "metadata": {
        "colab": {
          "base_uri": "https://localhost:8080/"
        },
        "id": "yMiak7EKWnC9",
        "outputId": "b4bdc823-4d42-46b9-8cd1-601e2b86931e"
      },
      "execution_count": 8,
      "outputs": [
        {
          "output_type": "execute_result",
          "data": {
            "text/plain": [
              "2"
            ]
          },
          "metadata": {},
          "execution_count": 8
        }
      ]
    },
    {
      "cell_type": "code",
      "source": [
        "#Create a random tensor with simmilar shape to an image tensor\n",
        "random_image_size_tensor = torch.rand(size=(3,224, 224)) # Hight width, colour channel R G B()\n",
        "random_image_size_tensor.shape, random_image_size_tensor.ndim"
      ],
      "metadata": {
        "colab": {
          "base_uri": "https://localhost:8080/"
        },
        "id": "NxxRQLxsWw_1",
        "outputId": "74c6fff3-71f2-4780-f5de-64caa22b63a8"
      },
      "execution_count": 9,
      "outputs": [
        {
          "output_type": "execute_result",
          "data": {
            "text/plain": [
              "(torch.Size([3, 224, 224]), 3)"
            ]
          },
          "metadata": {},
          "execution_count": 9
        }
      ]
    },
    {
      "cell_type": "markdown",
      "source": [
        "Zeros and Ones"
      ],
      "metadata": {
        "id": "zZdWjeEKYfA9"
      }
    },
    {
      "cell_type": "code",
      "source": [
        "#Create a tensor of all zeros\n",
        "zeros = torch.zeros(size=(3,4))\n",
        "zeros"
      ],
      "metadata": {
        "colab": {
          "base_uri": "https://localhost:8080/"
        },
        "id": "APL4h3weYg59",
        "outputId": "e0ad61f6-8dcc-4e51-e200-def46d145b86"
      },
      "execution_count": 3,
      "outputs": [
        {
          "output_type": "execute_result",
          "data": {
            "text/plain": [
              "tensor([[0., 0., 0., 0.],\n",
              "        [0., 0., 0., 0.],\n",
              "        [0., 0., 0., 0.]])"
            ]
          },
          "metadata": {},
          "execution_count": 3
        }
      ]
    },
    {
      "cell_type": "code",
      "source": [
        "#Create a tensor of all ones\n",
        "ones = torch.ones(size=(3,4))\n",
        "ones"
      ],
      "metadata": {
        "colab": {
          "base_uri": "https://localhost:8080/"
        },
        "id": "BRLek5eAbfz_",
        "outputId": "1f7aef32-451b-437d-fc21-56b8a2646795"
      },
      "execution_count": 5,
      "outputs": [
        {
          "output_type": "execute_result",
          "data": {
            "text/plain": [
              "tensor([[1., 1., 1., 1.],\n",
              "        [1., 1., 1., 1.],\n",
              "        [1., 1., 1., 1.]])"
            ]
          },
          "metadata": {},
          "execution_count": 5
        }
      ]
    },
    {
      "cell_type": "code",
      "source": [
        "ones.dtype"
      ],
      "metadata": {
        "colab": {
          "base_uri": "https://localhost:8080/"
        },
        "id": "fDmsz_3QuqcG",
        "outputId": "bc23c011-e206-4619-9f86-fd8752a70667"
      },
      "execution_count": 6,
      "outputs": [
        {
          "output_type": "execute_result",
          "data": {
            "text/plain": [
              "torch.float32"
            ]
          },
          "metadata": {},
          "execution_count": 6
        }
      ]
    },
    {
      "cell_type": "code",
      "source": [
        "random_tensor.dtype"
      ],
      "metadata": {
        "colab": {
          "base_uri": "https://localhost:8080/"
        },
        "id": "_rmmKoGUuvUz",
        "outputId": "73f4196c-3ddc-4194-a19e-217fe873ac88"
      },
      "execution_count": 9,
      "outputs": [
        {
          "output_type": "execute_result",
          "data": {
            "text/plain": [
              "torch.float32"
            ]
          },
          "metadata": {},
          "execution_count": 9
        }
      ]
    },
    {
      "cell_type": "markdown",
      "source": [
        "# Creating a range of tensors and tensors -lile"
      ],
      "metadata": {
        "id": "y1ocXs16u-Ru"
      }
    },
    {
      "cell_type": "code",
      "source": [
        "#Use torch.arange()\n",
        "one_to_ten = torch.arange(start=1,end =1000, step=40)\n",
        "one_to_ten"
      ],
      "metadata": {
        "colab": {
          "base_uri": "https://localhost:8080/"
        },
        "id": "hO7Vi87quy6E",
        "outputId": "b33a5526-a8dc-4daf-e92d-8f1e3306fde5"
      },
      "execution_count": 22,
      "outputs": [
        {
          "output_type": "execute_result",
          "data": {
            "text/plain": [
              "tensor([  1,  41,  81, 121, 161, 201, 241, 281, 321, 361, 401, 441, 481, 521,\n",
              "        561, 601, 641, 681, 721, 761, 801, 841, 881, 921, 961])"
            ]
          },
          "metadata": {},
          "execution_count": 22
        }
      ]
    },
    {
      "cell_type": "code",
      "source": [
        "torch.__version__"
      ],
      "metadata": {
        "colab": {
          "base_uri": "https://localhost:8080/",
          "height": 35
        },
        "id": "6QzW36kUvM7d",
        "outputId": "1b4ec418-9aac-47e0-a164-26de8b32f936"
      },
      "execution_count": 14,
      "outputs": [
        {
          "output_type": "execute_result",
          "data": {
            "text/plain": [
              "'2.0.1+cu118'"
            ],
            "application/vnd.google.colaboratory.intrinsic+json": {
              "type": "string"
            }
          },
          "metadata": {},
          "execution_count": 14
        }
      ]
    },
    {
      "cell_type": "code",
      "source": [
        "#creating tensors Like\n",
        "ten_zeros = torch.zeros_like(one_to_ten)\n",
        "ten_zeros"
      ],
      "metadata": {
        "colab": {
          "base_uri": "https://localhost:8080/",
          "height": 200
        },
        "id": "vNajJk-nvgWz",
        "outputId": "2845a8c6-93cc-474e-a4bb-334af6481fd1"
      },
      "execution_count": 4,
      "outputs": [
        {
          "output_type": "error",
          "ename": "NameError",
          "evalue": "ignored",
          "traceback": [
            "\u001b[0;31m---------------------------------------------------------------------------\u001b[0m",
            "\u001b[0;31mNameError\u001b[0m                                 Traceback (most recent call last)",
            "\u001b[0;32m<ipython-input-4-5ddb35e91829>\u001b[0m in \u001b[0;36m<cell line: 2>\u001b[0;34m()\u001b[0m\n\u001b[1;32m      1\u001b[0m \u001b[0;31m#creating tensors Like\u001b[0m\u001b[0;34m\u001b[0m\u001b[0;34m\u001b[0m\u001b[0m\n\u001b[0;32m----> 2\u001b[0;31m \u001b[0mten_zeros\u001b[0m \u001b[0;34m=\u001b[0m \u001b[0mtorch\u001b[0m\u001b[0;34m.\u001b[0m\u001b[0mzeros_like\u001b[0m\u001b[0;34m(\u001b[0m\u001b[0mone_to_ten\u001b[0m\u001b[0;34m)\u001b[0m\u001b[0;34m\u001b[0m\u001b[0;34m\u001b[0m\u001b[0m\n\u001b[0m\u001b[1;32m      3\u001b[0m \u001b[0mten_zeros\u001b[0m\u001b[0;34m\u001b[0m\u001b[0;34m\u001b[0m\u001b[0m\n",
            "\u001b[0;31mNameError\u001b[0m: name 'one_to_ten' is not defined"
          ]
        }
      ]
    },
    {
      "cell_type": "markdown",
      "source": [
        "# Tensors Datatypes\n",
        "\n",
        "Tensors datatypes is oe of the 3 big errors you will run into with PyTorch and deep learning:\n",
        "\n",
        "#Tensors not ight datatype\n",
        "#Tensors not in right shape\n",
        "#Tensors not on the right device\n"
      ],
      "metadata": {
        "id": "_Z7MXJpMwk12"
      }
    },
    {
      "cell_type": "code",
      "source": [
        "#Float 32 tensors\n",
        "float_32_tensors = torch.tensor([3.0, 6.0 ,8.0],\n",
        "                                 dtype=None,\n",
        "                                 device=None,\n",
        "                                 requires_grad=False)\n",
        "float_32_tensors"
      ],
      "metadata": {
        "colab": {
          "base_uri": "https://localhost:8080/"
        },
        "id": "prDTAH0GwHd0",
        "outputId": "8921f953-b4de-483e-96f2-76cdfea1ecc5"
      },
      "execution_count": 31,
      "outputs": [
        {
          "output_type": "execute_result",
          "data": {
            "text/plain": [
              "tensor([3., 6., 8.])"
            ]
          },
          "metadata": {},
          "execution_count": 31
        }
      ]
    },
    {
      "cell_type": "code",
      "source": [
        "float_16_tensor = float_32_tensors.type(torch.float16)\n",
        "float_16_tensor"
      ],
      "metadata": {
        "colab": {
          "base_uri": "https://localhost:8080/"
        },
        "id": "YR1-aLMZw92U",
        "outputId": "ef7514f4-9d84-4c0d-b1f4-f00adaa59000"
      },
      "execution_count": 33,
      "outputs": [
        {
          "output_type": "execute_result",
          "data": {
            "text/plain": [
              "tensor([3., 6., 8.], dtype=torch.float16)"
            ]
          },
          "metadata": {},
          "execution_count": 33
        }
      ]
    },
    {
      "cell_type": "code",
      "source": [
        "float_16_tensor\n",
        "float_32_tensors\n",
        "float_16_tensor * float_32_tensors"
      ],
      "metadata": {
        "colab": {
          "base_uri": "https://localhost:8080/"
        },
        "id": "PEoE-87d1nvF",
        "outputId": "b66d7df4-e023-408e-9fad-351f0efc8a17"
      },
      "execution_count": 38,
      "outputs": [
        {
          "output_type": "execute_result",
          "data": {
            "text/plain": [
              "tensor([ 9., 36., 64.])"
            ]
          },
          "metadata": {},
          "execution_count": 38
        }
      ]
    },
    {
      "cell_type": "code",
      "source": [
        "int_32_tensor = torch.tensor([3,5,6], dtype=torch.long)\n",
        "int_32_tensor"
      ],
      "metadata": {
        "colab": {
          "base_uri": "https://localhost:8080/"
        },
        "id": "hUDR6KI81xS8",
        "outputId": "3b90a0ba-c448-4c22-d3ff-67735209482f"
      },
      "execution_count": 42,
      "outputs": [
        {
          "output_type": "execute_result",
          "data": {
            "text/plain": [
              "tensor([3, 5, 6])"
            ]
          },
          "metadata": {},
          "execution_count": 42
        }
      ]
    },
    {
      "cell_type": "code",
      "source": [
        "float_16_tensor * int_32_tensor"
      ],
      "metadata": {
        "colab": {
          "base_uri": "https://localhost:8080/"
        },
        "id": "LVGq4ux12dL8",
        "outputId": "eae03ac1-cdb3-405f-f83f-a20e488cc970"
      },
      "execution_count": 43,
      "outputs": [
        {
          "output_type": "execute_result",
          "data": {
            "text/plain": [
              "tensor([ 9., 30., 48.], dtype=torch.float16)"
            ]
          },
          "metadata": {},
          "execution_count": 43
        }
      ]
    },
    {
      "cell_type": "markdown",
      "source": [
        "##Geting information from  tensors (tENSORS attributes)\n",
        "1. Tensors not ight datatype -  to do get datatype from a tensor, can use 'tensor.dtype'\n",
        "2. Tensors not in right shape -  to get shape from a tensor, can use 'tensor.shape'\n",
        "3. Tensors not on the right device -  to get device from a tensor, can use tensor.device"
      ],
      "metadata": {
        "id": "JwQ-1SQZ3dab"
      }
    },
    {
      "cell_type": "code",
      "source": [
        "##Craete a Tensor\n",
        "some_tensor =  torch.rand(3,4)\n",
        "some_tensor"
      ],
      "metadata": {
        "colab": {
          "base_uri": "https://localhost:8080/"
        },
        "id": "QcikHK5o2yWO",
        "outputId": "7f688578-8fda-4fff-efec-96c9638dc368"
      },
      "execution_count": 45,
      "outputs": [
        {
          "output_type": "execute_result",
          "data": {
            "text/plain": [
              "tensor([[0.4748, 0.4316, 0.8894, 0.7909],\n",
              "        [0.5976, 0.5418, 0.4328, 0.6356],\n",
              "        [0.5523, 0.6100, 0.3045, 0.6943]])"
            ]
          },
          "metadata": {},
          "execution_count": 45
        }
      ]
    },
    {
      "cell_type": "code",
      "source": [
        "some_tensor.size, some_tensor.shape"
      ],
      "metadata": {
        "colab": {
          "base_uri": "https://localhost:8080/"
        },
        "id": "8cWiuVJm4Oh3",
        "outputId": "5e1e0a6b-403e-40b7-b68a-23df18a5960c"
      },
      "execution_count": 51,
      "outputs": [
        {
          "output_type": "execute_result",
          "data": {
            "text/plain": [
              "(<function Tensor.size>, torch.Size([3, 4]))"
            ]
          },
          "metadata": {},
          "execution_count": 51
        }
      ]
    },
    {
      "cell_type": "code",
      "source": [
        "#Find out details about some tensor\n",
        "print(some_tensor)\n",
        "print(f\"Datatype of tensor : {some_tensor.dtype}\")\n",
        "print(f\"Shape of tensor : {some_tensor.shape}\")\n",
        "print(f\"Device of tensor is on : {some_tensor.device}\")"
      ],
      "metadata": {
        "colab": {
          "base_uri": "https://localhost:8080/"
        },
        "id": "7f1JB2iD3nE5",
        "outputId": "9bdb9c59-e400-4655-822d-3c9c9d1d1820"
      },
      "execution_count": 54,
      "outputs": [
        {
          "output_type": "stream",
          "name": "stdout",
          "text": [
            "tensor([[0.4748, 0.4316, 0.8894, 0.7909],\n",
            "        [0.5976, 0.5418, 0.4328, 0.6356],\n",
            "        [0.5523, 0.6100, 0.3045, 0.6943]])\n",
            "Datatype of tensor : torch.float32\n",
            "Shape of tensor : torch.Size([3, 4])\n",
            "Device of tensor is on : cpu\n"
          ]
        }
      ]
    },
    {
      "cell_type": "markdown",
      "source": [
        "####Manipulating Tensors (tensor operation)\n",
        "\n",
        " Tensors operation  include:\n",
        " * Addition\n",
        " * Substration\n",
        " * Multiplication\n",
        " * Division\n",
        " * Matrix Multiplication"
      ],
      "metadata": {
        "id": "MgTaR9Bx5o6L"
      }
    },
    {
      "cell_type": "code",
      "source": [
        "#Creating a tensor and add 10 to it\n",
        "tensor = torch.tensor([1,2,3])\n",
        "tensor + 10\n"
      ],
      "metadata": {
        "colab": {
          "base_uri": "https://localhost:8080/"
        },
        "id": "uW50MUY35okP",
        "outputId": "7f04228e-a3be-43f7-f8b0-468ebf419c9f"
      },
      "execution_count": 8,
      "outputs": [
        {
          "output_type": "execute_result",
          "data": {
            "text/plain": [
              "tensor([11, 12, 13])"
            ]
          },
          "metadata": {},
          "execution_count": 8
        }
      ]
    },
    {
      "cell_type": "code",
      "source": [
        "#Multiply tensor by 10\n",
        "tensor = tensor *10\n",
        "tensor"
      ],
      "metadata": {
        "colab": {
          "base_uri": "https://localhost:8080/"
        },
        "id": "Ae8oXw7_6CTt",
        "outputId": "cd9733cc-1bef-4881-d9a5-89f18ec3d9ea"
      },
      "execution_count": 58,
      "outputs": [
        {
          "output_type": "execute_result",
          "data": {
            "text/plain": [
              "tensor([80, 20, 30])"
            ]
          },
          "metadata": {},
          "execution_count": 58
        }
      ]
    },
    {
      "cell_type": "code",
      "source": [
        "tensor"
      ],
      "metadata": {
        "colab": {
          "base_uri": "https://localhost:8080/"
        },
        "id": "FrmEs7oJ6RXD",
        "outputId": "79f1c318-8d49-4056-98ca-c80fb37b7e77"
      },
      "execution_count": 59,
      "outputs": [
        {
          "output_type": "execute_result",
          "data": {
            "text/plain": [
              "tensor([80, 20, 30])"
            ]
          },
          "metadata": {},
          "execution_count": 59
        }
      ]
    },
    {
      "cell_type": "code",
      "source": [
        "#Substract\n",
        "tensor -10"
      ],
      "metadata": {
        "colab": {
          "base_uri": "https://localhost:8080/"
        },
        "id": "XAsgd6Q-6fGG",
        "outputId": "56c07fad-aa34-4ba0-9dcc-2a0b032d118b"
      },
      "execution_count": 60,
      "outputs": [
        {
          "output_type": "execute_result",
          "data": {
            "text/plain": [
              "tensor([70, 10, 20])"
            ]
          },
          "metadata": {},
          "execution_count": 60
        }
      ]
    },
    {
      "cell_type": "code",
      "source": [
        "#Try out Pytorch in-built function\n",
        "torch.mul(tensor, 10)"
      ],
      "metadata": {
        "colab": {
          "base_uri": "https://localhost:8080/"
        },
        "id": "j9UUcP3j6iQe",
        "outputId": "ad95d74b-9aa7-4cf0-9197-f28422e3102d"
      },
      "execution_count": 62,
      "outputs": [
        {
          "output_type": "execute_result",
          "data": {
            "text/plain": [
              "tensor([800, 200, 300])"
            ]
          },
          "metadata": {},
          "execution_count": 62
        }
      ]
    },
    {
      "cell_type": "code",
      "source": [
        "torch.add(tensor,10)"
      ],
      "metadata": {
        "colab": {
          "base_uri": "https://localhost:8080/"
        },
        "id": "_jzZwVSL6qHm",
        "outputId": "a25a818d-1369-48c6-baa5-e41b4d13b0e0"
      },
      "execution_count": 63,
      "outputs": [
        {
          "output_type": "execute_result",
          "data": {
            "text/plain": [
              "tensor([90, 30, 40])"
            ]
          },
          "metadata": {},
          "execution_count": 63
        }
      ]
    },
    {
      "cell_type": "markdown",
      "source": [],
      "metadata": {
        "id": "K0XM6ngmwQ1D"
      }
    },
    {
      "cell_type": "markdown",
      "source": [
        "### Matrix Multiplication\n",
        "Two main ways of performing multiplication in neural network and deep learning\n",
        "1. Element-wise multiplication\n",
        "2. Matrix multiplication\n",
        "\n",
        "https://www.mathsisfun.com/algebra/matrix-multiplying.html\n",
        "\n",
        "\n",
        "There are two main rules that performing matrix multiplication needs to be satisfy:\n",
        "\n",
        "1. The **nner dimension** must match:\n",
        "![image.png](data:image/png;base64,iVBORw0KGgoAAAANSUhEUgAAA2YAAAGECAYAAABdxjNeAAAgAElEQVR4nOy993cc55Xn/anQGY0cSIAgQIIEAeYEJkkkJVmSJVmWZMmyJc/aE6wZz+yes/tX7A979uw575nXs+96xjuzOzO2NPLICrYSRTFKFEkIzEQiQASCyLEBdK56f6iuYqEJMCgYsng/h31AoLuqnlTV9/vc+9xHGRgYMOPxOLFYjMnJSUpLS6mqqsIwDBRFQVEUBEEQBEEQBEEQhK8OdbELIAiCIAiCIAiCcK8jwkwQBEEQBEEQBGGREWEmCIIgCIIgCIKwyIgwEwRBEARBEARBWGREmAmCIAiCIAiCICwyIswEQRAEQRAEQRAWGRFmgiAIgiAIgiAIi4wIM0EQBEEQBEEQhEVGhJkgCIIgCIIgCMIiI8JMEARBEARBEARhkRFhJgiCIAiCIAiCsMiIMBMEQRAEQRAEQVhkRJgJgiAIgiAIgiAsMiLMBEEQBEEQBEEQFhkRZoIgCIIgCIIgCIuMCDNBEARBEARBEIRFRoSZIAiCIAiCIAjCIiPCTBAEQRAEQRAEYZERYSYIgiAIgiAIgrDI6ItdgHsd0zStnyhk/qEsbpGEu8DuPxtFubn33J+Z731BEARBEARBuKeFmWmaX6qhbJ8v21i/U9JpAyOdRlMVdH1xuyadTmMYBoqioGmaCIp5MAyDdDrt9LemaWia5rxnGAamaaKqKqoqzmkb0zRJp9MAMraEP3rsZ6V9n8t4FgRBED4v95Qwc7xTGcNQUb4cAWQb6Pb/FUW5oy9n0zQxTVBVDVXTgBvHpdNpx8j/Q2PXQdf1TBm/XAH7TcAeQ3bb2C/TNB1RZosOaUMLux1M05zTNvZ4A/EoCl8dt5ow+yLjzv28t68h41gQBEH4PNxTwgz4SjwYX8b5ZmMJLly8wPW+PkqLi9iwYQO5ubl3JfS+DGxRMTU1RTKZxO/3k5OT8we59tcdt7CPx+NcvHiRrq4udF3H6/VSX19PdXU16XSaWCzG7OwsALm5uQQCgXtanNmCzDAM4vE40WgU0zTx+/0EAoFF9xALC/NNCMV137s27rrc7b1pn2dmZoaWlha6u7spKSlh7dq1FBUV3dP3uiAIgvD5+cZbQ+6wKdsDNDw8zNWrV1FVlQ0bNuDz+ZxQlM9zftM0GRkZ4dKlSySTSceDpqqqE852syA0URQNv9/PypU1+Px+Pnj/fT54/3127migurqKcDjseF7+EJimSSqV4sqVK7z66qs0NzdTUVHBs88+y65du9A07Z4P1bHFxfT0NAcPHuSVV14hEAhQVFTEX/3VX1FRUcHw8DDvvPMOBw8eJBgM8uCDD/Ld736XnJwcx1t072FgmAaxWIyjR4/xm9/8hqmpKfbs2cOzzz7LsmXLUFX1Hm2brzffhPvd9s66n/GfN+TcPtYwDCKRCIcPH+att96ioaGBsrIyCgsLMQxDJhsEQRCEu+Yb/c3hDjObnJyku7ubs2fPcubMGS5evMj9999PdXU1Xq/3cwkzW8ik02mam5v5r//1vzIwMICiKE6opP05sDxr7tAtj8fD0qVL+U//6T+xY8cOojPTTIyPEY1GURR1juEwnxFxtzO8t/u87Qk6ceIEb731FolEgvb2dkpLS1m7di35+fl33U63uuYXMYy+bO7W+DRNk1gsxtTUFIlEAo/H44jwrq4u3n//fZqbm/H5fCSTSTZs2MCmTZsckf51qMMfjoy3LJ1mZGiYj48eo/HUadLpNDPT01RWVlJeXn7T/WKT7dn4PCzUNnd6vq+ibb/sutzNNbPPYWZezjWAdDLJ9PQ00zMz6LpOOBwmEAjcdPxN51qgXnfTB19GHef8DUgmU9b9Gk8QCobICeegaSrWJNmdXS/73PYzMxKJEI1GnfDmhe7zBduAm9v/63o3C4IgCF8d31hhZnvKrl27xmeffcZnn31GU1MTvb29xONxNE0jlUo5n/28KIqCqqrk5uayfv16KioqUBSFZDKJaZqMjo7S3d2NrutUV1dTUlJCKpVyjissLHRCX6wwwjRgoCg3ZmXdxlS2x2q+stseQluM2cfcjTiLx+PONXVdR9d1VFUlmUw6wsz2AN6qnO4QIsMwnOvY79uhkwvVb77yua91q+Pmu6ZbGLuPuV3b2Av8byeWbW9pIpEgHo+jqiq6rjvjbb7kMNmeVXfbutdh3Woc3Ek72cfM107ua9ufsY93r6G7lXGd7R2eu/ZGwTStcyaSCdKpFKl0yjL4c8OOp8xd3vnaZKEyZLePuw7ucOBbtVv29dzXtM97J2S35a3KZ7/nfn+hJBILjd1bXXu+Z4VpGKTtPlfsOs69FwAmJicdz29VVRXf+973qK+vB6zog1uNh/nGjjtRjl2H7LrN19e3G3PZ18q+r602M7nW08W/v/Y6La1t7N6zh6eeeoqi4kIUhXm9W+6xY7PQ/eNOlmRf0/5+me956L4GgKKq8LWdWBEEQRD+UHwjhZn9RRmPxzl06BC/+MUvmJqacjxUU1NTTE9Pf+G1W+6MhatXr+Y//sf/6BhG9pfyxx9/zC9+8Qs8Hg8vvvgie/bsIRaL4fF4nHPk5+eTTCbRNBXDSDsGgX0O22iwjf6FMtnZ9XaXyx3KqWnabRen+/1+7r//fq5evUpPTw/l5eXcf//9hEIhx1tmG0HZoio7I+HtjGD7p1vg2SGg83nl3CGi7pC3W13PFj3ua95NuJxdJrvO7rVSbkPe3Q5VVVU8+uijBAIBwuEwe/fuZcWKFU4d7fPa2Oe36+XuM7uds9v3Vu2UTqed993GoD02FvJ42veDaZqOAM/u0+yx524L97nddbDLoWkaxaWl7N23j0hkmkhkiu0NO9i4YeNNIt5dVrdwzG4LG7e4zT6HLSJuNU7c77nrYPfr5wmztMWIWxhmC027X9znX+g+uFXfzXdtd5u6nwXOe4CJSSqdRlEMdM1qJzL1jkaj9Pf309zcjKIoRKPROee+1bMze7LBLoc9vt3tDczpV7uvbjVes/vG3bbusW+V0arj9Mw0HZ1XuHjhHDUrqzHSCYx0CsX1TLPLki2A3XWZbxxkPw/surrrMt9kyw0xZ6Bwb4eJC4IgCN9QYWZjGAYzMzMUFhbywAMPsHnzZvLz8/nVr37FyZMnnS9Qt1flbrGNiZycHFatWgXMDXFsa2tzvpBLS0upqqoikUg467VsI3pychLTtFLmu2ePk8kkkUgE0zTx+Xz4fD7H2Mz2LthCLpFIzDH2PR4PHo+HVCp1y3UPtiGzfPlyfvazn5FIJPD7/RQWFjrXSCaTzrk1TcPn85FOp5mennYMd5/Ph9/vn2Mg2R4kuGGQer1eTNNkenqaVCrltKPdhtkz37YotRNrmKaJruv4/X48Hk9G3Fop6+2y2p5LVVWdkNWZmRkSiQS5ubn4/f4FjV23KEskEkSj0ZvWjri9kmAZYyUlJbzwwgs89thjAOTl5REIBFAUhVQqRSKRcMqk67rTN5OTk6RSKfx+vyOE7T6ORqPE43EURcHr9eL3+532zhZD9nienZ11jGld150kG25x4u5TG4/Hg6IoTr8oiuKMPffEgHu7ANO0Qjuj0ajT1h6PB5/P54xnVVUJBoM8sHcv6zdsIJFIEAqFKCwsnOPNtD+bzITS2b97PB6CwSCA4/W2x2wymSQWizn3mt2u9lgxDAOv1+u0gdu4dntyIpGI086apuH1ep1xY4+3W01u2BNCyWTSKYNhWGvr7H73+/0Eg0HnuoZhMDs7SzwexzRNQqGQs+7VHif256wwZ6s/7PvHxjAMEomEcy95PB6njdzPg3g8TiwWwzAMPLoHr9+H7vGQSiUxTateiXiMeDzujCfbCxyNRuecd757xi6HfT96vV4URXHGB1gTQF6v96Zy2W1gjx17vNrjPNtD5r4v3f3lfn4kk6nM8ycJioKm6yiaRjKdJpHpJ/sYt0Bz94n73LcSjPZzeGZmxjmX3+/H5/M57eMmkUhgGAZ+vx/do825viAIgnDv8Y0VZpqmEQgEeOihh9ixYwfV1dXk5eXR09MzZzbV/gL/IuIM5noI3B4vt9GX7U3LDsGxP2MYBoODgzQ1neHMmTNcv34dn89HVVUVu3fvZsOGDY6hr2maYzzNzs5y8eJFPv30U7q6ukilUixZsoS6ujp2797N8uXLb5mG3xaC58+f59ixY6TTaXRdZ/PmzTzwwAPMzMxw5MgR2tvbAaisrGTnzp1cvnyZs2fPcv36dbxeL7W1tdx3331s3LjRaZMrV67wwQcfMDMzQygUor6+nuLiYhobG2ltbWVycpLi4mJ27NjBfffdx5IlS+a0pWmaTExMcObMGc6ePUtnZyfxeJyioiJWrFhBQ0MD69atAyCVShGLxTh+/DhNTU0AFBYWsm7dOnp6emhsbETXdb7//e+za9euOTP32f0ZiUS4fPkyjY2NdHR0EI/HqaiooL6+3hHMdvlsA7a/v5+DBz+it/caPp+X5csreeyxxwiHw7S3t3PkyBEmJiYIBoOsW7eOgoICzp49S1tbG6OjoxQUFLBz504eeOABAoEAJ0+e5NSpk/T1XUNVNZYuLWf79u3s3LmT/Pz8OePLMAwGBgY4deoUZ8+eZXBwEEVRKCsrY82aNWzfvp1Vq1Y5M/VTU1McPHiQ5uZmPB4P5eXl1NfX09fXR1NTEwMDA/j9flavXs3999/PmjVr8Hq9jvhNJBLOZ8+fP09fX58zCVFZWcnWrVupr68nFAqRTqeZmIpw9Ogxmi9fAtMgPz+fhx56iPr6euf+iMfjdHZ2cvr0aS5evMzY2Bh+v4+yshLWr1/Pli1bqaiocPoqHo9z4cIFPvnkE2ZnZ8nJyWHr1q34fD5OnTpFR0cHsViM8vJytm3bxu7duykqKnL6PZVKMTQ0xJkz1v02ODhILBYjJyeHqqoqNm3a5IzXW907hmEwPDzM0aNH6erqoqamhmXLltHa2sqlS5cYHh5G13Xq6urYt28ftbW1jI+Pc/r0aU6dOkV/fz8ej4fly5ezfft2GhoaKCwsJJ1Ok0ql6Ozs5MiRI8TjcXbu3MnWrVvniLPx8XGOHz/O5cuXWbVqFfv376ekpMS5h8bHx2lubnbG8uzsLAUFBaxatYptDQ2sqVuDz+ej+2oXx48do7Ojk4sXLzIxMUFHRwf/9m//RlNTE5s2bWLXrl34/f55vaezs7M0NjZy+vRpSktLWbduHQMDAzQ1NdHX14dhGFRXV7Nz5042bdqEqqpcunSJ48eP09HRgWEYLF26lM2bN7N9+3YqKyvntHU6nWZqaoqWlhbOnDnDlStXmJycJCcnh+rqajZv3symTZvIz893sqeePHma3p4eWtvaGZ+c4JMTnzAbnWXZsmXs3LmTdevWOd680dFRLl26RFNTE52dnU471dbWsm3bNmpra50sq3a9bSYmJjh8+DAnT550+rOmpoYdO3awfv16Z2LBNE26u7s5fPgwyWSSB5x7y0dGHc87zgRBEIRvNt9IYWYbC7quU19f73ilUqnUnLh/uHkd0he5pj2bbp/bncXQ/bK9Ou4ZYJt02qCj4yq/+MXfc/bsWSYnJx3jMRAI8Mknn/Dyyy+zd+9e53qGYWUJ/P3vf88rr7xCd3e3M6ObTqcJBoPs2rWLP/mTP2Hr1q1zZobnC+nq6urijTfeYGZmxvF+7d69m+npaQ4dOsThw4fRdZ3i4mKOHj1KS0sLw8PDJJNJPB4PJ06c4Ny5c7z88sts2rSJdDrN9evXef311xkcHCQcDlNdXY2u67S0tBCLxRxvxKlTp2htbeXll192spsZhkF/fz+//e1vefvttxkcHCSZTKIoVgIVr9fLhx9+yPPPP8+3vvUt8vLymJmZobGxkd/85jeOt7GyspLh4WEmJiYoLy/nwQcfnBN6ZOMWZYcOHeJf/uVfaG1tdbxvHo+HwsJCUqmU04duoT80NMSBAx9w5swZp+127NhBKBRieHiYd999l46ODnw+H9XV1fj9fq5cuUI8HnfG56lTn/JZ02lKios5cOAAPT29Vl8poOsePj35KYMDg7zwwgv4A35H8F++fJlXX32VY8eOOVseAI63adOmTfzwhz90DOvJyUk++eQT3nvvfXRdo6iokGXLKujs7GR4eNgZH0ePHebs2Sb+8q9+xtYtWx1v5JkzZ/jVr37F6dOnmZqacrwJPp8Pj8dDVVUVzzzzDE888QTh3FwiUxFOnTrJG2+8gWIarKmtZU1tLatqakBRmJmZ4fjx47zyyitcvnyZWCxOMplCUcDj0TnwwQF2NOzgueefY9OWzXi9XlKpFB0dHbzxxhsMDw8TDodpamoiHo/T1tbmTJBomsbx48cZGhri2WefJRwOE4vFuHbtGq+++ioHDx5keHjYaUvbS1JWVsYjjzzC9773PSckdT4hbxhWlr6TJ09y6NAhSktLCYVCXLlyhVgsBliTBqdPn+b8+fM89NBD9PT08O677zI8POysQ9R1nU8++YQXXniBp59+mry8PAzDYGhoiA8//JBIJEJRUZGTTMZ+fkxMTHDq1Ck+/PBD7r//fjZt2uSM09HRUd56601++9vXLXFkgq7ppNNJDh7UqT96hO997zn279/P0MAghw8d5ty5c443dXR0lGPHjtHa2orH43GEb7YwA4jFYly6dInXX38dn89HeXk5PT09jIyMOJ5QXdf59NNPefTRR/H5fPz+97+nvb19zrPp+PHjPPzww7z44otUVVU5bT4yMsJ7773Hm2++SVdXl+MNTaVSHD16lIMHD/LMM8/w9NNPo+s6bW1tvPvuOwz0DxCNRUkmE3R0dHD9+nVWrlxJZWUldXV1pFIpRkZGeOedd3j77bfp7e0lkUg4HsvDhw+zfv16nn32Wfbu3Us4HJ4TJtzR0cE//uM/0tnZSV9fn9M2x44d4/Tp0/zoRz9i3759eDweotEoZ86c4ZVXXiGdSoNhsqRsCcUlxc73iSAIgnDv8Y0UZm7coUB2Egt3GM6X/QU43/qLbMN/vmu6xdz169cZGxtj+/btbNu2DVVVuXz5Mh9//DHt7e28//571NWtoby8glQqTTQa4/33D/D3f/9LIlMRGhp2sHPnTgIBP93d3Rw5coRDhw6haRplZWVOghL3mjN3Wd3hcPbf3GtUUqkUhmHQ19dHd3c3Ho9nzmbUMzMzfPbZZ1RUVDjCI5VKOSGBkUiEpqYmR1hZBmmCZDLOwEA/Bw8epK6ujieeeMKZ6f/1r3/Nr3/9axKJBIDTj6ZpOp7CSCSCrus8/vjjTjinLeCmpqa4ePHinPDI+caBFU4K0WiCk5+e5h/+4Ze0tbU69bc9lPbMv7veC/Vptkc0mUw6IUwXL15CUUy8Xi+qqmCaloe1f6Cft9540zI4k0k8moaiWiF7iXiUq50dvPnWm6xavZqdu3aQSibo7Ozkf//vX/L++x8AOOF/YBmOExMTHDlyhNnZWUKhEFu2bHEM73Q6hWka9Pb20tPbjUe/Ef5qmibxWIymM038/ne/Y1nFMgoLC2lvb+df//VfOXTokBO2WlBQQDgcZnx83PF8vfbaa4RCIR779rexcs8p6KqKaZhoqgqmNSEwG41y+PBh/tf/+l9cuXIlEzKqZkIrLbE0PDzMwYMHmZqO8Ofqn9PQ0OCMS1uETk1NcerUqZvaPZFI0N3dzbvvvktdXR0NDQ0MDAzw5ptv8tZbbzmTIOFwmHA4zOzsLJFIhKGhId599138fj8vvfQShYWF8943dl/b+9j19PRQUlLCI488QnV1NYlEgsuXL3Py5Ek+/vhjLl26hNfrpbKykueee45gMMj169c5deoUXV1dfPDBB9TU1LBz507nfkylUs6Yzn62uNdI2T9TqRSzs7OcOHGC1177DWNjozQ0NLBz507y8vK5evUqn3zyMS0tLfz2t78lNzeXmpoannv+eRp27qDxdCNnmppYunQpe/fuZfXq1dTU1ODz+RZc++Xuj9HRUWZnZ9m6dStr167F4/Fw9epVR+T19/ej6zqlpaX86Ec/orS0lPHxcc6ePcuFCxc4fPgwy5Yto6ioiJycHKampjh8+DCvvPIKo6OjbNmyhR07dlBSUsLQ0BAff/wx586d4+2332bp0qXcd999bNiwgZ/+NEhXVxcffvghvb29bNq0ifvuu4+KigpWrlyJqqqOKHv11VcZHx9nw4YNbN+2jYL8Agb6+/n01EnOnT1LKpUinJvLnt2753jMe3p6mJqaYuPGjTz77LN4PB5aW1sznt+LHD58mJqaGqqrq1EUhdzcXMrKykin05SUleLxea27Q0SZIAjCPcs3XpjZomw+EfJVk/0F6/59vgxztgAKh8Ps37+fn/70p1RXVzuhVsFgkN///vd0dHRy/Xo/y5dXEY8n6Onp4f333md8fJzdu3bzs7/+GbW1q9E0lYmJCUpLS/nXf/1Xzpw5w6lTp3j66afnLGx3YxtW7vVN7vfgRrICXdepqalh3759VFRU0NjYyEcffeSsp2lvb6e3t9fxWrq9dLm5uWzbto2tW7c6M90XL15EUVQmJydpbW1l//79eL1ezp07x4EDB4hGo3i9XnJzc9m/fz8rV66kvb2dY8eOMTIywvDwMEeOHGHTpk2Ew2GnzLbXzePxkJ+fT25uLuXl5Xi93jn9YtUd0ukUk5MTNH7WSHd3t7Nmavny5ezZs4dgMEhTUxNNTU1Eo7No+sJrbdztlt3PmqaRlxdm8+bNbNmylWg0xqFDh2hra0NTreQMuu5hR8NOtm7ZTDQe5dDhw7S1tQMK4+PjdHVdZeuWzUxMjHPo4MGMILE8ZJWVy3jooQfJzc2lsbGJpqYzRKNROjo6OHz4MKtWrXKEhNUOEAj4qalZyc6duyguLuHixYscO3ac2dlZUkmDrq5uhoaHCYZCnL90kZa2VgBCoRC7du3iiSeeIBgMcuDAAQ4cOMDs7Cz9/QM0Njaxe/cedF3LSgqRSXCSCe06cOAAvT09qIpCwBdgy5YtbN66lVQ6zalTpzh//hyJVJJLly7x0UcfsXLlSmftm92XmqZRVFTEzp07qV1dy/jYOEcOH6aj4wqqqjI+NkZnRwebNm3i+sAAZ86eJTI9TSAQYM2aNTz11FOsXLmSCxcu8Nprr9HX15cJoz3LnvsfoKCwGMMw0bT57x1bxC9btowf/OAHPPvss05Y3aVLl9B1ncOHDxONRtm8eTN/9md/xqZNm9B1ndHRUcrLy/nVr37F2NgYXV1dbNmyxVlr5R7P2Z7+bLFm39+Tk1NcudLJzEyUtWvX8pOf/Jhdu/YA1jrC1atX88tf/pLu7h6aL7ewdct2nnzyKUZGRkgmUrS1tlJeXs63v/1ttm3b5kxy3QkFBQU89thj/OQnP6Gqqop0Ok1PTw/hcJi3336b2dlZampq+NM//VMee+wxvF4vs7OzfPLJJ/zTP/0TXV1ddHd3Mz09TTgcZmRkhAsXLhCJRNje0MCPfvQjtmzdgq7pJBMJqquqmZ2dZWhoiPb2dnbu3MnGjRvZvHkzLS0tdHZ2Mjo6yrp16/jBD35AcXGxM9HU09PDiRMnmJycpKGhgR//+Mc0bN+OR9eZjESora/jX/7lX+jp6eGzxkbWrV07p+3tur700kvU1tYCVgi33+/nnXfeoaenh+vXr7N8+XK8Xi979uyhsrKSZDLJ8uXLyc3NndOPgiAIwr3HN16YwY2MZAvxVS+4zjaY3NdyizP7/zU1NfzgBz+gurra+XthYSHbtm3jo48+Ynp6mkgkQjptkEymOHv2HJ81NVJcXMRTTz3BhnVricXjmJpKfkEB+x56kM+amvgkM0v/yCOPOMklsrMb2uW010u5kzu46wBQVlbGn/zJn/Dkk08SCATYunUrMzMzfPTRR3i9XoaHhxkbG5tzDTv73JYtW/jP//k/s6p2NbF4nOLSUvoHBxkZGiKZTDI2NuYk6fjss8+c/eGKiop48cUX+eEPf0goFGJkZIScnBzHm9bW1kZzczM7duyYY6wHAgE2btzI008/zcaNGwmFQoTDYWcdnV03O/nK0OAQZ8+cJRqNousaS5Ys4Sc/+Qnf+tYjqKrGrl17+Lu/+3/5+OOPUZUbx9+p+Lc9uZs2bea//Jf/Qk1NLbOzUfLzi/j5z/9fpqen8Ho9bNq8hZ/9zd+wYcMGZmdnCQTDDAz8b0sopVKMj48TjcUYHhrm5MnTTE1OoyoeqqtX8pd/+VMefvghVFVl9+49/P3f/5IDBw446+Z6e3vnrFFTFJUlZUv40Us/4rHHHsfr83H58mWmpiJ8+umnJJNJpiYnGRsbpWLZMqanIkxHpp2EJBs3buTRRx91PGe5ubkMDg6iaRoVFRUkk2lUTcU0DdKGgWkYmFjraWLxOG0dV2jOhIx6PR62bNnE3/zN31C/fj3xZJKNWzbz//3dzzl/9iwTE+OcP3+ejo4OK4W7aaJaDUswGGTvA3v56V/8OUuXLmNsbIycnBz+7//5RyYmJohGowwNDzETixKZmWZyOoKJiUfXqa6q4oEHHqC6uprq6mo0TaO5uRld0ygoLLIyPKoKGPN7SO172e/3U1dXx65du8jJyXFCFFeuXMmWLVtobGwkJyeHvXv3sn79euceycvLY926dZSXl9Pd3c34+LgThnlDzN56jNkeK/u5ZhhpEvE4ChAIBMnJCaPpOqlUimAowLZtW4lEIly7dp3K5ZVW6nYyCUNcAtCdKfFWz0x31EBVVRUPP/yws75VURTKy8vZuXMnJ06cYGBggC1btrB161YnYVAwGKS2tpaVK1dy5coVxsfHicVi6LpOYWEh+/bvZ019HdXVK1i3fh3+QABME5/fR/3aeurr6hjo76e/v5/JyUknnDM7GZCd0MQ0rcQ1nZ2ddHV1UVBQwL59+9iwYQOqppE2TcLhMNu3b6e5uZkP3v+Awf4BJsbHyc3Lc55rNTU1PP7446xYsYJ4PI7X62XJkiWsX7+eE4ZkBwwAACAASURBVCdOEIlEiEQiAE6SJHtdrLvvBEEQhHuXe0KY3Y6vwwylbcioqkp+fj4lJSXOe/aaFjtTmW0gGUaaWGyWvr4e4vEYAb8fI23Q0tKMYZpoum4Z01NThHNy8Pv9TExMMD097axbuV15sv9v/w5WQo3a2lp8Ph+JRIKSkhLKysqc89rhem5MBVBVikpKWFpR4WTAW1peQUFBEUODQ3Oy1NkGk73Ww+fzkZubS3t7u7MeS9M0/H4/0WiUSCTC2NiY412wQw/z8/N55pln+O53v+vM+GenRgcwUUgbJpNTU0xFpjANy4irXrmC7Tt24PEFMFIGVVXVrFixguPHj9+0hhCY49XITqNtfU7F49EpKyujtLQMa/86KCoqwu/3E4lM4fMFqK6uziTrMAGNvLxCfL4Akci0k7UwHo8zPj7J2NgkoICqEMoJousal5svk0qmSCSsbI92e0UiEUZGRsjLy5tjDAYDIZZVLCcYDBKNxQiHcyktXYKiaICJYSjMzsTweHwsq6yisKCImcgMyXiKd373LtORWTZs3MjSpUv48Y//1BmvXq8Xn8/H8PAwHk1HQ8FEcXbWTSRS9F8fYHJiwipHKMTmzVtYVbsaE/DoOmtWrWLjhg20XL5MKpViYmKC/v5+6urqMFzZTP1+P7WrV1FaWoZJmkDIz9LyJfj9AdLpMdLJFIl4Ao+qUVJcQlFxMe3t7cRTKU6ePo3585/T0NDAihUrnLVliqKgahqBYMhqQ12z4l6z7hkb2/C2QlTnbhZvh1QHg0GKiormZJdUVRW/3++IFHcWVPteyvay2+ee7342TZOcnBzKK5eh6DrNLa289dbviMWiLFu2jNzcPJaWl/PCD3+AYYJH0/F5vaCq6LqKpoOimtyIWrz1JJf7uoDzzMq+P+wMh36/n5KSEnJycubUxV7fZ9fLFoIFBQU8uH8/adPKdDk2Nk5vby+xeJxEIsHQwADDIyMkM+sK7fWf7r0YAcdLZrfn7OwsfX19RKNR1qxZQ1VVlRMGrOk6acMkv6CIp596hm2btxHKCVFUVIyRTqOrmhMCm5+fPydEWtM0QqGQk83RvcbZnQjqVnv0CYIgCPcO96QwcxsJX/UM5ef5orUNFLdB5xYQtlFhpZiOMT4xiplO0t3Vyf/4H/8dvz+IYZqWNwLLCJmamiIejzM5OcnMzMwdl+FW5bfXsNgeEzst+XzncF5graPCABR03ZsRHfNt2moQi8WZnp7BMNIoCly/3sff/d3fOVkp0+k0MzMzRKNRZx2R7U1yY8+2a5pGPB6/xQa5JoZpMBudIZmMo+lWGGN+fgHBUBBNVdG8OkoUZ12Wuz3mW09o993NYaMZ76RpoGgaimqnywYwMi/rM5quoeqg6iqoKvZVVEXBSKaYmpwgFp0hnU5ipAwunT/Pf/9v/w2P10vaMDAMmJ6edhLJzMzMMDs7O6e9DcMA1RJ2qqajqjqq6vKopg2rRK4w1u0NDQwOWFkMr7S3c7Wrk/yCfMrKyqz3neyRuZkxnambYo1OVbUSmqRSKaYj05Zo9njw+7wUFxfgD3gxsDanDoVyqKxYRm5ODhMTE8zOzjI1NZVpaMAEJfNKG5kRpmqYimY5uDQVRVUxTAMyxvqy8nJ2NezgSlsbgwODzM7OMDA4yEdHDlNaWsrKFSvZuHEju3btZM2aNWi6yt3c0tnhwtn7ldn3ebZwsUWFO2TRfl4t9MzKniCwXznhMFu3bOXM1rMcO3aE3/zmNxw69BFVVctZvXo19fX11K1dS1VVNXgUkkYaDRNFVTAV1Ro/prVJs6ZZfXGnzzX388stsNxtYU86zbc+130Ouy2i0SiXL1/m+PHjXLx4kevXrzMzM+M8j+xtE9xe/uyJpex+sZ8jqVTKWWOoadb4V1BRMQgGAqxbv471G9dhpKy6DA4PQda2Hu773X65J2fcIlyEmCAIguDmnhRmbr6qL0a38XS34s9ev+XG/iK3M7fZX/KpVIpYNEYimUDXdFKpTCIHw+WhAQry8yET0nc35XEbEtlomjZnFjp7Vnq+NlBcL1VTUDUFRQVduzmRgGKpOFLJdGZNj5nZmyvmCCv73PaeSfZ+YLaHzZ0x0Z0Mw3383AoDhkHK2dvLEhEej46qqJZhaphoqoKm6diC8k69CDeM0hvX9np0dE1F0UxM1bCcXioopPHoCh6vjqKApukouo6BCQqYhkEykcQ0DVLpBKl00vJDZbwJfX3XURQVIyMAUUxU1fLWJRJxR8xmh6a5DUu7TxWnnjc29V2yZAnff+45PIrCkSOHGR4ZIZFKMjAwwPDwEM3Nl/j44+Ps27efF198kdra2izhbolzTdFQTDCNNOlUCtNMZzoCFBR0xRJTuqqgZYRV2kyTTt8ITVMU5cbAwkRTFDRFQUVB01RUO0Oq6nwIa61jmEcefZR4Ksl7775Hb08v6VSayYkIU5MROjs7+fTTEzSdaeKll15iR8MOdL9G9lTCfJM82RsK259zC7H5jHP3cfYxC4mW7PHlxnlmqBo1q2r46V/8BRvXr+P0aSvz6ZkzZzl9+jQ54TDr12/k8SefYN++fRQUFGCaduhiynZqZtX4zrDX/M1XLru8892L83mzFcXa5PrkyZP8+te/5ty5c/j9fqqrq1m/fj2BQIDZ2Vna2tq4fv36HGHm/v9C62ftsanrHnTdi+UdzDyrFCsEN5G0Mqcq3HiW2BMsdl0XijAQBEEQhNtxzwkzt0FkGz8L7WM235qwr4o7MezdM69gGa1Bf5Ci/CI8mo9Vq2r5y7/8S2ffH0WxkiqgKs5scigUcvaAsg2m23kOs2fp3WLn7lHAtOagPaqGqiik5tnPzTBNDBR0n5dgKIhimuiKStnSUrY37KSouAhDUVDVTDIJw0DXVTweL/X19WgeD4qa8ZC41prZPxeambe9AsFgILOuBwwjjZlOo5gmZsa7Z5oLrxW8qcau99ztaI0/FdAwFSvZh6oombVSCqZhhfrpittIt8oIdhSgiabpBEM5eHxeFFXBo1lbA+zZvRuf39rg2QTShoGqgqapBIM5c9YwWue3zmj9ntVeqvVSUcA00TWNUDDIuvXrqVq+nIcf+RbnL5ynubmZzs5OBgb6mZ2dYWR0mAMfvk9+fj7l5eWWdjJMJ5TRNMxM2K1KTk4Qr08nFp/FwMRULBFpmgqYKqlUmtlojHQqjaZoeHVr02vV3e6KgmH3Zaa9VEw0LSOQrKbFcg7q+Lx+qiur+PMf/xl779vLuXPnaWlppbu7m97eXsbGhpmKRDj56Ql8Xg9LlixhTe2aOeMpu1+zx9TtWGjcuI91i2Z3NsT5Qmfdx9pCwev3sXHTBtbUr+axJx6lt+caXV3dXLx4kdOnT9H4WSPDIyOkkimefPJJQjmhjPhUUBU1E4OsOCLkbp+NC90fC50nW8jaz4eBgQHef/89zpxporZ2Nc899xx79uwhLy8PTdPo7b3G//2//+xs9eC+rls4uX+3EwOFQjnoupdYLEE8Fs94+JVMpkSwMoRaG6dnd6vdLnbZ3RMd8937c+ppf9Z+255kEARBEO457jlhls3tDCp3uNHXCTMzlRsIBsjNy8Xr9RIKhVhZs5J1GzaQTqXRPTeSUli2wQ0jLnvdy+dhjpDKCmG8FbZxqaoqigmqiWU8K2bGDMoYM4qJ1+cjnJuLpnswTAiH89j/0IM8/PDDpA3T2RMuGo0Sj8fICeegKAoTY+OWyFEgbRpzQg6d89+CQCCQmRE3wVQYHR0jEolQWFCUWb9iOOnZ76TOc9eX3TybrqBYYXiKioktKtQbLzJ74CmKUy/H8NQ1wvn5+AIhTMXyCpWUlvD8889Tv34d8UTCEuGmycxMhEQiQTici6KoDA4Oujxk1rVu/G4ChvPTNNOkjSSYaaKz01y9epXpaSv5R2FRIS+99BLJZJK+vj4+/PBDfve7txkcHCAei9Pc3Ex/fz8F+QXztpVH95KfX4zPGwRzmmg0QU/PNaanZwiH80gZSSYmJ+nu6SGWSIGq4Q8GyM/Pz4QnmqRNS+QBmKqCqd5oa3WeNo/H4wwMDtA/MIBpmgRDIb7znad49tnvMTAwwMmTn/Laa//GlSutpFIprl7tpKe7mzWrax0vUrY4y57AyGa+SaHs8eD23mSLM8MwnO0W3OGOthBwixjA2Y9veHSEZDJJfkEeZaWlLKuwNlZ+7LFvc/jIEf75n/8PvT29nD9/nj333UdObh6mqaKqOpqiYRrmnH0gF/Q4L8DdPmvcYsZeY5dIJBgcHKSv7zper48dO3axf/9DFBQUOHsKer0+ZwN0dx/MN4li95dpWvscFhTk4/FoTEyMMj4xSjIZR/X5AIVU2vJODw0NMTg0RDAYYNmyCtc5b574ya7PfOPDnuSy7umv13eMIAiC8IfnnhdmbrLXItj7Bd1paugvyq1S1MP8YkLXdcqXlpMTzuFa3zU+/PBDKioq0HUfJlaCibSR4vr1XgaHBllbv5bc3LxMaODNIYfZZM/6zmdM3kq0LrQmZr7Z7DlGbubYQCDAihUryAmFmZmZoe9aH2+/+SbFhYWsrKnBNGFsbJwjR45w9WoHTz/9tLW3lWFgny7b3nHPaLt/ustWUFBAeXk5nZ2dJJMpWltbeeedd3n88Sfw+3189lmjsy/afPW5E+YYi2B5pTKz9JZUVTBMSJsmmmmiZGbXLe2qoiha5qVQVFhMZWUV3V09JGNx2ts6eOXVf+MHyg8oLSslbRh0d13lwIEPMAyDH/7wRVaurJmTBGG+vpuvvIZhMDY2xptvvslHH30EQEVFBX/+Z3/G3r17yQ3lEI9GuXDuHCNDg6goJBNWcgYTMyOUTZdXC7w+L+XlSykuLmFkeITZ6SinTpxk47oNbG/YRiwW4/TJk5w900QyGUfXvZSWLnG8w1kFtwQ/lui3VgkpVvsZKcx0EtU0mI5McvCDA/z76//ObHSWouIivv/9F/jOk0+xsroaXdVobWmm91o3hpFyMklmoiVv6dW4VZvOt27MLUSy7zH7b8FgkJycHAYGBhgdHSUajRIIBOb0ib1Btv0sSSQSnDt3nn/8p//D6Ngo33nqCZ5++rsEAkGMtLV/3tq6empW1NDfd90KX0ylMmPNwMhkZk27kmnMV7Zsvqgnbb77yV0vTdPweDzOmkk76mFgYIDu7m5nv8Ps+9r+nDupiqJY+ymWlpaSl5fH6OgoV65cYf369Zm9/GKoqs7A4ICzefv69ev5yU9+7MpqemuP+XzYzw5rLIiXTBAEQbiHhVm24LCxZzCnpqY4efIkY2Nj7Nixg8rKyrueJXZf606Ocxtkt/uSdz6nqmzetpWGHTv4+NhxPvroEEvKy3nggb0EAyFmZidpb2/nrbfepLm5he9///s8//zz+Hw+brWI/05D8273nvv3W625yfYi6KoV6liQm8sD993PmcYmTp08RSptcPrkKYaHhli1ahWmYTIwMMCVzk4SSSvxR05ODmVlZZlwQ8tbMp+R5/6/+3dN01iypJzdu+/n3LkLRCKTDA4O8s///M80Njai6x46Ozu4erVzzvFuYZ1dp/lm0Od4G00z4znELrQ9De8+yGWw3uh/RdVZsqSc/fsform5md6eHqZnIrz/wXt0dF6hpLTU8WR1dnXi9XpQNI2X/+JlJw27MufcN/df9nvBYJDi4mJmZ2eZmZlhamqKX7/yCv3X+zFNkzNnmmi/0k7KMMAwKC4pobCw0KmHqSqZDJ2AaeDRdVavXs2uXbvp6upiZnqajo52/vZv/x9WrKwmnU7TefUqfZnz5+fnsmfPLlauXOls++CE+WWPTYXM2jrFChlVFEzFJBQKsbR8CYoCoyPDTEem+O2//4axkWGKiku50tFB02efkYon8Hg0CnLznGymlhdz/rFvh8i51xvNt/4sexy6x1L2WFUUa++/0tJSLl++zIULFzh//jybN292NvL+3e9+R2Njo+PVMgwDXdMI54bxeDS6u69y/NgxlldUsHPnLvz+ABMTE7Q0X6K76yqmYRAM+PH5PRimgaqoBINBPB4PY+PjdHZ2UltbS25urvOcdJdvofG90MTPfF6k+drB9gKqqkogEHDWkl28eJFz586xbt060uk0V69e5Y033qCpqQnDMEgkEk5yIrtP/H6/s2dZV1cXubm5ztrTNWvWsHHTJj44cIB333vX2S8xGAwxMtLP0aNHOX78OFOTU5SWlJKfnw+YWJvCu/fmu7kP3d83dlbdoaEhzp07RyqVYtOGDVSUV7jW4ylzfgiCIAj3BvekMLO/qOcL57ON68uXL/M//+f/ZGBggGeeeYaXX36ZwsJCZ8b4bq5l/1zouOzPZK8hcRsodsIN29AwDIPly5fz3PPPMzQ8TEtLC3/7t3/LgQMHKCwsZGJigqtXrzI0NMSyZcsIBoO39ZDZZbCNS3d5dF2fYwRnGx9ucWX/372f2HyeMvd72UkoNE2ndk0tzz3/fSampuju7iKeSnO5pZXW9nbH0AHIyclx0rLfCAezREx22y8UamTvbxQMBti1ayfnzjVx6NAhUqk0ExOTHD/+MclkEl3X8fv9mOk0GAYaCpqi3uSlyRaF2cInOyPffELW7V1SUdBVFU1V0DUr0YquaQRDIXbv3k3vtR5ef/03RCYniExP8VlTI+AKT9QUwuFC/F7fzSJ/HgGZLaA9Hg+6rpOTk8POnTtpb2/n6NGjRKNRPv30U86dO4dpmkSjUZLJJKqqsGpVDQ8++CAlJSWMjIzM8UCrmoapWmGrRUUFPPLow1zv6+H4sePE4zF6eq21UKZqqWwThdy8XO67/34eeughQsEgkelpZ1wqmXGrZJKrWEGY1kvRNCs0T/OAoqJ5dDZu3MC3Hn6YN994g7HRUVouXeZqRyea7iEajZFIxNF1lfIlS3l4/0PUrqyx1sh5lJsFIHOfLfb9k73e6FaTL9n3jltULFmyhI0bN9LY2Mj58+f5+c9/TllZGbFYjP7+fgYHB0mn03i93hvn0TSqli/n0Ucfpa+vj/NnzzI6OMiH9R8SDocZHh6i/Uo7w8MjrK5dw+5duygtLkHDJCcUoHzpUsLhMP39/bz22mtcunSJPXv2sH//fnJzc287SeOeiJmvHea7L91t6P68ruuUl5ezYcMGWlpaOH36NNevX6eiogLDMOjr62MgE5ZqZayNO54zwJmwUVXVab/169ezb98+tm3bRmVlJQ89+CA93dbau3/4h3/g6NGj5ObmMjw8nNmiw2Df3n08/PDDFBUVMTY2Osd75y7/fNEO7sySJz49wS9/+UvSqTQvfP/7PPPMM5nJi692X01BEATh68s9J8wUxUrtHggEbusB83g8zl47n+c6gGPEer3e265n03WdcDjs7H1kiwS3cWLv7eMYLYqC7vWwdds2/vqv/5rXX3+dc+fO0dh4mnQ6haZrBANBtm3bylNPfZdHH310zr5CC9U7EAjctJeQnS3SLqPdLm7jPRAIkJubSyAQIBgMzjlvKBQiNzfX2cNoTiKTzLEFBQX4fD7n3KqqEgrl8NDDD1JQmM/vfvcm586dY3JyIpNm39oTqaSkhAceeIDvfOc7rFq1irGxMYLBIHl5+RiGQSiUMyfs0NVTN/WZqiqYZprqqmr+w3/4MV6vl9OnGpmZnSWdTpMTyqF2zRpCwSCXLp0nOjtLKBTCXr2vqioer4fc3Fz8Ab8re5tlcOXk5JCXl+d4I+xy2X3q9/vJzc0lFArdJOjsvgmFggSCPrxeD7qmo+saJaXFvPDCC5QvXcL7773D1asdRGdnHe+az+9j2bJlPPzwwzz6yGMUFxfT09ODx+MhLy8PXded0Dgbe1+tnJycOUa/pmnU1tby4x//mKKiIj755BNGRkZIJBIoikI4HCYnJ4f6dWv59uOPs2fXbmtSITOmQjk5mTLduLd0XWf1qlX8xU9/SsWyZRw5coSRkRHLmDUNPF4fS5cuZf/+fTz5xJNULlvmlMXeFyyVSlnCHEuMaeoNsR8MBskryCcUtjZYNk2T8ooKvvfcc+SEQhw+dIjea9eIxWKkkgn8fi/5+bnUrKrhkUce4cEHHyQ/vwBFm8cr58Jux+z71z0GAoGA81yY7z70+/2Ew2EruUlmfIRCIe677z4GBwc5ePAg3d3dtLW14fV6KS4upqGhIZONs895tpmmteH2/fftIRab4YMPPqCtrY0PDnxghXeqVrs0NDTw5He+Q8OOBnRdwzQNfD4PtbWr2b59O4cOHaKnp4eJiQmKiorYs2fPgok77D6x73P3+HV/xu/3EwwG54x/9zPS4/EQDAbn7AVXVFTE448/Tjwe5+jRowwMDHDt2jV03doT8JFHHiEej3Pu3DlisRgTExPOxE1eXh47duygpaWFCxcucOnSJWZmZqwNyrGeI1u3bkVRFN566y3Onj3LiRMnSKVSTqjjvn37ePrpp6mpqUHJrCuz91YMhUJztkJwT3wEg0GnXew6ej1evB4vaTWNnklWdKtxJQiCIHzzUQYGBkx7I9/JyUlKS0upqqr6gpn3vn7YM7bT09NcunSJ8fFxK8PamjWEQiGnvvaXZiwW4+LFi4yNjbF+/XrKysocA/tOrmWLjp6eHq5cuYKu69TW1lJRUUE6nZ6TQtr2MLS0tDAyMkJBQQHr160j4A+ggLMmp/faNdrb2wGora2lqqrK8UbZaydGR0ZpaW1hcHCASGQKTdNZsmQpdXV1VFRUOIaB20BwlyOdTtPT00NbW5tTzqqqKlauXEk8HufChQuMj4874rauro6ioiJM00oO0NzcTF9fn7MvUV1dHeXl5fT399Pa2ko8Hsfj8VBSUkJ9fb1jlI2OjtLa2kosFkNRFPLy8lizZg3hcHhOGUdGRujo6GBwcJBIJEI6nSYcDlNTU8Pq1asdARGLxbhy5Qq9vb2OEbhu3TqWLl26oNfT3RymYWU8NIwU/f39tLS0Mjg4BCaUlZWxunY1iqLQ2tpCKmV50Orr6ykvL2d0dJSWlhYmJydRVWvj2Q0bNhAKhZx6Tk9Po2kaS5cuZe3atU5/DA4O0tLS4gicsrIyNm7ciJWdME1//3Xa2tqs7QAUnbKyJaxes8by3mGl8U/E4/T0dNPd3cXIyHCmTVVKSkpYtWoVK1assIxAU2F6epq2tjaGh4fRNI1AIEB9fT3FxcUkk0lng++BgQHS6TR+v5+VK1c6a7sMwyASsdLKd3Z2Mjk5CVhGcFlZGbW1tSxZssT5bDQapaOjw/Fs+Hw+Vq9e7WQKtcfm5OQkbW1t9PT0EIlEQFEoKi6msrKSFSuqyQvnOv2YTCad+8zOsFddXU11dbUjjgYGBmhpbSUajeLz+6goL6eutg49kxQlFotxtauLzo4ORkZHSSYT+P1+JwtjRUUFqqZhYM7x5GTf89PT07S2tjI8PExpaelNz5d0Ok1vby8dHR0EAgFqa2spLS2d87ydmJigpaWFSCTCsmXLWLFihSPgTdN0xtC1a9eIRqMEg0EqKyuprq5mamqKnp4eCgsLqaurczZuthPk9PT00NnZydDQEMlkkmDQb43n1bUsXVo+J2uh/Ty4fv06Fy9eZGBgAL/fz9q1a1m/fv2crK7uZ2c8Hufq1at0dHSQm5tLXV0dJSUlzvumaTI8PExrayvJZJLly5dTXV2dyXZoPaftcXft2jUKCgqoq6sjNzfXETyTk5O0trbS2dlJPB4nHA6zfPlyli9fzszMDB0dHei6zooVK6isrHTKZ4d9Xr58mampKef+qqiocOphr1Xr6Oigv7+fWCyGz+dj+fLl1NbWUlRU5PS7/Zy5du0axcXFrFmzxrXuDMeT19bWBkB1dTXLli1D13UmJydpbm4mlUqxZs0aysrKvlHfuYIgCMLdc88IMxt79nTuwuubs3bBDcPEbazcDfbxcOvU9O4QPkc0OEke7A9ZKeRt4y5bWLgXxWfXA3AWumeHJmaX1y6LexPrhT5nzwDbf7PFoTvxgR2S5Bar7jCm7PVZ2Uk57M+m02kSiQS6rs+ZhbfHqb1uwy6Tux522ebbY2j+drjx0zCsPbXcfWPX017Lo6oqpqtOVhu4EiUYGWPeFdblbiN3W2QnhgCywuHMzHoWUFWXuFYy+SxNM7M9gImuaxiGmfEsZjZ3VhQn5b+m6XPa3V0WG/t9+292ogU7jNZ9P9lj0zRN9IxHyl0P931lt2f2PnPzndM+1n0/ZYfSuvt6oXDB7LraYzf7nHYZ7PHiLtOtvOzuc2dnPs0OcbPHjnusuttovjawx4c9zrPfs+tuP7Pcky/uttZ13TmPu73c49vd5u6EH+77Mzs00d0O2X9z/91+zz225nsuZp/HXT/3Gje3J8ruy+x73t0G7jpkh1q6r+PuP/v/7n5z37Pu/s2ut93O7nbNfuZnP7sFQRCEe5N7MpQxnck0lh1aYuM2AL7otWxRke0ls993Gzh2yJaZsoxCFGWOG0dRFNJGeo6xYONOJuA2uNzcSpTZ54e5Rpz9d7cR624vt3Fj/76QMeo+Jvsz9nXd9XEbTfYaIrcgss9lf36hjWqzRd/tsD9i/VQdkWW3rd02Ho8H0zCcFO1OLguX0ACc/dTcRrK7/guJ35sNXxPDSGcSGqgYhnnT8ZbhrVmfS6fAvLHnWjptiTNV1XCSh8xjbN+43o32s+8X98seT/OJKXf53eVbSIjPZ2S7X25DOnu8uX+6r5EtMLOTs9jnsIWK2/B295MtZm43dtzjOFvQuHGfd6GJgvkEpHvSIXsCxH2c+3i3uHdPKMwnerI3bXe/sieDblVu+6edeCN7nZ39vvv5mi1Q7c/Y95r72eVug+x1rNnhkG7ck3HuZ657osgmnU7PSRzinmDLnjBwnzO7jeyfdn9l3+v280REmSAIggD3oMcMbr+nzh+izm5DZUHBYDofxskr/gWu82XwZZ/vdte5VV+5RcWdnM99upSktAAAIABJREFU3J2XA+a6Lu/+HHd+rTvZ68nZQQsrvNF0/opiJdpXsj4332nvtvzZ7bdQu99tO2fXeSGBny3g7uacn4ds4ef+253yVT1n7qR+tzv3QhMVtzpuIU/YnfJFj7/dub/IePsyy/FVnVsQBEH45nPPecy+jtzRF/jn/JL/YzUO5guRsvk8xs/tRN4fG3/ofr1TA/5uy3Wr89x24mIeFhobd9P3X0bb/jGMtS+rr/5Qx38Z5/6mPQcEQRCEbxb3pDD7OoiVOxNjzoe/0rLcDX80bfclHWcd8oep852Vb36BdPORN3xnX4Mu+0LcTb99EcE4n8H+hxxrf8hzfx3u48Xi6943giAIwr3LPSnMBEEQshGjWhAEQRCExeTOd0oWBEEQBEEQBEEQvhJEmAmCIAiCIAiCICwyIswEQRAEQRAEQRAWGRFmgiAIgiAIgiAIi4wIM0EQBEEQBEEQhEVGhJkgCIIgCIIgCMIiI8JMEARBEARBEARhkRFhJgiCIAiCIAiCsMiIMBMEQRAEQRAEQVhkRJgJgiAIgiAIgiAsMiLMBEEQBEEQBEEQFhkRZoIgCIIgCIIgCIuMCDNBEARBEARBEIRFRoSZIAiCIAiCIAjCIiPCTBAEQRAEQRAEYZERYSYIgiAIgiAIgrDIiDATBEEQBEEQBEFYZESYCYIgCIIgCIIgLDIizARBEARBEARBEBYZEWaCIAiCIAiCIAiLjAgzQRAEQRAEQRCERUaEmSAIgiAIgiAIwiIjwkwQBEEQBEEQBGGREWEmCIIgCIIgCIKwyIgwEwRBEARBEARBWGREmAmCIAiCIAiCICwyIswEQRAEQRAEQRAWGRFmgiAIgiAIgiAIi4wIM0EQBEEQBEEQhEVGhJkgCIIgCIIgCMIiI8JMEARBEARBEARhkRFhJgiCIAiCIAiCsMiIMBMEQRAEQRAEQVhkRJgJgiAIgiAIgiAsMiLMBEEQBEEQBEEQFhkRZoIgCIIgCIIgCIuMCDNBEARBEARBEIRFRoSZIAiCIAiCIAjCIqMvdgH+WDEzLxsFwDTn//BXhKIof9DrfR7MrDZZqMzuz/0x1OtOyK7714Wvun2/qnqbpomiKN+Y8TEfpmliGAYAqqp+o+uazb1cd0EQBEEAEWZfGsb/z957fcdxnnn+n6rqDDQaGWjkRCQGiZkUKVE0Zcqiki3b8kgaj8f7m7Nnzp7jvdizF3PO3OwfsHu1u/LOeMZr73gky1awKEoUk0iKFDMpEowAiERkgMhooGPV76LxFqubAJjAIPL96OCQQnfXm6qLz/d9wqvrGLqOQqJgg7kN1Xs1PFT1u+PwFAbXk8T9Wve7Rdwvc/XLMIxHVkxCvH+qqj7WRruiKGia9rC78dCwjl0IcYlEIpFInhSkMFsA4gatniA+dF2/ybBINjLu1Qi+E6PlQRvciqI80kb+g+B+rM+9GKrRaDShreQ1Ete+03UT15nvXr+b687WhvjRNO2xM9p1XWdycpKBgQF0XSc/Px+Px5PgJbzVHH8X0XWdaDRKIBBgeHgYXddJT0/H5/OhadpjLcQlEolEIrEihdkCIIxFIcYEuq6jqupde4tu5RGby9B9FLxTd+PNm0sYPCgButDG32x9eZTX7F6xCoiFFuXietZ5elzEmXh+xGIxOjo6eO+994jFYvziF7+gtrY24TkiPGpWUf1dngMxBsMwuHLlCu+//z7BYJBXXnmFF1544TsVFSCRSCQSyb0ihdkCMZsdeq9GhTDI5vr/2d7/qHAnfbGG2N2vMSQLBWs7QlB8lw3cR4EHEQop1kncK4+bN2Vqaoq2tjai0SjT09MoimJ6lCKRCJqmYbPZsNlsj9XYDcNgZGSEK1euEAqF2Lhx48PukkQikUgkDxwpzBaCOQzSWwmp20F44WKxGIqiEIvFgBti5lEyzGYTVvMJHkVR7smjeLdYi0gkG/nWvt3v9m/nfdYfwMyxelRI7qMQC2Jtxe+tnjTr3+9nHtFs174db+ytPFHJr99qDHfi2dI0DZfLRSwWQ9M0DMMgFApx6dIlTp48idvtZt26ddTU1AC3LpJxL0V1ZnumWa9xuzmU841ffPei0SiKomC324lEIrN6Xx+lZ51EIpFIJPcDKczuEmXmB+LFPhRAn0WYzCU6hNgC5k32F0afw+FIyLOJxWJmrs3DwhpeJsKsRKiVpmmmwSUM9tk+Lz4rhJEw5hfaCEsWA9PT04yOjhIOh/F6vaSlpWG32++758wqsucTWGJubTZbwr0i5kqs+8MwVpPDdSEuEESfRH+ta5r8OfH/1vtGcDdjsobEiT7NNsfJlf9mu47okxA91msnhyyLvlrHeeNeExsrOqqqgQG6Ifoa/33y5oC4thBl4XCYYDDI1atX+fjjj/H5fBQWFlJRUQGA0+mc8xmg6+Jem32suq6b96LNZrtprOIZM1v4pPV1QfJcJOceivbEexNFPSiKhq4bRKORhLkWzwSRI/m4F4CRSCQSyZOLFGYPAWF02Gy2WYuECISwmZiYYGBggGAwiM1mw+12k5ubS0pKyiNTuUzXdcbHxxkeHiYUCqFpGikpKWRnZ+N0OoG5QzuFUR+NRonFYvfNIyTms7m5mV27dnH+/Hmi0SgZGRk899xzfO9738Pn8903o0+stQhDE16CZET42sTEBIODg2ZIm8vlIi8vj5SUlAXxxt4LVqN6fHzcvD81TcPr9ZKVlYXL5brJkwaJYk5RFCKRSIKxfavCMfOFTFoFk7VgxlzCzfqnVXBZBbT4vFWoWH9vFaI2282P1LioiGEYJAiWZMEn+iJEktjgsHoere3fCnENXY8lXN86T0IACg+dtc/JAku0LQSkdZ6TPbuQ6M2zenzjcyGubwMMFCWWINKsWNtLno9HyXsskUgkEsm9IoUZDzZURhiGk5OTNDc3k5aWRnV1tblLb31fKBTi3LlzfPnll5w7d47x8XHsdjvZ2dk899xzvPrqqxQUFDxUI13XdYLBIJcuXWLv3r18++23DA8Po6oqOTk5fO9732Pz5s2Ulpbe1E9h6HV3d9PZ2UlZWRnZ2dkLnjtk9UZ0d3fzxz/+kZMnT1JSUkJRURFXrlzh448/Jj8/nw0bNtxXsRsIBGhqasLpdFJfXz+rV2F6enpmPvdw5vRpxsdGUVUbOTk5PPvcc/zgpZcoLi5+aKJcGPKBQIBz585x4MABzp07x8jICE6nk8LCQjZt2sT3vvc98vPzZw1ZjMVidHV10d3dTWlpKbm5uQnekbsZl67rjIyMcPHiRaampigtLaW6ujpBOIyMjHD58mXC4TCVlZWUlJSYr0ejUfr7+2lqagJg0aJFFBQUJITcdnd309TUxPXr1zEMg8zMTIqLiykuLsbr9RKNRk3vUnytm+nt7SErK4uioiICgQAtLS309vZit9spLCykqqqK3Nxcc8wulwubzUYwGOTs2bO0t7dz8eJFJiYmMHSdhrPnsGkaWTk5LKqqIiUlBbghQHXdIBgM0dXVRUdHOx6Pm6qKCnJz8zAUAwOIRCJ0dXXR1taG1+ulurqajIwMU5wGg0FaWlro7OwkPT2d2tpaMjMziUQi5rPp2rVrtLa2Mjo6iqZp5ObmUlxcbG4eAOa8jYyM0NzczOTkJH6/H4/HTXt7Bz09fWRlZlFXV0diZdtEr+zU1JR5vyiKQkFBAeXl5WbVSolEIpFIHge0//pf/+t/i8ViRKNRQqEQKSkppKen39HO7HcVa5ihdaf3ToVaYkjOrXf6A4EAu3fv5v333ycjI4OlS5cSDofN+RYi7fLly7z77rucPn2a0tJSlixZQmZmJm1tbZw+fRqXy8XixYtNQ/BBrpUYSzQa5dSpU7z77rscP36crKwsli5dSnZ2NteuXePEiRMoikJ9fT0OhwNIDGPSdZ2LFy/y+9//ntHRUaqqqnC5XGY7CynOIpEIR48e5auvvmL9+vX8/d//PRs3bsTj8XD27Fk8Hg8rV65c8LkU45yYmODgwYO89957uN1ulixZkhDKJwTPtWvX+M1vfsPBgwfJ9+ezeMkSMjIz6eruoeH8eQBqampITU2d9367H1hDQb/++mv++Z//mYaGBgoKCli8eDEZGRm0trbS0NCA3W6noqICt9ud4I0RIW1Xrlzh3/7t3+jt7aWqqsocz63yEq05bFZBG41G6ejo4He/+x07duxA0zTq6uqw2+3EYjEikQgNDQ28++67HDx4kPT0dKqrq83NgqmpKQ4fPsw//dM/8e2331JRUUFFRQXhcJjh4WH279/Pb3/7W/785z/z5ZdfcujQIY4dO8a5c+cYGhoiKysLr9cLxL/DfX0DfPzxR7z//nt0dV2jr7+XP77/Ph9++Ge+2r/f/Gxvby/5+fnk5ubicrkoKiriqaeeQtM0/vjHP/Lv//7vNDY2Mj42xlQgQHNzM6dPnyYUCrF48WK8Xm+CqDUMnXAozPHjx/nNb/6Z06dPk5uTS0V5eTwfVje4fn2Q7du389vf/pa2tjbKy8vx+wtMz97g4CB//vOf+cMf/sDk5CRLlizB5/MRCoXo7e1lx44d/O53v+Pjjz9m165dHDhwgOPHj3P58mUikQg5OTk4HA7zGdHU1MT//b//l08++YTm5maOHTvGn/70J/bu3cPo6Ai1tTUEg0GOHz9GNBpl5cqV1NXVoSgK09PTnDx5kn/5l3/h008/paenh5KSEsrLy03vokQikUgkjwNPrMdMGAxTU1NMT08Ti8XweDykpKSgquqsIUn3ijAeL126xGeffYbdbqempuYmY1T83ev1sn79en74wx+ydu1afD4fgUCAXbt28fvf/57Tp0/z/e9/n7KysofiPRFCoru7m8HBQb7//e/z9ttvU1ZWZhq5//qv/8qRI0dYvXo1GzduTAiBEkZ+QUEBPp+PvXv3UlJSwosvvnhfPICjo6OmANuyZQt5eXkYhkFdXR25ubmMjIwQDAbN3f6FQIgyYZxu374dwzBYvHgxqqqaOTdwY91TUlLYsGEDmzdvZuXq1eTn5xMIBPjqq6/4f7//PWfOnGHDhg1kZWU9lHUXa9ff308wGOSNN97ghz/8IYWFhUxMTLB7927ee+89c92zsrJuClHVNI2SkhLy8vI4cOAARUVFvPbaa6Z4vxtUVcXr9ZKZmcnY2BhXr16lv7/fFC6Tk5NcunTJrHp44cIFnnvuOQoKCgiHwwQCAdra2rh+/TrV1dX4fD50XWd0dJTdu3fz7//+7/T29pKZmcm6dWtxOh309vZy9WoTnZ2dDAwM8M4778x4wDHP5hoY6Gdo6Drnz8fFanV1NTabg56eHrq7e5iY+IrMzExTnGVkZADQ09NDVVUVQ0ND9Pf309HRgdPppKyiguLiYkpKSkzxY10bUHA4neRkZ6NpNrq6uujq7mI6FMTpdBIzdPoHB7h48SI9PT0oikJraxv1i5fGPVyGTu9AP5ebGonEohQUFJCamko4HKa/v5+//OUv/OUvfyEQCJCTk8Py5ctRFIPu7m7OnfuWjo5WRkau86MfvUFOTi6RSJRgMDgzFwMMDg6gqiqpqSkUFxdSUJCP3aEh8u7gxrMyFApx4cIFPvzwQ86cOUNFRQUvv/wya9euxW63P9BoB4lEIpFI7jdPpDCz7tjv2bOHy5cvo2kapaWlbN26lfr6erPowkJ6bADC4TCnTp2is7OTH//4x5SXl5veMoH4e3l5Of/hP/wHMw8kGAzidrtZuXIl+/btY2RkhKGhIcrLyx+450R4LGw2G/X19bz99tusXr2aqqoqotGo6X06dOgQZ86cob+//yYDUowzJyeH1atXc+HCBfbu3cuSJUsoKysjGo0uSEijEIDXr1+nvb2d3NxcioqKiEQi9Pf309LSQigUYnp6mqmpKdOQX0hjb3x8nJMnT9Le3s6LL76YIKat7dhsNgoKCvjJT38Kavz34XAYp8tJXV0tJSUl9Pb0MDY2Zo7tYRilDoeDJUuW4Ha7eeaZZygvL2d6ehqPx8Py5cs5evQoHR0d9PX1mQLU2lfDMExv8YkTJ8x1r6urIxqNJmyMJOcpJWOdw7S0NOrr6zl48CBtbW10d3ezaNEiM4yxubmZQCCAqqq0trbS3d2N3+8nFosxPDxMS0sL0WiUiooKCgsLCQaDtLa2smfPHvr6+lixYgWvvf4aTz/9FA67nd7ePnbs+Jy9e/dy+PBhioqKKCgoxO12E4tFZ/qmEotFqays5M03fzYTtmfQ2NjMBx98wLfffsvFixfp6+sjNzfXzJ3y+/288847bNu2jS+++ILf/e53pKen89Zbb7FhwwYzn094ym7MhYqqGuTk5lBWVkZn5zXa29sZHh7G7/cTnA7S091DZ2cn0WiUkZERLl28zKbnnicjK5OpqQD9/X309faS6kmhuLiYlJQUAoEAJ0+eZNeuXQQCAZ599llee+01Kisr0XWdq1eb2f7Zdg4fPsSevbspKytj8+Yt6LrV02ngSfGwZvWame9BOT5fOh6Ph77eAQwj8Vl54cIF3nvvPU6fPk1BQQFvvPEGmzdvJi0t7YmI6pBIJBLJk8UTJ8x0XScUCtHa2sq7777LoUOHmJqawmaz4XQ6uXr1Kr/61a94+umnTQNxIf7hFzlOHR0dnDp1itTUVGpqauI72EmJ9wJheIhqZCIka3x8nKmpKex2O2632wx/fNCIQgV19fXU1NZiAKFoBE3VYCYPJRa3ysyMkWQBKq5RXV1t5nsdP36cgoKChPfcaz8hnt8VjUYpLCxkcnKSzz//nGPHjjE4OMjY2BhZWVkEg8F7asuKNVzz2rVrnDlzBofDQU1NDV6vd05RZeY0YaDH4utq6AYTE5NMTk5is9keWm6NaNPpdLJmzRpWrVpl5hHZbDbTyyFEtRi/pmkJFflUVTXnoqioiJaWFk6dOkVpaSlOp/OOBae4pggFzMzMZHBwkK6uLoLBoHl4c3t7u/mZgYEBmpubWbJkCYZhMDQ0xMDAAB6Ph5KSErxeL+Pj45w7e47Wq1fx5+ezbds2vv/C93E63Ri6QVZmHjabk5GRUY4c+YZTp06xcuUqli5dhmHc2AQqLS3m9dd/yKZNm7Db4+NLTU2jubmZixcvMj4+zuTkpFmwQ2xIuN1uotGoGQ7qcDhISUnB6/Wa3x3ruuiAQXzuMtIzKSsr5eCBGK0tLfT39Zn3/qVLl+jv78flcjE1NUVr21V6ervwpacRGJ+gs/0a4WCIkqoqCgoKUFWVwcFBTp8+zcDAAIsWLeLVV19lw4YNgEIkFiM1LZ2YDj3dPbS3t3D06BGqq2vx+wsBTK/psqXL+Ku3/orlTy/HbnegqjZCoTCqakNR4l5VEXb6wQcfcOrUKfLy8nj99dfZsmWLOXZZ+EMikUgkjxtP1L9swkiMRCIcPHiQo0ePmpUOAUKhECdPnmTnzp3mYa63w60MSGGgh8NhDh06REtLCyUlJZSVlZkVCecy0MXuuWHEQ4UOHjzIH//4R65fv86KFSvw+/0P3FsmEH0X1ds0TTPDi0KhEC0tLbS2tJCdlUVhQcFN4aFCdGmaRkFBAVVVVYyOjnLixAmzoMC9js0qjkR5fFVVOXDgAJ999hkej4fvfe97FBQUzFkl8V4RRTI6Ozvx+/0sWrQIu90OzHPvGAaqAbFIhIHePr45dIgd27czdP06y5Yto7S09L71914IhUK0t7czMDBARkYGfr/frEAJiR4+VVXJyspi0aJFRKNRzp07R1dX1z2NyWazkZeXR3l5OcFgkKamJoaGhsz7cXBwkLq6OpYvX04wGKSxsZHR0VEmJyfp6OhgZGTELMihKArDw8NcuXKFSCRKXW0dy5YuxeVyo2k2bHYndoeLsrIKNmzYQFpaGp2d1+js7ERVb4zBbrdTUlLK4sWLcbs95nfabrfj8/lwuVxmqJ+YF+uGRHIVS8FsZ9op4veahtvjpri4mIzMTK4PDdHX14cejTExNkZraysOh8P0dg4MDNBytYVYJEpgYpKW5quEg0EqKyupqKggpuv0DfTT3NqCZrOxbNkyamtq4u0rCna7gxSPh9qaOtatfQZVtdPc3EJ3t3U9DdxuD9XVi6iqrMQxU63VWrVTVVUikQiXL1/m448/5tixY6SlpfHqq6+ybds2MjMzH7l7XiKRSCSSheKJ85gJQ72trY3R0VEcDocZSigqoYnQNiEyFiKUDmBsbIzLly+j6zo1NTUUFhaaJbnnQlHih0o3NDTwu9/9jkuXLjE+Ps7q1at58cUX8fl8RKNR09B/kOi6jgJoqoqmqcR0nVgs7hns7LzGzp07GR0e4ZVXXqa+rm7esXo8HqqqqnC73XR3d9PV1UVubi6RSGTB+jo1NWXmErW3t5OXl8ff/d3f4fV66erqIhwOL7jINYx4OfmmpiaCwSAVFRXk5eXNW3lS9CESiXD+/Hn+7d/+jUuXLjE9Pc2qVav4wQ9+QHZ29n09WmA+knMhRZ8jkQhNTU3s3r2bYDDICy+8QFVVVULZ+eRr+Hw+6urq2LdvHx0dHXR3d1NVVXVXHjPx/szMTMrKyvjqq69MsSWKqgBs2LCBvLw8ent7aW9vp7e3l9zcXDo6OhgfH2fVqlVUVFSgaRqBQICxsVFsNhv5+fnk5OTEjztQNBQFdB08HjdFhUV4PB4GBga4fv06kUiUeHcMVFUxj0gQ4b9iQ8Jut5tHRYTD4YQz7qzhwlavuKZp5vXmwjAMnE4n5eXxfLSz335La2srw8PDdHRco6OjA7/fz+bNm7lw4QJfffUVLa0tjI2PMTo6Qn9fH06XywxjjMZiTExMMjE+gcvtori0mIzMdFRFQdNUDFQUFLIyMykvK8NutzM+Pk5gasrsj67H58Jud2CzObBpdmLEzFBXUYRqeHiYgwcPEolE0HWduro6Nm7cSE5OjjlvUpxJJBKJ5HHkifKYwQ2D0OVy4XA4zH/khSFks9mw2+1EIpEFr8w3PT1thqLl5eWZ5zzdqh1FUXA6nWRnZ5ulqLu7uzlz5gyTk5MACUUkZmv7VhUj7xXdMIjoOuFolN6+XnZ8toPz586xcsUKXnrpJXw+X3ys6s0Gupj3wsJCfD4fQ0NDdHd3m2dD3SuiPZHnJHLJsrOzzcIUYm4WOrdMtDc+Po6maeTn5+PxeOZdL9FnVVXxeDzk5+dTUFCA2+2mra2NkydPMjAwcEtR9iDWHTDDF1tbW/n000+5evUqK1asYMuWLXg8nnnXUFVVfD4faWlpTE1NMTo6ar7/bvqtKPHz3hYtWkReXh79/f20traapeF9Ph+LFi2iqqqKvLw8enp6uHz5MsPDw2YJ+8rKSnw+n9mHaCyGjoGhQGymnHz8P4jp8TBTY2YsoqiQoccPlVYUFeswdP3G0Q2iv+IZkLxes+VkCu/v/JMAcUGokp2dTXl5OQrQ29tH/+AgHZ3XCAQCVFRUUFNTQ01NDQ6Hg6tXr9La0kZ7ewcDA4MU+AtZVLUIh9NJJBYlosfnQVVVVJEzpsbDlOPhk/FNGpumYVc1FMMgFomi6yKElZlxmZ00BZth3PieirMbp6en0XWd69ev09HRQTAYTJg7iUQikUgeN54oYWYNoSotLTUrjQkDNxaL4XQ6qaioIDU1dcGMdGFQTU5OEggEzDyR27m22CGura3lV7/6Ff/4j//IT37yE4LBIB9++CGnTp2a9zrJxu1CGelmcJICugKxmeuOjAzz4YcfsnvPHrJyctj2ysuUlpdjEA8zY47mVVUlPT0dh8PB+Pg4IyMjC9JPuDFmu91ueiB1Xaerq4urV6+a1Rit520t1DwJYTYxMYHT6SQrKyvh2IDZ3i/6YLPZqKmp4T/+x//IP/zDP/Czn/0MwzDYsWMHZ8+evWVRjNnmYKGwCgVFUejv72f79u188803lJSU8Oqrr1JRUTFvHp34MyUlBbfbTSgUYmxs7K43Ray5a8XFxfj9fsbHx7l69apZbTE/P5/y8nLy8vKoqKhgenqa9vZ22tra6O/vx+fzmSX+dV3H4XBY1ivxgGhdN1AUHVVTUJTEME3d0C39utFHVb2RG5V8SHPyeiZvYCR7WOf3tMff6/F4qKysxJuWRldXJ01NjXR0dABQVlZGYWEhRUXFZGfl0NvTT3tbG93dXUxOTVJQVEBefl78GaSqOO12bDPh3QagqAo6BqgqiqqCqhEz4mOP6TFiM7mF1uIkYj7iXVdQFA1F0RBPFDEkr9dLZWUlaWlpNDY2snfvXq5du3ZfquVKJBKJRPKo8MT9K6eqKk6nk+eff56mpib27NnD2NgYNpsNl8vFpk2beP3113E4HDdVh7sTFOLGizEjWnQMRkdHmZ4M4HY48bjdt7xGguGmqnjTfaR4vWRkZzEyOsqe3bu5cuUKmzZtmvVgXvH/4tBYa8L8QlXz0w2DmK4TmSmb/+Gf/sTuXbsoLirmb37+c9auWweQUPhhrnaFt1KENS0kwjPjdrtxuVzU1NSwc+dO/vt//++kpqbS29tLTk6OGUq3kIRCIYLBoBmCJphrDcQxBEKcZWZmkpGRQX5+PpOTk3z66afmuqemps5avdLqdUoWUQuBKGoRiURob2/no48+4vDhw1RXV/Pzn/+cJUuWEIvFTDE8X5ETp9OJx+MxcxPvdu1FO6qqkpmZSUVFBRcvXuTs2bP4fD5isRiVlZXk5+eb1US//vprLl68OBOyOEZVVRXFxcUzFwS3240vzYeKwuT4BFOBABkZmfHQPUUFFEKhEMPDw4RCIRwOBx6P26zqqqnazNzrs26SJG8E3M76WNfWemi7+VljRuYo4Ha7KCstpcDvp6e3l4MHD9Izc6/X1NSQkpJCQUEBlVWVHDhwkKPHjxMKB7HZbZSWlZGemYVuxMMPvalevKmpTE6MMzE+zuTEJN40H5pNxTAUopEYwekpRoZHiURi+HwuHA5nQi5cfLxxgRr/U/TbLA+E1+sPVfVXAAAgAElEQVRl69atbN26lTNnzvDRRx9x4sQJ8vLySEtLIz8/HyDBYyxDGyUSiUTyOPBECjO73U5ZWRn/6T/9J2pqajhz5ozpndi6dStlZWUAt138Yz4MAKvxpYDCrY0Iq6EWi8XQDQPdMAiFQ2iaRk5uDpqmmd6FZEEmPtvf38/FixcJh8PYbDbKysoWRHiYJqZuYERjDPT28tGf/swXOz4nPzePd956m/Xr15seDOuuuajiN9uYhWFtrUx3L4jPa5pmeinD4TAvvfQSKSkpXLlyxZwXp9NpVnxbKITxLMIlrWGTc/XXWs1QnOckKhtmZWWhaRrBYHDW/DvxucHBQRobG5mYmDArFVZWVt5Uxe9uxyTaaW1t5f333+fw4cNUVVXx13/91+Yh3bNVNFWIVw7UmbmGZX4WIn9IfBd8Ph9Llixh7969nDt3DrfbbRYacc4UnRBetUuXLtHd3Y2u65SWlpKZmRkXu4qK2+0mOycbgJarLbS2tpLn96MbKoYRBUNn6PoQ5883MDw8THFxMfl+P5rNFvcmk1jS3VoO3tpfaxjjTQU9ksIYhcfXMIzZN45u1NpAVTUys7IoKCri0pUrHDt2DLvNxjPPPENJURGapuFL91FZWcGhQ19z+swpbDYNn89LaWkJKR4PhqGjaTbS0rxkZWfS2nKVK1euzHgY0wkHQyiqSjQWo7O7izPnzhKKRPAXFpKZlWX5HivEgzQ0EoM1dPNHUeLestraWlasWEFGRgYDAwPs3r2b/fv34/f7ef3110lPT08QpRKJRCKRPA7YrAZB8s/jjDjg9p133uGnP/2puXNvs9lMowduP0xstnkzZn50I1723OFwoNlshIJBQsHQvHMdjUYZGxtD13W8Xq+Zj2bTNMZHx2hvazcT/EXFO2tIphA5x48f59e//jXRaBSfz8cvfvGLeJW1mRL992qg64ZOd3c377/3Hl/t20dVeTm/+MXf8szGDdjtdkZGRrh48SKZmZmUlpaiKEpCNUGrkS/EhsfjMXOTFuJeFNfx+Xx4vV66u7vxeDz88pe/ZHp62vTS6bqOx+Mxxe5CVIQEzEIN1gIPyeFdgmg0yujoKJFIxAztdLlc5gHJvb29RKNR0tLScDgc5lpbf6anpzl27Bh/+MMfGBoaIj8/nx/96EeUlJTck9g1w/RmxGJbWxsffPABhw8fpqamhr/9279lzZo1GIZh5gmKM+MADMvRCQYGhqETi8YPHxYbB16v96ZDk5Pnc77nlLjvHQ4HRUVF5OXm0tPVBbpByfLllJeXm8U2/H4/lZWVnDt3juvXr1NcXEx5ebkp4DVNIz09naVLlnL0myO0tLZw4OBB8vLzqayswgDGxyc4e+YMJ0+cnDn/rJzKykpASepf4v1u/fts4iz5+SPuIeHZCwaDuFyum47asLamG/FiG9lZWVRXVXHk0GGuDw6Sm5NDWWkZOTm56DEdj9tNWVkpOTlZnL9wnhSPh7r6GoqLCtFUBV0HTVEp8Bfy1FMraGi4wJlvz7B//37S0nzx6+gGA739fHP4G86dO4fD4aCuro6SkhJzjJqmmZVWxaaDCBefzauvKAqlpaX84Ac/oKurizNnzrBr1y4KCgp49tlnzftEijOJRCKRPC48cR4zK8JAds+EFRpGvLLcQuYxKMx4QRSF9PR0UlJSGB8bZ3hkZNZy58IQGxkZ4be//S3Xrl1j7dq1LFq0CK/Xy9TUFEeOHOH0qVPk5uayePHiWXI44tecnJykvb3dLDxRWFhovl+Ei91teJswHkeGR9i5cycH9+/Hrmrk5eYxNjbKjs924HS76O3t5fSpU2zcuBG/328aU8ltxmIxrl+/zvT0NJmZmeTk5CxY6J0werOysli2bBl79+7l9OnTFBcXm948kUe00EaeyKHKzMxkdHSU4eFhIpEILpcr4X1iPoeGhvjoo4+4dOkSTz31FHV1dfh8PgKBAKdPn+bw4cNkZWVRW1tLampqQj6WuEYoFKKjo4POzk40TSM3N5clS5aYAu9u59Qqont7e9mxYweHDh3CbreTnZ1NV1cXg4ODALS1tdHY2MhLL72E3++PG+TccOYghAfx4wSEZy8jIwNN00wP4d3Mt7hvsjKzqKyopKmpifT0dMrKysjJzQXiGzOpqalUVFSQnZ3N2NgYfr/fvCfEddxuN8ueWsazm57jL3/5C3v37mVoaIjVK1fgdru51nGNo0eP0dPTS01NHZs2baawoIBYLO5xs9vj4bl2u23O8Qgvvt1un9VbZrfbycrKIjU11TwyY2pqipqaGpYsWUJGRsacc6Hr8UJHxSUl5ObmEpicJN/vp6amhrQ0LzFdx6E5KCgopKysgpaWNtLS0igvK8fv96MQzy/TDYO0NB/r1q6lubGRQ19/zV/+sp2urh7q6+tRFIWmpiaOHj3K5OQ4a9euZf369WbRH1FdUlShtObVWfPnNE3D6XSac6FpGosXL+bll19mbGyMtrY2du3ahd/vp76+/rHfQJRIJBLJk8UTLcxEHog19O9ejNa5UBUFNI2MjAwKCwro6Oigq6uTQCBAamrqrHlAwohraGjg22+/JS0tDa/XS3B6msGBAXJyc3nppZd46qmnZi0MYBgGExMTtLa2Eg6HycjIYMWKFRQVFZk5SfeCmLfh4WG+PXOG7p4enDY7u3Z9ye49u01vIcQNw6VLl85ZTU0IYlHavLy8nOzsePjYQgql1NRUli1bxjfffMPOnTvxer0sX74cVVUZGhrC6/VSXl6+YO1B/J5KS0vD7/fT2NhIT08PExMTpkcwec2EaG5oaOD06dOkpKSYFQvHx8fJyspi69atPPXUUzcdP2AtMtPb20swGCQ3N5elS5dSXl5+z8VskoXZmTNnGBwcRFVVPv/8c3bt2mXex8JDGz+AmFnX3jDiHsLBwUHGx8fx+/34fL4Fq8SZkZFOSUmJGUpcVlZGZkaGeU+lpqZSWVlpHkadk5NDUVFRgpdKURRyc3N5+eWXiUQi7N27l7179/LVV3tRZ8bpcrioX7KUV159jQ0bnsHucMQrORoGoVCYQGCKQCBw02aICG0Vh5qL72VyxUabzUZxcTF1dXW0t7ezf/9+Tp48yZYtWygrKyM9PT2ez2YpzCE+rygKdoeDwqIisnKyudLUSHZuDsUlJfGCHTPVIzMzs6msWMThQ0dQFTuFhcX4fBkg8sAMFbBRUVHJD3/0BgYqR44c4aNPPuUv23eYY0pNTWXNumf46ZtvsuSpp1FsNvRolHAsylQoyORUgOlQMP58sHgMxT0SDAaZmpoiFAqZ4bBpaWls3LiRwcFB/vCHP3DgwAHS09Pxer3x9ZVIJBKJ5DHhiQ1ltDJbftadMGsIkvkiYBgYuo7L5aKuvp4Tx0/Q3NxMX18fNbU16LFEQ1SEL77zzjtUVFRw9uxZBgcHCYfDZGdns3bdOtasWcPatWtNYWfthyieMTg4SFdXFxCvwLZy5Uo0TTPDn+51jRVFIS8vj9def52amhoi4TCGHi+JL0LWVE3Dm5rKihUrZg3XisVihMNhxsfHaWlpIRKJsHjxYvLz800hsRD3ojDyamtr2bp1K5988gn/5//8HzN0zmaz8cILL1BcXLxg5ySJfnu9Xqqqqvjmm29obW2lr6/P9AhaxVJcTGTwk5/8hKKiIs6ePUtfXx+hUIjc3FwKCwtZtWoVq1evJjMz8yZhJkLDBgYGaGtrQ1EUKisrWbVqlRnyeq/rLtYtLy+Pbdu2UV9ff1PhmYQwwKVLEz4bs35PDIPhoSEuXbpELBajvr6esrIyU6DOFqZo7cN8zylVVXF7PKxYtZJ3pn4e93wtW2YWI4G416yiooI333yTrq4uli5dSkZGRoLHXFVVXC4X1dXV/PKXv+Tpp5/m4sWL9A/0EQoF8aX5KCurYMWKVdTU1OB2u1EUFVWx4fN6WbVyJd5UD+XlZaSmpgJGQvslJSVs27YNl8uF3++fdY0URaGoqIi33nqLrKwsOjo6cDgcLF682MyXM79bJIYzKoqCqmnk5uXxg1deprK6mtqaGrJzc+Kl/+MzitfrZfWaNUSiOi6Xk+XL488KxDwrgKrg8aSwcuUqCgoKWbduHZcvXzaPOEjPSKeqqoqnn36a8rJyNFWbOTZAJS83l83PP099XT2LFy/BZglpFAKysLCQV155hXA4THl5ecIcZGdns23btplDvDvJy8sjEAiY87UQ+agSiUQikTxslJ6eHkNUjRsbGyM3N5fS0tKEfzAl86PrunkY6lxFLUQBhytXrvA//sf/YHBwkF/96lf84Ac/mLNinjBcRF6JruvY7XbTe2b19In3i8+Ew2H27NnD//7f/xvDMPibv/kb3nzzzXlLtd/rHABmBbbkebC+bjWwxaGyDQ0NvPvuuwSDQf7zf/7PbNy4cdZqg/eCaHdsbIzTp09z4sQJ+vv78Xg8LFq0iHXr1lFdXb2gbYp74/Lly7z77rtcu3aNv//7v+fVV18125jNKxiLxZiYmGBqasoMr/V6vXg8HrN/yRsKYt3379/P//pf/4twOMxf/dVf8dOf/hSv1wsklqm/G6xeDpE3Zx1D8r1obU/8v8gnEuv+P//n/yQQCPCrX/2KjRs3AiSII+s1hegT99l8ayU8sWLdrZ+xzrPI0xOhc7OFHIqiG+LvYl0cDgdutycu+IhvRojuxO9vHcO4UZHUKvpFrp51PkUfZhtLLBYzz0JUFMXMPZ0v5FOsQ3SmfD3MlOBQVLSE+04xD4dXZw6MVxTL3IsfQ0n4/obDYfN8MYfDYebp3ogCEPcB6DPX15LWTdwT1rWw2WxmXp21eI51HsXf53p+SiQSiUTyXeOJDmVcCJLDIGcTJVaDrLy8nGeffZb333+fs2fPsmHDBtLS0mbNqRGfy8jIIGumupkw5kR+nMjHSe5TNBqlsbGRsbExli9fzrp163C73Td5WRYCIeKT+2+tLmg1RpPbj0QiNDU10d/fz4YNG6itrU3IP1koxLXS09PZsmULGzduJBwOo2kaLpfLLAKykAhPXWlpKatXr6a9vZ2GhgaeffZZsrOziUQiNwkzEZaWmZlJVlaW+TtrUZq55mV6epquri6CwSAVFRWsXLnyJlF2r+OxruVswii5eIXV62ndPIhEIrS2tjI8PMzTTz9NTU3Nba3BnXj07XZ7wqZAspgV38sbgmTuPDAxZuENtHqA45NDQr3V+JllGoahzrpuyWd8zXe/i+9XamqquZ63gxnOqCjY1PlL86uqBmgJodXmdWb+NBQwUIg7PBVcLicetysu4jBTBy2ftRygrSSV9RfXnBHFIg8teS7Ea1axn3wNKcokEolE8jgghdkCMl/YnTDsXC4XGzZs4Ny5czQ0NNDS0sKqVasSzvkSiGuJXXVrO8nGcXJIXCwWw2azUVRUxPr16ykoKCASiSzIEQCzjRswKxta+5bcX+vYhNDo7+/n7NmzZGVl8fzzz5Oenn5fBKRoV7QtBJkwzK2HjS9U22LsbrebNWvWcPnyZVpbW2lubiYnJ8fsU3KuGGB6Wa0eAesBx8n9tL6voKCA1atXz1QIvH+ehVuJpGQPnfX9AwMDnDt3jpSUFDZt2kROTs68eXBWsW6di/natt6Dc/XNep355ke8z+o9i/fF6v258f74MG/OYU0Wq1bmat8qbOcSmvMx2/0123fydrnhFYx72uKl+RXzfLK52hbt3EpYJc+Ptc/WtZrtsxKJRCKRfFfR/st/+S//LRqNEo1GCYVCeDwes5KW5NbclFuW9KcVYUympKSQnp5Ob28vPp+P+vr6eYVIskE61067tU273U5paSlLly5lxYoVZGZmLvTQb6uv84WZCQOttbWV8+fPs2XLFjZv3ozT6byv999sRr343f1sMyMjw6xeqGma6RkUr8/XT+HNuZUIcjgc5OfnU19fz9NPP01OTs6Cjm02cTRbWOFca2+G1kWjtLS0cP78edavX8/3v/99szrqfBsct3NvzfX+23nf7WAdd/xzt9eHhWr7Tt5/N8x3bWsOW/y9oMwIMlXqI4lEIpFI7gmlu7vbzDEbHx8nJydH5pjdAcKAtOZBiFyzuYzhcDjM9PQ0/f39OJ1Oc75vF2tY1Xz/LzxY1pDHOzHQ76ZPd3ONoaEhBgcHKSgomCmQkJhjNNs15mrvVver1ePwoBAeTcOInzHW19dnHl9wJ0cz3M7aKYpietrEZ2YT7nfLrZ4Jt/KgWb8vIyMj5rqLg72F+JzNWwI3wv9mO7xacv9JFmYChcQwTolEIpFIJHeOFGYLhBBjt5P/It4rzuoR55ndruE8W5jPbJ8V7VgPdhXcKqTtTo34+Txjt0Lk+YhCEneDNURsvlCw2+3T/UCIQnF2mrWgwa36dau1EuMX1xAeWCH8kj259/N7PZe32Pq6NZ8rEonM+d5kbqfoh0QikUgkEsl3EZvVmLOG5clQxjtDGJu3K0TghnBa0AOtZwz05Otai4vcznlW9zu0L5mFnodHGeFdvZP5Tc6rsXr9rOGDc3nIrN/rO9lwmc97daswVev7kvtkHY/dbr+tviS3KZ9REolEIpFIHieeDEv4AXAnRSOEQWkt+byQWEWVaEuUsBbt3k4RiAflkRDV8USb1r7djfF9J6LjfpMsJO5G8M5WHGS+a8y2sXIvItt6vXv1os9X9OF2vLjSSyaRSCQSieRxRQqzh8CDNC7n8nA8SgbufMb6rQpBLGS795u7be9O1+1+CP0HMVePykaBRCKRSCQSycPAlhzGmPx3ieRhI+9FiUQikUgkEsnjzoNLIpJIJBKJRCKRSCQSyazIUEbJI48MYZNIJBKJRCKRPO5Ij5lEIpFIJBKJRCKRPGRscHOZfJljJpFIJBKJRCKRSCQPDukxk0gkEolEIpFIJJKHjBRmEolEIpFIJBKJRPKQsc0VxihDGSUSiUQikUgkEonkwSA9ZhKJRCKRSCQSiUTykJHl8u8RwzAWvJz7/fJW3s+y89LDev94ko8LSL6vHrW5sPYvuW/itUetzwvBfOOWSCQSiURyd0hhdg8I42ShQz91XV+wa1lR1fvnIL1ffYZHp9+304/7MQ/3c/wPijv5jiiKcktj/0GKAdF3a78MwyAWi5ljUlU1oU+6rpuf0TTtsREvhmGYYzMMA1VVbxq7RCKRSCSSu8OWnFMmc8xuH+scCSNtNsP8VkbLbHM93/zfrRF0P4yn5H7eDw/io+Lpu51+WI342dqZa37mu/ajavTeydzdznut41QU5aa5UhTFFAHi9w9qbqyCzLqWkUgEwzCw2WxmvxRFIRwOE4vFUBQFp9OJzWZ75L1/t4MYvxifw+HA4XCg6/p3cjwSiUQikTxKSI/ZAiJ2kmf7/UJyL6L5dvtyp16a++kxu1Pul4dpIceY3Mf5BO187T7IeU/2GC3U5o247mzXS54TXddNL82D8CRahYiu6zidThRFIRqNMjAwwIkTJ7h+/TrV1dUsX76clJQUxsbGOHv2LI2NjeTn57Nu3Try8/NN8fJdFTDCS9jZ2cmxY8cIBAIsW7aM5cuXY7PJf0okEolEIrlX5L+m94AwsKyhPbcyVu/GkFZVdUEM8DsxpMVu/3eRO5mr2xED94MHvZ4LwVw5UwspNqxtWD3Q1jasc6dp2j21MzcKhgGRSJTWlha+PvQ1sViU5557jkWLFhGNRrl+/Tr79u3j0qVLvPzqK9TW1+N0uZienubbb7/lk08+YdmyZSxatIi8vDx0Xb+t/t5ObtqDzl+zCtTOzk4++eQThoaGMAyD+vr6Wwrl7+qzRCKRSCSSB4ksl79A3O683c28ijBJqzH2IAydO+2rNcRL8Kh5CFRVJRaLmca9qqoJ+TJzeW4eBsnz+aDD9+YieX5m8xQv9LoLj6Iw/u/lOXU7nxHXDoWCXL5ymT/96QPC4TCpqakUFxejKgpGNEYkFCISCmPo8f4Zuo6e9CPuqdvt763CXh+GIE8O0w6FQkxPT5vfmVuFMt6PEGeJRCKRSB43pMdsgbibfJvkggKzvW82Y26uggMPi1v105p7M9/nH8R4rKJM13VisViCF2OhvJPzYRWFySRvjljnwzqfj0JBkPnERrLQnUtg3Oo7kPz+W3mdrAJitvvJWrziVq+DgqpqZGVlU1tbRywWxe/347A7MCweZUXBFGFY7vX5QjRFW1bRJpirT2JMyVgLjcw2l4lj4qb+zdav2fJnrb9XVfWm8EXRh+S2HoV7VSKRSCSS7wJSmC0gybvKAmGYiPwYiBs7Vm+NwBqupSiKWTQgFAoRjUbRdR273Y7H4zFzPh6mOEs29kQ/VVXF4XAkeDjmMgJVVUXTNHN899OQUxSFQCDAxYsXuXLlCtPT0+Tn57Ns2TJKSkruSCjcCdY1vh0vgxCI4XCYSCQCgMPhwOVyJYjHR8UTEYlEiEajGIaB3W7H4XAkCK/ZRLsw2md73+2MyXqfWIVD8u+tf4prz3V9a590Xcdmt7N85UqKS4ox9Bg5OTk4nA7C4TCGqhAzDKKzeAzv1IM+W9+tr2uaNqtYn02EWt8jBKP1+uL+mU08i80K6zNLzIl4TcyN+L4mj9UqSMV7pTiTSCQSieTWSGHGwpzJM5cog8ScGGHYxGIxhoaGcDgc+Hy+m4wZRVGIxmL09PZy8cIFmpuaGBwYwOlyke/3s2rVKhYtWoTdbjeFzcMqwKHrOiMjI5w/f56GhgauX7+OqqpkZmaycuVKFi9ejM/nm1VEqKrK1NQUk5OTeL1e3G73fSmSIAzIsbExdu3axRdffEEgECAlJYVQKERDQwNvvfUWlZWVC+65E/eXMGbHx8fRNI309PRZjelYLMbg4CAXL17kwoULXL9+HU3TKCws5KmnnmLx4sWkpKRgs9ke2pobhkE0GqW/v98UuaOjo2iaRlFREcuXL6eiosLcQJhtPaempggEAng8HlJSUu6pL+LPqakpxsfHicVipKWl4fP5gBvfu1AoxOTkpPl6amqq+dlYLGZ+XlEUfD4f7pRUjLAer7pIXByJSoyz9cMw7qwqazQaZXp6momJCXRdx+fzmX0S/Z6cnGRychKbzUZaWhoej8dcd/F6IBDA4XCQlpZmVkmMxWJEo1GCwSDDw8MEg0E0TSM1NZW0tDRcLhc2my1BrEUiEcbGxpiamsLlcuFyuQgEAoyMjKAoCtnZ2QkhtdaxCW+0mGPDMHA4HOb3WiKRSCQSyfw80Tlms+VO3M2ZQ9ad4lsZysKwa25uZufOnaxcuZIXXniBcDicsEut6zqXLl3i888/5+TJk8RCQdxuN5GYzlQwyJkzZ3jrrbdYuXKluZv+oD0nYv6Ghob49NNP2b17N1NTU9jtdtNI/vbbb/nxj3/MCy+8gMPhuOmzhmHQ3NzMnj17WLVqFevWrcNms5ljWsh+hkIhGhsb2bdvH6mpqbz55ptkZGRw6NAhGhoaaGhooLKy0vzMQiHaj0QiNDU1cejQIUpLS3nppZcS7hdxLw4ODvDhhx9y4MB+otEoNpuNaDTKyZPHOX36FD/84Y/YtGkTqampD/x7KtqLRqM0Njayfft2Tpw4QSQSITU1lWg0ytGjRzl79ixvvPEG69evT/CaCqLRKFevXuXgwYPU1NSwYcMGPB7PbffB+owS8xaLxejt7eXzzz+nr6+PtWvXsnXrVlPIRKNROjo62LFjB1NTUzz//PNs3LjRvG4oFOL8+fPs3r0bRVF46aWXWLZsGRcazvHFF18Qi8XYtm0bq1atSvAUJTK7d3C256qu6wSDQa5cucLOnTsxDIPNmzezfv168z3T09OcPXuWffv24fV62bZtG3V1daanfHJykgMHDnD8+HGKi4vZunUr5eXlRKNRQqEQV65c4fjx4zQ1NjI0PIxmt1FQUEDNompWr15NVVUFDqcDPaaAodDf38/uPXu42txMUXExXq+Xq83NdHZ2UlBQwM9+9rMEYSbGJLxn/f39HDlyhAsXLuBwOFi9ejXPPfccTqfT/IxEIpFIJJLZeWI9ZiK8xhqmI4w3TdPuKPTmdoWsCB3q7u7mD3/4A9euXWPdunU35RHFYjFisRhnz55lz549VFZW8trL21hUVcXQ8Ai79u7l6NGj7Nixg5KSEvx+/0MLaRNnNvX29lJUVMQzzzxDRUUFoVCIr7/+mv3797Nz505qamqoqqpK8J6IsRqGQWNjI62trWRlZbFkyZIFH49hGExPT9PQ0EA4HOYnP/kJzz//PABut5u2tjba29uJRCI4nc770n5fXx+ffvopTU1N1NbW3mTgCiYnJxkcHKCiooJnnnmG0tIygsEpDh78moMHv2b37t1UV1cnzOeDJhwOc/LkSQ4cOEBFRQVbt26lrKyMqakp9uzZw/Hjx9m+fTv5+flUVVUlfNYantfW1sb58+fJyspixYoVCSGNd7NBYhgGbW1tHDlyBE3TWL16NS6XK2H9P//8c4LB+EZHfX09GRkZ6LrO1NQUly9fZs+ePeTm5rJlyxZ0XWdoaIgTJ06g6zrr1q3DwCBm6OgKKOr8BVnmei5YQ/yCwSBnz56lr6+PnJwcli9fbgqZsbExjh07xpdffklGRgalpaWUl5ebz66xsTFOnTrF/v37efbZZ81n2OTkJN988w3vv/8+V65cAcDj8RCLxbjQcJ5vDh7i3Jkz/PgnP2blqlXY7Q5QFMYnJznbcI6DBw7EvZgGBCYmzHyy6elpILHgi/geDw4O8sUXX/Dpp58yOTnJhg0byM/PNzdqpCiTSCQSiWR+nkhhJoyKoaEhGhsbaWtrQ9M08vPzWbp0KV6v1wzxWSiEEROc8XZdunSJ5cuXU1tba+YQCUSOi9frZcWKFbz55pusWbUKVVUJhcN4vF46u7pob283d7IfhodTGNAZGRm8/fbbuN1ucnNz42GY0Sher5fu7m56e3vp7e29aayqqmK32yksLGTlypV8+eWX7Nu3D6mJNs8AACAASURBVL/fT1ZW1oIac4qiMDIywtWrV8nMzKSqqopYLEYoFMJms+HxeAgGg4RCIdMoXkiE8d3Q0EBtbS21tbU3FRoRmwQFBYX88pf/Hy6Xi9zcXFRVZXp6GofDTVtbB9evXzfPznpYoYyappGdnc2aNWt48cUXWbt2LaqqEo1GcTqd9Pb20tnZSU9Pz00CUozT7/ezePFiPvvsM/bt20dRURG5ubl3nZOkKAqZmZksXbqUixcv0tXVRU9PDwUFBei6ztjYGB0dHeY92NbWRl9fHxkZGUSjUSYmJrh27Ro2m43a2loKCgrMsTocjoTcq3tFbE6I505NTQ39/f10dXUxPDxMYWEhwWCQ/v5+WltbMXSd0PQ0LVdbGBsbIyMjnUgkTG9vN11dXaSlpVFVVUVmZqbp+fvkk09oaWmhqqqKdevWUV1djWHoXL50icOHDnPi5Elsdhvp6T5q6xab95LT4URVVKYDU+Tk5LB2zRoqKiooKysjNzeXrq4uMzogGo0SDocZHR3lq6++YufOz5mcnGDDhg28/fbbLFmyBLixKSWRSCQSiWRuzFBGmDvk5nEjGo0yMjLC9u3b+fzzz+no6MBut5Obm8srr7zCj3/8Y7Kzs2/bELudeRM75P39/Zw+fZpgMEh9fT3p6ekJRSCsVcye37yZ1WvWkJGZRVTRiEV0DEMhJyeHNK+Xzs5OMx9mrsOt7zeGYeDxeFi0aFFCUQCRQ5WWlkZnZ2e8WEJS8QKx0+7xeFi8eDGHDh3i+PHjrFq1ivXr1y+oMSc8H8PDw1RXV+PxeGhsbOTMmTO0trbS1taG2+1menqatLS0BQ2jFG2fPHmSyclJamtrycrKumnNxN9TUlKoqKgwc3aCwRCKopGamobbncLk5CThcDhhHh80TqeT5557jpUrV+L1ek1RJsRReno6o6OjBAIBgAQvmPgzNTWVpUuXcvjwYc6cOcPq1avJzs42hdl836W5nlsOh4OioiJTHPb29hIKhQiHwwwNDdHW1sbExASKotDV1UVnZ6cp0oeHh7l27RoARUVF5jNArGFiIQ1uWjtd14npsZueA/M9HxRFIT09ndLSUgDa29sZGBggPz+fcDhMd3c33d3dBGeK6rS3t9HX348vPZ3pcIT+gev09PSgaRp+vx+Px01/fz/Hjx+jqakJv9/PG2+8wYsvvmiGvi5fvgKvN42PPvwzDQ0NHDlylLz8QtJ86SgG8YqTuk5hQSGv/+iHvLTtZTIyMtE0G9FoiGvXrpn3nqqqTE5OcvjwYbZv305//wDLlz/Na6+9bm4+WNdfIpFIJBLJ3DxxW5ii0t2JEyf44IMPuHr1qpn039bWxkcffcT+/fsTjLCFQORhiIIOYpfcargIhDjLSE+nuLgYl9uJohhoqkIsqtPZ2c3o6Bher9cUEQ8rTEiIwnA4nFDYZHBwkGPHjtHS0kJeXh75+fk3VSG0luwuLy+noqKCvr4+Tpw4QSAQuCn/714QOW+GYeDz+bh48SK//vWv+eKLL+jp6SEWixGJRG7yXi5Eu+FwmMuXL3P16lVycnKoqqoyCzTM9ZloNIauA4ZKJBxlcGCQ06dP0dXVSXZ2Nrm5ucRisQXt652SlpY2IwY8ZgXRWCxGT08Pg4ODuN3uhDw46+YDYBY0KS4uZmhoiNOnTzM8PHxXRrz4zthsNnJycigqKiIYDNLa2srExASGYdDS0kJXVxd+v5+ioiKmp6dpbm4mEAgQjUbp6elhZGSEzMxMysvLsdvt5vVvFlUGhm6AbqASf5BqioKm3Pg+36qAjXjd7XZTUlJCVlYWQ0ND5kbGxMQEzc3NTE1NUV5aRlZWFv39/bS1thKJxpgKTNPd3UMsFqW8vGymqij09fXT2NiEqqqsWLGCZ555hrS0NKKxGAaQmZ3Ns5s28fSKFQSmApw7d47Ozs6ZYwgUDEPBbndQW1fH5uefx+/Px27XUNXEIi6GYTA8PMy+ffv46KOP6OvrY82atfz8579g+fLldx2SKpFIJBLJk8oTJcyEoR8Oh2loaKC/v980JsUu/dDQEN988w1TU1PmawvVdiAQoKGhgUAgQHl5OQUFBXMab8KoiUajKCjEojEi0TDjE6McOXKY4eEhqqqqKCsrM6//sBAhWbqu09fXx44dO/j1r3/NBx98QCwWY8uWLZSXlycctisQFSV9Ph+VlZVomkZLSwsDAwPzek3uFDH/4XCYQCDAsWPHmJiY4Gc/+xl/93d/R1VVlWncL3Ru2eTkJE1NTUxMTFBYWIjf7zdfn7ut+O/7+vr4YucX/OZffsNnn+0gLS2NF154gYKCAqLR6IL1826w5kkpimIK8tOnTzE8cp2qRRWUl5cCc6+h2+2mpqYGu93O1atX6e3tveOz5KwiyG63k5eXR2lpKdPT07S3tzMxMcHU1BTt7e0Eg0FWrVrFpk2bUFWVtrY2RkZGCIVCdHZ2Mjk5SXFxsZnHZR3rQgsMcb85nU5KSkooLi5mamqKzs5OAoEAo6OjdHZ2xr2Tz29i5apVTExO0NraxsT4BGNjYzQ3NxKJhCkuLiY/P9cM2fz/2Xvz7zbOM8/3U4WFWEmABMAVJLiJkihq3+1EkeVVTndiJ+6Mp+f2fubmnpn/aM7cOaeTyaSdTnwdtx3bcWzJkmxJ1mYtFCWuEvedIgkQa9X9AXxLBRCkKAmSLOn9nENxAarq3Qp6vvUs7507d3A6nUQiEQKBAKpqxWZzgMWGYrESCITYtHEzDoeTubnZZc/m3eJFVqsVt8eN3eEQrc0pjKTrOvF4nPPnz/Phhx8yNDREU1MTb775Jjt37sRms913rq5EIpFIJM87z93/miI8LhaLkUqlcvaDEl9mMVYsw0J4bAYHB1EUhfr6ekpLS9fcy8ooTKJr6LrGwvwdvvzyC06ePEmgooIjR45QWVn5vdgnSIzbzMwMx44d48SJE4yNjVFaWorf78/ZrypfbAlPR1NTE36/n5GREW7dumWct1jtW1paIpVKEYvFGB8fJxKJ8MILL1BZWWkUiHgUuTCLi4uMjo4CEA6H8fv9wL0KRmhkMimGhgc59uUxvvnmNGNj4zgcDsrKylDVJx8alr+/1dzcLCdPnuDrr09RVVnJCwdfIFQZAnRQxFfu8R6Ph8bGRrxeL5OTkwwPD9/33nzmcVAUBa/Xa5xzYmKC0dFRxsfH6e3txWKxsHXrVg4cOEB5eTlDQ0P09vYyPz/P0NAQyWSShoYGI1eyYDuM7uhkZyorPYVQXW8ouNmD6Pf7qampIZFIcOvWLSYmJhgezuaPlZeXs3v3brZv3w4o9Pf3MTI8yNzMNONjozhdTiKNYdxuB6nUEktLUaLRKDabjdLSUmxWG+g6VouS9eqpFpwuFz5ftujJ7Nwci4uLy5+FCgrL96TFgirm2aKsaHs8HufmzZv09PSg6zoOh4PS0lLpKZNIJBKJ5AF5rsrlmw3v8vLynCIP2TCerEEi9pdar5F1rzETYZELCwtEo1EcDgfl5eWGlymnKuPyjzpZG1bTIJ3RjDyOjz/+GFVVeePoUbZt25az59da1xftLKZHKD+PRlVVKisr+S//5b/Q29vL2bNnuXnzJu+99x5er5ddu3bltNX89F2Me0lJCbOzs0xNTRkGv6gI96BtFKJRCEARrhiPx5mbm8sp+13s8ElN0wzvh9Vqxe/3r7uQhNVqpbm5mf/r7/6Omzdv8O2339LX18Pvfvc7XC4Xu3fvXhEmKMgPwzXnLhYLMa5ibX/zzWk+/vgjNE3jpZeOsHXrNiyqZfnNkKPKuDs+Yq+riYkJZmdnSafTxgbV+f1a7TNKvFfTsnuONTQ0UFNTw+TkJL29vZSXlzM1NUVVVRUNDQ34fD7q6+u5dOkS/f39uN1uxsbGcDqdNDY2ZremWGW/MnM78skP17zX56pYe06nk+bmZrxeL2NjY9y6dcvIId27dy/hcBiLxUJlZSXj42MMD98mlUoyNzdDdVU1zU2t2KwOMqk4in53zDRNQxPX1UBBR8tkyKRSpDNpQEFVxEMTDXQdTdfRgIyukzGJTZTcfuu6jtVqxWazkclk6O/v54svviAYDBIOh9d86CSRSCQSiWQlz5XHTITc2e129u3bR2tra05SfyaToba21thTqdhV2Obm5lhYWMBmsxmbSq+FpusoCsSiUb469hX/9rt/JxaL8eabb3L48GHsdrthcK9lQFosFmNvsEeFkRfn97N3715+9rOf8V//639lx44dDA4Ocu7cOZaWllYN24Rs0Qu73W4UayhWe8W8O51OI9zN4/HQ2dnJb3/7W/70pz/R29vL3NxcjlArBsJTurCwgKqquFwuY77ulX8EEAhUsG/fbv7mnXf45S9/ybZt2+nr6+Pq1avE4/GCbRW/m+e9mGGh5uvous78/Dxff/01v//974lGl3j11dc5dOglfL4KFMUGZHOXCmGz2XC73bhcLmPvrfv1tuQLULvdTnV1NTU1NSwuLnL16lVu3rxJLBajvr6e2tpaysvLl6sU6ty8eZPLly8zPT1NIBCgtrY2J7+sEPfycq/2WqHcM1VVcbvd1NfXEwwGmZqa4uqVK/T19ALQ1NRktCscDjMzM8ONmzfo6+8nGo1TVVVFZWU1imrBYrHhcLgosZWgaRl0XUNVFVCUrEAjq5E1XUfLZH19Nrstu1G9oqKoov16wb6YhafVaqW+vp4333yTffv2EYvF+Oabbzh16hSLi4sr5kYikUgkEsnaPHfl8oWR3tHRwT/8wz/wwQcf0N3djcViIRKJ8Fd/9VeGJ+JhPDX51wSM4hJriSRl2Y7RNQ1d01lYXOTLL77k93/4A0uxJf7qzaP8+Mc/xuPxGOdd7cm0rmc3NV5cXDTCw1wuF06nM6ddD0u+l0kUAqmrq2P79u1cuXKFiYkJo5JgodBLYQSaNyMuRlihEC6qquLxeIwS/fv27WNmZoZz587hcDgMYS6qXBYTcW6LxXJPgx9yvSziWNWi0lDfwObN7Xz33SUmJydZWloy5jL/+FQqRTQaNcba4XAUfO/D9EmIsq+++oo//OEPxGIxXn/9DY6+8WNKvT7QFVSLEIRiTLUV5xFGvmj7vcZ/Na+T+XWv10traytnz5zh8qVL9Ho8WCwWWlpajFDSSCSCz+fj6tWrTE5OEo1G6ejooLq6et3FO8R30QaxB2EhQbKWR1tRstVWGxsbGRoc4vTX35CMxwn4/dTXhY2HOS0tLXx79ixnvjlNid1Oid1OU2MLXk8ZWkZFtdjxlPrwlpUxNHSbwcEhZmfn8PvLyWgauqqjaRnu3Jmjv6+fpdgSNdXVeNxuLFb1nn02j7fL5WL//v38/Oc/59atWySTSb777jv+/Oc/U1VVxQ9/+MOs4DPd1xKJRCKRSFbHag5LETyroYwCkdvyyiuvsGnTJqamptB1nWAwSGVlpWE8r3cM7hUCKgw1u91uhLEtLS0VDJVUdNAyGdKZDIsLC3z+l895//3/D03Xeednb/H6669TVlZGIpEgFovhcDhwLCfom70iQohdvnyZDz74gEQigcPh4PDhwxw6dCgnBPJBhIgwoBVFIZVKGeFnZmNVbHQrQrXyRZf552xZ+DjxeBy73U5JScl95eushRA3paWlOBwOJiYm+OlPf2rMvbnIy4YNG4yfH/a64ngRPppOp0mlUoZhu5qgTiaTpNNpI+8NIJNJk0zFiUazFQaFwVsoVC6VSnHt2jU++eQTZmdncbvdHDx4kEOHDmG324EHF+Wi3SJ88csvv+QPf/gDqVSKn/zkJ7zxxhvG+lxaWl6fTge6nps3Zg4xTSaTJJNJrFarsZZXG/v8sNPV2uhwOIhEIni9Xvr7+nC6XLRv2UJjYyNWqxVN06itraWhoYH+/n7u3MlWOa2rq6OsrMzwlos1mH/dQuvXvF7NDyvyN2M2t9N8Dp/PR3NzMydOnKC3rw+P283WnTuINDUC2S0Kmpqa8JeX09fbg9VqoaEhQkMkgsPpRNdBUVSCgQAtLS3cutXPxYsX2bp1K3v27MkW78BCdCFbifHchXNYbTY2btxIdU0NiYTY0kIzxtrc7/wxFlti+P1+3G43b7zxBlNTU3R3d/Phhx9SXl7Oli1bDM+tef5liKNEIpFIJCt57jxmkPuEPRKJGJUNH+X1AFwuFw6Hg+npaebn59c8JpGIc/yr47z33nvEYjGOHHmJ/Xv3sLQUY2lpicHBIb799iz79u1jz549wEpDL5FIcO3aNb766it0XaehoYGjR4+iqupDhWmajc94PM65c+cYGxujtbWVhoYGSkpKSCaT9Pb2cvnyZRRFoaamxvBM5ZfcFt9F2fLS0lJ8Pt8DtW01VFWloqKC+vp6enp6GBsb48CBA0b1PSGeRL+KaTiKcL35+Xmi0SipVCqnwh3cHYf5+XkuXrzI5OSkscmx2F+tq6uLK1euGGXmRSn6/HymRCJBZ2cnx48fZ2lpiebmZg4fPozVai1K33RdZ2FhgVOnTvHBBx9w584dXnzxRbZt20Y6nTY2Rb569So7duzgwIEDhsgplAsnQj3tdjtlZWWGcHqQUFazGA4Gg4Tr6xkcGsJqsxll8gV+v5+mpibOnDnD0tISgUCA5ubmnAcd5i9Y6SWzWq3Gl3kdidfWO9bCmx2JRKiqqmJhfh5/eTnNLS3GZutiU+6mpiaGh4dRVZXaujDhcB02mwVN04Fsv/fs3s3169fo7e3l/fffZ3FxgabmJhRVpae7j08/+ZSx0XEaIw3s3rOXYChktENVLVittoKfD8KzLXLLRJis2+1m586djI6O8u///u90dnZy7Nix5TDLyvueR4lEIpFInkeeS2EGuSXehUdLGBwPej7xfbVQK4/HQ1lZGWNjY0xPT5NKpVaEtmW0DLqmMTI8yl/+8iVj4+M4nCVcuXqFwcFBNE1HtVqZn59nfn6eqqoqdu/enWM4CgM4Go0aBpzH42HPnj1s2rTJ8KYVw0CPRqNcvHiRzz77jEAgQGNjI+Xl5SwtLdHf38/Q0BCbN29m27ZthjAoJH7E5ttLS0uUlZURDAaNazws4jpiQ+Pr169z4sQJqqqqqKqqMq4vPDbFzsUrLS0lGAwyNDTE9PQ0S0tLeL3egqJqcXGRc+fOcezYMWpqaqitrcXv9xOPx+nu7mZkZISOjg5jPPMrGIqcNrGxcllZGdu3b6ejo+OhPKTmNmqaxsjICF9++SUDAwO43W66uroYGhoCsrltMzPTxGKLBALl7N+/l+VSNqCooN+9R4TnTYRl+v1+Yw0/CGavbDAYpKmpibNnz2K322loaDDCGEW+XySS3R9sdHSU6upqI4wRVnp18h98mDG3V7wmtjNYKx/NfIyiKFRUVFBVVcXAwAC+cj/19fU4nU7j9bKyMpqamrhw4QKaptHQ0LC8WXkGRVFRFJ0Sh53N7Zs5cuQIH374Id9+e5a+vuweepqmMTMzx+zsLJVVIY688jI7du7EarUs9ytDJpNazk9bWVzF/LtYC0KQVlRUcPjwYaanp/nzn//MqVOnCAaDHD161Li2DGmUSCQSiWR1nquqjIUw57dA8cLXzOcRoUw+n4/W1la6urro6+tjamqKmpqanGM0XUexqFjtdpwuN5VV1eh61piamprBYrGgk/XCBINBQstPuoXhZA6pmp2dNTaoraqqYvv27bjdbiPf6UH7aj7O6XSyb98+JicnuX79OqdPnway41pSUsKuXbs4evQoLS0txjFmz5RoaywWo7u7m8XFRdra2giFQjnVJB8GcQ2n08mWLVs4d+4cp0+fZm5ujubmZhRFIRaLsWnTJg4fPgwUZ5sEIZD9/qyBff78eXp7e5mamjK8Xfl7ZZWVlbF//34mJye5ceMGfX19Rnu8Xi8HDx7k6NGjRCIRUqlUTviq+D47O8vQ0BCJRIK6ujo2btyIz+cr2j0tvCY2m43y8nKsViszMzPMzMwYr9tsNkKhaioqgui6gqbp6LoCGuj63ZC/aDRKT08PCwsLNDY2EggESKfT9yxWsp7PKLfbTXNzM83NzXg8Htra2gxvmGhjOBymvb2dkpISNmzYYNxP5mtYrVYjvFGEggJGKF8gEMjZbsFiseDxeAgGg5SWlq54ILHWuFZUVNDW1sbw8DBNTU3U1dUZ3kaxBlpaWmhpaWFpaYmmpibcbvfy8dkvm81CKBQ0wkqPHz/OwMAAAwO3SafTeDwedu3axaFDhzh48CB+v99ol8Viwev1Ul5ebni4zW0Xnx3ZvdGy4la0HaCmpoaXX36Z2dlZbty4waVLl2hubl7e4kFdseYlEolEIpHc5bn1mBWbexldqqridDrp6OjgxIkTDA8PMzw8TF1dXY4HS4S41YXD/PL/+b+ZmZ5BUQs/dbfZbDQ0NKwQWYqS3ex3fHyc+fl53G43O3bsoK2t7aG9JuL8Qgi6XC527NhBQ0MDg4ODjI2NkUwmcTqdlJWVEYlECIVCOZUB871EmUyGqakpBgYGcDqd7NixY9kL8GDhbIXaK8LjKisreeutt3A6nVy6dIne3l6jutyWLVuMdhUTu91OS0sLgUCA0dFRRkZGaGhoWDEeokjH7t27CYfD3L59m7m5OVKpFA6HA7/fb3hI8jGLs5mZGcbHx3G73WzatIlNmzYZrxXDKLZYLNTX1/NP//RPLCwsFFxLQpiLTdTzvSVi7ufm5uju7sbhcLBjxw5j8+2HbafYuHnPnj1UV1cbc2wuMqKqKo2Njfzt3/4tMzMz1NXV4fP5VmwpsWnTJv77f//vANTV1WGxWIxw0v/0n/4TCwsLhEKh7J5hy0U6Dh8+THt7O06nk0AgULDCYX57FUWhvLyc119/nR07dhiC3rxRs8PhYNu2bfj9ftLpNHV1ddhstpz7WtwzgUCAV199lW3btjExMUEsFgOynuOamhqCwaBxXvEZUlVVxdtvv81LL71EMBg0PJjifaqq0tTUxD//8z8Tj8epra3NCd+02Wy0tbXxz//8z8zMzGC1WgkEAoZgfV4e+EkkEolE8iBIYfYYEEaLqqpEIhE2bNjA+fPn6erqYufOnUZIpdkgtNttNDY20djYtHwOWN4MysDsdcovTpBOp+nv72dhYYHq6mr27t1reE2KkT9lvp7I5wmFQkbhDBHelL+fVj66ni1W0d/fz+DgIJFIhO3bt2O1Wkmn00Vrq2iT3W5n06ZNVFdXMzw8zNLSkuEBqKmpwWazFc14FP0vKSkhEonQ0tLC2bNnuXHjBjt37jS8l/lFEWw2m1EaPT/s05xDJX43F2lYWlpifHychYUFAoEAu3fvJhgMGp6Oh0Vcx+l00tLSYlw/33OX36d8Ma4oColEgoGBAYaGhqisrKSjowOHw5GzwfuDthHu5plVVlbmPEww43Q62bBhQ8HjAWPvMLHhtOijCCsU1VHNx5SUlNDQ0EB9fX3Oee8lNoWYra+vp6GhIact5j75fD68Xq/xt/x8RfE+TdNwOBzG+czCTdyX+SHQDoeDtra2HA+aeF2szfLycsrKylY8DBJfLpeLxsZGGhsbc4Ri/thKJBKJRCLJRQqzImE2jgshDNfKykqOHDnCwMAA58+f59ChQ0QikZxKgOJcIiwxi9iBaOU1842ddDpNMplkdHSUTCbDli1baG9vNwy4YhlHZo+POd9EIESH2XAslKcyMzPDxYsXURSFgwcPEg6HAYqe6yWuLzYYF56MfIN7rXl8kOvpuk4oFOLFF1+kr6+Pa9euMTIyQmtr64rrmMcnvzqkaHshA1+M5dLSEkNDQ8aWEO3t7Q9dibFQn+DuxulmkW7uc/5ay8/Rmp2d5fLly6RSKfbv32+Ih/XM+736YhaLYh2uVszC/HBjtbE1P3DIF53mPKv88wL3XQTEfF/lH2duo/BCrXZuEUKZXxXS3FezYDaPl/g9vw3muRXvKXQeyN3Go5j3lEQikUgkzyrPfY5ZMcg3fsTf8n8WIXVbtmzh0KFDnDx5kmvXrhGJRFZ4vu562SwoSjYvJ1+YrXYtkf+zd+9enE4nBw4coKysrOD712I94WTm9oon8eLv5vAnWFkgQXxNTk5y+/Zt2tvbeeGFF7Db7QW9RMVCtNlcnMFsqD5o4Ym1KCkpoaOjgyNHjnD8+HGuXr1qeJxWu57ZC5XvdVrrOlu3bjWuV1lZaQiH1crzPyhmgzxf3JrJX59i7CcmJhgcHGTTpk0cOHAAu92e08Z8b2H+Oe+1LszexbXGLl/sFOpLvlg036OFhKT57w+yfu811/lhoWudJ7+ipJlCDwbyCyAVOn++EM1/T6HX5f8pEolEIpGsjXLz5k09mUwSj8eZn5/PlpgOh1eUNZesjjA0zcUqzD/ne8HERsanTp0iFAqxf//+AuNdSBStXzAIgZZOpx+J5+lByd/LLJPJ0NPTw8WLF9m2bRvt7e1G8YdnCWGUzs3Ncfr0adxuNy+++KLx+v3eZ6sZ2WYPEKwUT8W8n9cytvPD3MzfM5kMmqZx69YtLl26RHt7uxE+t55wP5Hjle+9etQU6pNEIpFIJBJJsZDCrAgIg02EAK3mBTEbzSIMSRz3KMSTCOEyX+tRci9P02pGd76IeJafrOeP0cMI0NXKj5u9t49bvKwHs3fY/MBiPWMhtrQoFBorkUgkEolE8jQjQxmLSH5Y32qIsDJxjKiqJijW2JvD1x6HAXs/IsM8VuZy4ObCBOb3PgruFQL2KK5jDk/ML5CSn7+zWhvMx+e31ZwrZH5Pfv7Xk0aIK/HwQFTNNFNoDPKF5vehLxKJRCKRSCTFQBb/KCLrLVxQ6DgonJf2sHyfwhgLUUh8FMrneVZYT3+fBdYjenVdN/KZzA8P7pUPZr6G9JhJJBKJRCJ5VpDC7HuKNDjvIsfi6WM9c5ZfOKRQBcK1zivXhUQikUgkkmcJKcwkksfIeirjPS2sJYzW26f1lFOXAkwikUgkEsnzgBUKl7N+5G1UoQAAIABJREFUWo3Fp5H8sb6fsf++G61rGdvrzSOTa/H7STHmZT3nkPMvkUgkEonkeUB6zL6HPC9elfvZdFcikUgkEolEInmWkcLsKUGKE4lEIpFIJBKJ5NlFlsuXSCQSiUQikUgkkifMg+9uK5FIJBKJRCKRSCSSoiCFWZGRnkaJRCKRSCQSiURyv8gcs0dAvji73/wwcbzMK5NIJBKJRCKRSJ4PZI5ZkSlmCfFCm+5KJBKJRCKRSCSSZw/pMSsyxRBSUoxJnhSPcg+9Z2l/PolEIpFIJJJiI4VZkZGeRsn3jadR5Ky1MfmTIt+Dres6mqahaRqqqqKq2ZRdRVGMvyuKgqqqT+UcrIamaWQyGQCj389S/yQSiUQieVLIUMYiYR4zTdOecGsk+QijGQrPz3rW+9NqfJr7XizMnxOKohQcP/N4KYqy7vG7V47l/ZyrGAgBBuSIkPzPSfFzJpPJ+SzQNA2LxfLUrp98hNg0h1zLsGuJRCKRSB4e6TF7YPTlr6xhktE0tMzDidnvmxh+VO15lAbcaufOF2PmvglhsZbIWOvcxeBRhgWm0+n7FkX5iHEpdJ71jvl6rrEWQhAIUfA4BJohEi0WEOuDbN+WYjFGR0dZWlqirKyMyspKLBYLqVSKqakppqamcLlc1NTU4PF4cvrxtKJpGvPz84yPj5PJZPD7/QSDwRzx/zT3TyKRSCSSJ4kUZkVA13W0jL6qIfo8eNDuV8R9X4w3+aT/wRHCqNDcr+Z1v5dnzXzeQmQymRWhg4XOUQx0TSeT0Zibu0PfQC+artHU1ITf5yedTjM0NMQf/vAHent7eeGFF/jrv/5rSktLWVxc5KuvvuKLL76gubmZX/ziF3g8HjKZDBaLpejtfFzouk46naanp4d/+7d/Y35+njfeeIPXX38du93+pJsnkUgkEslTjxRmRUbT7nrSJIX5Pgih/NBTszfmeRDSxcA8hvkeyNVYz9znizqzAMwPI3xUa0nXdXR0EqkkV69f47e/+Q2JZIJ3/uYdXvzBD1BRiMfjjIyMcPv2bTo6OoxjM5kMs7OzDA0NUVZWRiqVMs75LJBKpRgbG2N8fJzZ2VnS6TRWq9UQnetdCxKJRCKRSHJZkWMGqz/tlpjJDWXUdc00busbu/Ualub5+T6HDJnXjKZpOeFm+UUT8tv+OD1X5hwmMZ6ioIEQaY+jDfe6TqH7UBzzfZh78ziaw0CFsF1PqOHDzPt6vHKF1tm9rnv3foN0OsPC/AKTU1Ok00mii4tombs5Y+ZziHyytXIYV/tcvZeYuVfe3Xr2PixUvCQfs/AVv5sfYIh7RNwn5jk3j4f5+O/DWpVIJBKJ5GlAeswemgc3KkVI1r0MRCDHmyNEz/elGprZUIOVbc1v52qGZ77wfFSk02nu3LnD1NQUyWSSsrIyKioqcDgcKIrySMPNChmx93qPeQ2sZ908LszrUwiVQga9+H2t4+8lKMyi4l7vNa+7/LnUdX1FRUEzZmGlKAolJXY2t7fzt//5P5PRMuzctRNHSYlR4CP/oZYQ++IeXeshl1nMijYVWnv5r+eLK/MDBavVumrlyHxhVqj/4lz53knz+czXzG+Tud/mazzptSqRSCQSydOAFGaPGbNhbbfbDSNntVydTCbDxMQEY2NjRKNRrFYr5eXl1NTU4PV6jXM+CcNHGKCiPPj09DQTExNEo1FsNhsej4fa2lqjnYJCXiCrNbsUH1UYobhmOp2mq6uLTz75hJs3b5LJZCgvL+fAgQMcPnwYn8/3SMbTLGDMhvtqxTQURWF6eprR0VHm5+exWCyEQiGCwSBut/uJG7qi7alUisnJScbHx4nFYqiqSkVFBbW1tbjd7hXvN/9uLuQh7oGHaY/AYrEUFGRibVmtVmP8xXXNos8ckqcqOuHaamqr30AHbDZbVuhkMnCPqIL1RB2I94j1bxah5uPF6/nH5numCgnj7M8KkP2uqgoWiwrkCl7z+ORfP51O5wg8c9tFO8xr2uxRfNRhpxKJRCKRPCtYV/tP9nkIZcx/ei5Yf/iNeKKsoOt3QxrvdU1N05idneXq1atUVlayefPmHMNUGDiLi4ucP3+eEydO0NvbSzwex2q14na72bNnD6+99hrhcBhd159IUYFUKoWmaSwsLHDt2jW++uorbt68ydLSEhaLBZfLxa5du3jllVdobGwE7o6zOQRqeHiYvr4+Wltbqa6uLnp/xHUymYxRsOHatWu0tbVRUVFBZ2cnn332GZWVlRw4cOCReO6EUTs7O0tXVxcul4stW7YY3gRxv2UyGRYWFjh37hzHjh1jcHCQRCKBoij4fD7279/P4cOHqa2tLejxeByI8YzFYly8eJEvv/yS7u5uEokEVquVsrIydu3axUsvvUQkEikY4gZw+/Ztenp6aGpqora2FshdH2tdX3w3/yweDly/fp1oNEpDQwMbNmzAarWi69nCFTMzM3R1dbG0tERrayuRSMS4nq7rjI6O0tXVRSaToampifr6eiYnJ7l27RqaptG2cSN14TCarqPlfU4W8qDl/y2/vel0mrGxMbq6ulAUhZaWFsLhsNEmTdO4desWN2/exOFwsHnzZqqqsveIgsJSfImenn4GB29TWlpKW9sGKirKjfU+OzvLrVu3GBoa4s6dO6iqSiAQoKGhgfr6elwuN4qioqoKmpZde93d3UxPTxMKhXC5XAwNDTEyMoLX62XHjh05Yiv/KxaLMTAwwPDwMJqmUVNTw4YNG/B4PI8tTFgikUgkkqeV59JjZn56q6oqmUyGdDpt/P6oRI4wXubm5vj00085ceIEb7/9Nh0dHaRSKcMoFcJgZGSEDz/8kImJCTZs2EAwGCQej3P58mU++eQTVFXlF7/4RY5n4nFhzju5cuUKv/71r5mbmyMSiVBTU4Ou61y/fp3PPvuMRCLBu+++SyAQMLyF5pCoqakp/vjHP9LS0sLPf/5zAoHAI2lzIpHgypUrDA4O8vLLL/PjH/8Yp9PJ2bNnee+99+js7GTPnj0FvRMPgxirhYUF/vKXv3Dq1CmOHDnC1q1bV4xHIpHg7Nmz/O53vyMajdLY2EhlZSXJZJKuri4++ugjYrEYb7/9NqFQ6Il5IjKZDIODg3z66afcunWLSCRCIBAgFovR29vLJ598QjKZ5N1338Xn8604XtM0Jicn+fTTT6msrOTnP/85tbW1a/YnPzTSLGqF0JmZmeHTTz+lq6uLl156ierqakpLS42xvXHjBv/rf/2/RKOL/Oxn71BbW2t4waLRKOfPn+c3v/kNLqeTf/rHf6I+XE/PzZv85n//b3Tg7/7+76mprUXT74qM1cJ0V8tvM4+BeFjwf/7P/yEej/OLX/wNdXU1CO/WnTvznD17ht/97neUlnr5x3/8RwLBwHIaq8LCwiJfnzrJp599Qnt7O6FQEL/fTzQaY3DwNl988QXnzp1jZGSEVDKJqoLL4aKhoYGDL7zAD374Q6praoDsZ8/09DSffPIJ3377LaFgEIfDwejIKPML8zS3tFBXV2e03ewRy2QyLC4ucunSJT766CP6+voIh8McPXqUlpaW5+JBn0QikUgkD8tzJ8yE4adpGqlUitnZWaanpw2PREVFBVA4dOhhrysMsRs3bvCXv/yF0tJSmpubjffkG3qlpaW88MIL+Hw+tm3bhsfjIR6Pc/z4cd577z2+++47fvSjH9Hc3PxES3HPz88Ti8X44Q9/yE9/+lMqKipIJBJcuHCBX//611y5coV9+/YRCoVy8uNE6FQwGCQQCPDNN99QW1ubU367mKJjYWGBzs5OnE4n+/fvJxQKkclkqK+vx+fzMTs7SyqVMjwsxbq2ruskk0l6eno4fvw4qqrS1NSUEwpqNlynp6eJx+O88sorvPbaawQCAaLRKGfOnOG9997jwoUL7Nmzh7q6OlKp1BMRZxaLhbKyMvbv38+RI0dob2/H6/WyuLjIqVOn+P3vf09nZycjIyNUVFQYnmm4GzJXWVlJRUUFp0+fprq6mjfffBOXy3Xf/THfN16v1xCI/f39jI6OUlpaiqZpLC4u0tPTw9jYOKlUgutdnRwY30c43EAmkyEajXL79m3m5+eprqoiGAqi6RrJdJpoLEYmkyGjZZa9S2u3aT1RByLkr7S0lNLSUkZGRujt7WV6eoaKigpSqRQTE6Ncv36N2blp4okYPb09bN++HZfLm32oMTnNze5uotEYPp8fr9dDOp1heHiYDz/8kOPHj5PJZKitrSUcrgNNY3BwiO6eHoZHRrkzP8/bP/sZwWDQ+HyKx+PMzMwwOTmJ3WYjUFFBY2MTkUgTDoeTWHQRleV4geXPtXg8TmdnJx999BEXL16krq6OI0eOcPDgQZxOp7HJtkQikUgkktVZUZXxeQhlTKVSpFIpLl++zOeff86NGzew2+3U19fz8ssvs3XrVlwu17pDGtczbvnhibOzs7z44ovU1dWRTqdzcmDEOaurq/nJT35inDORSKCqKhs2bKCiooJkMkksFiuYk/KoMeeNtLW18e6779Le3k5NTQ2pVAq73W6EinV2djIzM5OTgyK+q6qK3+9n27ZtdHZ2cvLkSTZu3Gg8ZS9G4QBhcIqcrcrKSgKBAGNjY4yOjtLd3c3i4iJer5eFhQXDkCxGmKCY18XFRS5evMjIyAhHjhyhrq7OKCBhnnebzcbWrVupqKigo6ODYDBIJpPBbrfT2NhIbW0tAwMD3Llzxzj/k0BVVUNMQTYHKZlM4nA4aGpqIhgMsrS0xOLiotFPuBsmrGkafr+f7du3c/nyZc6cOcOmTZvYvHnzPYXZavearut4PB5aWlo4efIko6Ojhrc5nU4zOztLX18fiUQCgNu3BhkeHqW6upZkMsnMzAwDAwMoQFNTE+Xl5WTSaSNnTVVVFLJt101FLsS6zi98sVo4o/lviqIQCARobW2ls7OToaEhpqanKF++v8fGJrh9e5hUMgN6nP6+AaamZqirc5NIZMv1jwwPU1rqpbm5Ca+3lDtzc1y8cIGzZ8+iqio//OEPOXLkCDXVNVgsVgYGBvjTJ3/izJnTfHP6NOH6eg4dOoTD4TDmVlEUSktL2bt7D4dfeonK6mpcHg9er4cbXddBVdE1jcyyp/HmzZv8x3/8B1euXKGqqoqjR49y8OBBPB5PjnddIEMaJRKJRCJZyXPnMRNGend3N//6r//KpUuXSKVSKIrCtWvXGB4e5l/+5V/YvXt30a5pNuD6+/vp7OzE7XbT1tZGSUkJqVQq52lyoRwaVVVxOByk02kWFhaIRqM4nU5DQD5uj5kwrCwWC42NjYbnzxyal0qlSCaTOf0oZJDZbDY2bNhAfX09XV1dXLlyhcbGRsOAf9h+iWsuLi6SSqUIBoNMT09z/PhxLl++TDQaZX5+nkAgQDqdLqrRKMK8bt++zdWrVykpKaGtrQ2v17si50ZRFGw2Gx0dHWzZsiXrodF1WDaUVVUlk06TTqdzqgI+iTwz0V6z2Lbb7aRSKRYXF4nH49jtdiPMttCYWiwWI/S1u7ubq1ev0tra+kAeS/Feu91OKBTC6/UyNTXFxOQkyWSSdDLF6PAIQ4ODxpjNzs4yMDDAli1bjDDIyclJShwOqmtq8HizXqnsRtMZNF0nnclk80kfYtzM94Ku6zidTkKhShwOB1NTk8zOTJNOpYjFlrh9e5CpqSksFguZTNYTNjw8TFVVDYlEkqnpKaKxKKFQkFAoBChMTE5w5epV7ty5w9atHbzxxlHa29vJaKBaLLhLy0hl0oyNjTIwMMCFCxfYvHkz9fX1wF0B1dLSwpt/9WN27NyJrqigZENYURRjt5B0MkVPTw8fffQRFy5cwO/389prr/GjH/2IsrIy6SmTSCQSieQ+eDIW3RNCGMnpdJrTp09z+fJlo9CECCvr6urixIkTKwTFw15X13UjP2x8fJxwOGwUPFgNUa1QVVVisRg3b97k888/5/333ycWi7F9+3ZDTDwJzIazucy2EGU9PT0MDg5SXl5uFPUwH2f2SIpKfrFYjKtXrzIzM1MUL6B5DhcXF415PXPmDF9//TU1NTW8+uqrhMNho5hJsRDXXVpa4tq1a4yOjlJbW0tDQ4MhXgvlIWU0jXQmA6oCqkJG14insqGQI6OjVFVVUV1dveI6jxvzdUWo5hdffMGf/vQn5ufnaWtrM/Lg8hFC0+fz0dLSQiaToauri5GREWNsHgRRvbKpuZlEMkl3Tw9zc3Nousbg0BB35ufZuHEjW7duJZ1O09vbawj2oaEhFhYWqK2ro6m5GdViQQcUVQgRHYuiZMP49Lvr15znVqif+XMs/qaqKqpipaTESUNDPZWVlUxNzTAwMEg8nmBxcYFbtwZAgZ27dtLc0sLc3ByDg4Mkk0kWFxcZGhoik9Gor2+gpiabozc5OcXQ0BBOp5P29i00NTVisViXP0sUSux2mpua2b59O4oCg4O3mJqayBH4JSV2qqurqK6tRlUtK+8LBdKpFD093Xz88cdcuHABj8fDkSNHePnllykvL8/J110r904ikUgkEkmW585jpigK6XSaqakpo+CGyH8RHoCJiQlSqRQlJSXrqiS2nlwSc8WydDpNc3MzoVAop+jHaufWNI2+vj5+85vf0NfXx8LCAlu2bGHv3r14vd4nVgAC7hrY5lCtTCZDf38/X3zxBbFYjBdffNHwqBUyUlVVxel0Ul9fj9frZWxsjLGxMUKhkBHm+TD9E/Maj8eNIg8zMzPU1tbyN3/zN3g8Hvr7+0kkEoZIN+dEPQxi3oeGhkin09TV1eHz+dYsD68boXE6mYxGJpWm52Y3X3zxBYlEgl27dhlC0lzt8HGvATHf6XSamzdv8tvf/pYbN26QTCbp6Ojg4MGDhmcwv/okZOfF5XLR2NiI0+lkZGSEiYkJI2fyfhEPV3w+H3XhekBheGiImZkZkm43A/19qIrC7t17KC+vYGxsgtHRUWOtDQ8PE4vFqAyFCASD2TaSu+nyavf6WgVL1vp8UFQdmy0rJmtqaujp6VkWiFFmZmYZGRnGV1bGD158gcnJKf70p0/o7e1jZmaWpdgStwYGAJ36+jB+vw9N00gkEsTjcWw2m7E/n6ZlUNWs0LSoCl6vm2AwiKoqLC4uEostFSiuomBRLFgs6nKtEYUMaWObgIVYlHMXLgBZYd7W1saOHTsoLy837mvz2EhBJpFIJBLJ2ljNhsOznmO2VkidpmlGCJU5J2K9Y7HWuAmjOZFIMD09jcViwe/3Y7PZjNdX89SI83k8HhobG9F1ndu3bzM8PMy3335LTU0NPp9vTe9S/t+LbSCZBZmmaQwMDPDRRx9x48YNOjo6+NGPfoTb7c4Zo/ytAVRVpb6+HrfbzeTkJGNjY2zdurVg+x+kbeaNg5PJJIlEAo/Hg8PhMLxo5tC8YnlKhRCcnZ01vDler5d0Or2mIFcALZ0hsbTEwMAAn37yCbdu3WLv3r28+OKLBUMhC10/55yPyDAWAquhoYFoNMrY2BjDw8N88803VFRU5HhLzW0T815aWorb7WZ+fp7p6WnjYcVq/VvrXlMAm81OQ309FRUBxsbGGejvx+crY3DwNl5vNhcrGAwRCoUYGhrkxo0b6LrO+Pg4JSUlNDY24i8rM0SZpmmgrBRo5uvnf3au9Vqh8SsrK6O5uZlz584thysOMTg4xNTUDE1NjWxo24jfP85XX51gcPA2AwN9pFMZpqdnCAaDRCIRbDYbiUSSdCpFOp0y9kpUFAUFUfFVI6NraLrY/DnrDUsmkzliWNfvijNd12H5/rCgoOiApqNlslsmCMbGxujp6SESiVBaWmoUN3kW/y+RSCQSieRR8FyFMoqnuKIwhXkzYbvdjqZplJSU0Nrait1uL1qIoDDI5ubmiMViOBwOysrKVg1ny0eIlnfffZdf/vKXvPXWW9hsNo4fP86lS5dWbPwqrgl3c+rEVzGNpEKG5vDwMJ9++imXLl0iEonw5ptvrlkG3RwO5nK5sNlsRKNRFhYWcsTUw2I2UoUIHx4e5urVqwwPDxtFKlKpVFGuJ9B13eiPqqq43W7De7TavAuBq2kaQ0NDfPzxx1y9epWWlhZefvnlVcez0AOWYo5hIYTx3djYyLvvvst/+2//jbfeegtVVTl58iSdnZ1GW/M9MuKrpKQEt9tNOp1mfn7+gedAVVVUiwV7iZ2q6mqqq6uJLy3R09PDrVsDLCwsUF1TTThcT0VFBc3NzaTTKQYHBxkcHGR6eprS0lLC4TAOhyMnf+9B7pv1HCPm0Ol00tDQgM/nY2pqiu7um1nxlU7R1NREdVUNVVW1VFfXMDs7y+DgbQaHbjG/MEcgUEF1dQ2qakXXFVSLBYslG7YoNpHWyaAoOooCiqKLLRjRtNzCLHfbrC/Pj4oCqMshnCyLNNWiYrGoeDweNmzYQG1tLWNjY5w4cYKurq6CDzikQJNIJBKJZG2ey1BGVVXZt28fvb29nDx5kunpaaxWK16vlx/96EccOnQIm81W1EIQipINGUokEpSUlOByudZ8fyEvmsvlwu124/P5GBsb49ixY/T19fGDH/xgVc+C2TNlDicrRr+EyBHi7/bt27z//vucPXuWxsZG3nrrLTZv3kw6ncZms61LgIqcumKFEprP7fF4sFqt2Gw2mpqaGBgY4Fe/+hVut5vp6WnKy8sZHx+nubm5qKGBwkOnqio2m23N/ol5TyQSDAwM8OGHH3LhwgXa2tp45513aGtrI5VKGeNZyBMFGLmUYhNq8/wXA7OHVIgXt9tNa2srFRUVzMzMcOLECUZHR0mn01it1oIeMEVRcorYJJNJ45wPKihVRaHc76ehoYHO69e4eu0qpR4P6UyaSEMDgUAFqmqhqamRkycdXLt2jbm5Oebm5mhubjY2786fo0K5kWtRqK+rvc9ms1FZWUl1dTWdnZ1cuHCe+fl5XC43kUgjHo+XVCpNQ32Emze7+e7SZRQ1K7QikYZlrznY7TZKS714PB5mZ2eYnp4hFovhdruzD2YUBS2jEV1cZHp6yngY5XA4TWIZloM4C7ZVWZ5vl9PF/v37ee211xgcHOSDDz6gp6eHzz77DJ/PZ4QvmzdCXy1iQSKRSCQSyXNYLl8Y3KFQiHfeeYeWlhb6+voAaGhoYO/evVRVVeVUSrzXWKw1bsLQNgstTdOM3Km1xlqEAQlPVzqdNs5RVlaW0z4hkoQBJN43MjLC1atXicfjqKpKa2srGzZsyMkBeVBEv1KpFAMDA7z//vtcuHCBcDjMT37yEzo6OowCJmuFeeaHj4q2F2stinO43W4sFgtLS0u89NJLlJWV0dfXh8ViwWazGSGm5usX47pm71B+3/IRa6O7u5s//vGPXLlyhfb2dv76r/962cOTXiHKCoXNTUxM8N133xGPx3G5XNTW1rJhwwZjf76HMYyFJ8lqteZs9WD22nq9XqxWK8lkklQqZXigCrU1mUwaD0FE39YS5vcKG4asSGxqacblcNJzsxuHw05lVRUNkQasVisKKrU1dQSDQTo7rzE5OQlAfX29sQaEOFtvyKKYE3GMeYzX02afz0ckEuHChQtcvHSBEnsJW7fuoK4uDIDT6cjm4zmcXL7yHTabBa/XSzgczgqvtIaCQlmZj0AgwPDwEN3d3YyOjdHc3EwqnTYqKw4PD3H58hVSqWzeYyBQYZpHHUXR0VnZT8MTq+tYS+xEIhE2btxIKBRiamqKTz75hPPnz1NeXk5ZWRk1NTU5ObwSiUQikUhW57n0mAnBEw6Hqa6uNjbptdvtRiWxYpUgNxsjDocDq9XK0tKSsf9YIYSxOjo6iqZpVFVV4XA4sNlsaJrG2NgYvb29AEZIpCgmYQ5h03WdK1eu8Otf/5pUKoXf7+cXv/gFGzdufOjwNrPBJp6WX7x4kUgkwk9/+lM2b96M1Wplfn6enp4eQqFQzmba+ecCDANdhLYBRfHyCFFUVlaGz+djcnISm83G66+/TjKZzCleUlZWZhxTDIQwtVgsxvYBa3nL0uk0AwMDfPzxx3R2dtLa2sobb7xBS0sLAHfu3OH27dvU1NQQiURyioiIOU2lUly5coXf/va3zM/PU1lZyU9+8hNjb7iHFWW6rrO0tMT09DTpdNooMCHuK9HGVCqFy+Uy1qd5LsX6zGQyxGIxotGo4bUWm4s/eBvBZrdTFQpR7i9nbHgYBYVARYjamjqsVhuaplMRqKChoYGuruvEYjGCwSC1tbXGfl5rVVtci/yHHus93ul0UlVVhcfjYWxsDJfTQ21tDeXlPiBbVr+mtpZQZYih4duk0yoNDQ2EKkPLDz+y3sJgsILNmzfT3X2T69ev8/WpU5SU2Cnzl6EqKqOjo5w6dYr+/n7KykrZsOFu9cy7a0NFVfK38Mi+Jjxg5vHx+/0cOHCA8fFxTp48yZkzZ6iurubVV1/F4/Hc1/hJJBKJRPK88twJM7hrqAsxVlJSAmCEWhX7ya4wTH0+Hz6fj7m5OWPD5XzE32ZnZ/n9739Pf38/HR0dbNiwAZ/Px/z8PBcvXqSrq4uqqio2bNiwIldNGIKLi4sMDAwwNzeH1WolHA6zcePGh+6PEH6qqjI3N8exY8c4d+6cERY1OjrKyMgIFouFqakprl69ygsvvEA4HMZut68QB6JS5uTkJIlEgkAgQFVVlfFaMRDGY0dHB3/+85+5fPkydXV1eL3enHYADy1a8xHhpxMTE8zNzRGPx3E6nSvap2kas7OzfPnll5w9e9YIeb116xaDg4NYrVZGRkbo7u7m1Vdfpb6+vmB+UDweZ2BggPHxcRwOB9XV1WzatAmHw7FmNcj1IiqXfvDBB/T29rJ582Y2btyIw+FgcXGR7777jmvXrlFRUUFraysOh2PVa4pqmfF4HIfDQWlpKRaLZV3VUFdDUbLVBCurqmhubqavtxu3x7Ocq1WNqmbD9UpLPTQ3N1FRUcHc3Jwhdm02G7qSlSEmF6RkAAAgAElEQVQ6Wc+1WLfmPbnEQxyr1Wp4IsXaFq9ZLJZ196OkpIRwOExdXR1zc3P4/X4ikQje5f3UrFYrlZUhWlpa6O7uxmq10NzcSk11nZEPBlBa6mPf3r0MDw9x8uRJY56ampoA6Ovr4/Lly2QyGXbu3M/+/QfweLxGTq3VaqWkpCTrWTTfp8v/iocN4rNTzG8kEuHll19menqa69ev89VXX1FVVcWePXseaG86iUQikUieN55LYSYQxqwwxB+FKDPj8XgIBAL09/czPj5OLBZb8TRZhLuVlJQQCAQ4d+4cf/zjH3G5XDgcDlKpFLFYjNraWl555RVaW1uN4/KZn5/n1q1bJJNJ/H4/27Zto6qqyvBePCyZTIbZ2Vl6e3uZn5/HarVy7tw5zp8/bzxR1zQNp9NpGGWrhXJlMhmGhoZYXFykqqrKKMxSrJBaRVFwOBy0trbyzTffcOzYMVRVZdOmTVgsFuLxuBFKVkwURcHr9VJZWUlXVxejo6NEo1E8Hk9BkTQ1NcXNmzdZWloikUjw9ddf88033+SEq3q9XhKJREExDrCwsMD4+DiZTAav18uWLVuora0tiigTOJ1OY2uD3t5ePv/8c0pKSox8utraWl566SVjfYqxyCeVSjExMcHCwgJVVVVGtcmH3phYAY/bTU1dLbaSEtwuF83NTXi8HqMtDoeDhoYGKioqmJ+fp6qqilAolM1v0zVYXq/pdNrwqosxFDlwwguaH64sQnzz81RXG39d15eFVzbPrKuri4qKCurqwpSUOEmnMyiKitfrpbGxidLSMhKJBJWV1ZSV+QAFq0Vdrh5pI1wf5o033kBRFM6cPs3pr7/m9DffoGsaoODz+9m3bx9Hjx4lEokYfRJ9TCQSRrVS0W5FBT19dzxEaLUQrC6Xi82bN/Pqq68yPz9Pf38/n3/+OeXl5WzatCknR08ikUgkEslKnrscs0Lk54LcL/caN2G8uFwu2trauHDhQnaz4JERNm3aVHAvs9LSUo4ePUo4HObKlStMTU0ZYX6hUIidO3eybds2XC5XwTBG4X0ZHx83quZt2bIlxxvxsHOsqirl5eW8/PLLRCIRw1gV5xchTzabjfb2duOpuXkDYdHm2dlZ+vr6yGQytLa2UlVVVTCH6kER+Uutra288sor/PGPf+SDDz7gz3/+s7GP2qFDh6ivrzf69rCIdrtcLiKRCGfOnGFkZISxsTEqKiqMsTC/NxQK8corr9De3g6Qk68k3u/1etm8ebMx3uZxymQyTExMMDw8jKZphrfMZrMZeZPFmHe/38+bb75JfX09165lc7SSySQOh4Oamhp27dpFW1ubkVuWnxMn2j0/P8+NGzfQNI2NGzcSDofvmeN3r8+orMdMx+1ysWf3bjLpJHZ7CW2bNqGaxJ7FYiEcDvPjH/+YkZERNm/eTHl5ec65bMue5tdff51MJkM4HDb6U1FRweHDh2lvbzfGWBQz2bp1K4qiUFlZSWlpaU7bV2szgN9fzqFDhwmFqgiHw0QaGlEUlissZitYbtq0ibfffptkMsnu3btxOEogmxGWraCoKrhcbjo6OggGg+zcsYO+3j7uzM2RzmQoKytj48Y2OrZuJRgK5bTD5/Oxb98+qqqqaG1tNTy72euDokBlZSWvvvoq0WiUlpYW4z4X62L//v1YrVb6+vpwuVw5exE+T/+vSCQSiURyvyiXLl3SxVPu+fl5AoEAdXV1jyys71lEFGxYrTS5WSz19fXxP/7H/2BoaIi/+7u/47XXXssJkcof70wmQzKZJBqNGu9zOp1GHk7+HIlrJZNJjh07xq9+9SsAfv7zn3P06FFKSkqKMq/C0DIXaigkZsyvm8WFQHgdLl26xK9+9StSqRS//OUv2blzp1FVsFhrUAjCubk5rl+/zpUrV7hz5w4lJSU0NDSwdetWwuFwUQqjCETFyt7eXn79619z+/Zt3nnnHY4ePZpTLbEQwog1b9Rr3vct/71iLE+cOMH//J//E03TeOuttzh69CilpaUFj3tQzOIonU4TjUZJpVJYrVZj2wMxjvnzZ27r1atX+dd//VeSySR///d/z969e40+F5r3+wkTFEJVbMQtCryYxYG5WIc4p67riHcoioK+PIfCi2c+h3lt53udxN+BdYc06jqk09mtLSwWFYvFiqJkBZFodr6X32JZOaeaphul8BWy6zART5DJZLDZbNnPAVVBN42puKfN1TYLtVtsvQHkvEeMifnhjDi2mPexRCKRSCTPKs91KOPjwmy01dbWsmvXLm7dusX169d54YUX8Pl8BcMLhcFos9koLy9fUYxgLYGVSqXo7e3lzp07bNu2jR07dhTM73pQhOfN7LFZa983c2VCgbmQRE9PD9PT0xw8eJDGxsaHbl8+ZnHs8XjYu3cvW7duNQxys9FeTANSzHtlZSXbtm1jYGCAa9eusX//foLB4Ir3m71F+d5Hc9hifr6TuFY8HmdsbIx4PE5LSwsdHR1GKGmxRJlAzLtYn/merLXC9gCj0MnMzAzbt2+nqanJWONrzcH9zI8QZAJz7pr5WuZ7S1GUnELxmunv5uvne57Nr5u9wveTZ5Y9fvl+QVne5Prua7ouRJc4d+E5FefQdZ2MpmFRFNzu7BYduunL3Daz8M/3bOX3P/9rrTmXXjKJRCKRSNaHNd+Yeh5DGR+W/LErhDBe7HY7e/fupbe3l+7ubnp6eti7d6/xVN+MuVqg2RNnFjiFDCjxN6/XS3NzM3v37qWurs4w5osxt2aD1hxSV8g7Ym6r2QAWX+Pj41y+fJnq6moOHjyI1+vNyc0pVnvNbRF5fObXhTgu9tpXFAWPx8OePXsYGBhgYGCAGzduEAgEcjwf+d8LbW58r7BbIeQjkQi7d+82QkxXe//DYN6awSzKCwlw889iPY+OjnLlyhV8Ph8HDx40xN29Qt6EIMoXWWu1ca21WciLln+OQlUWzWul0L2bf631YlnevHn5SMyHKgpYLEqOKF/t3IX2D4O7O5QVur/EeBQ6v7mvZg+/+d4SDwDM131U608ikUgkkmcN6TErEvlhZ4J8QWWxWKirq+PNN9/ks88+Y3p6OsdLkm/g3W/YoTCO3G43R48eZdeuXVRXV+c8GX+oogqrsJo3Jr//5vcLMbe4uIjf72fnzp20t7c/Eu+O+dpmY9w8b+awq2IiwsKqq6t57bXX+PLLL5mbm8sJ98oXMvntXQ+Kki008sorr7Bjxw58Ph9ut7voXsB87ne8xBpdXFw0vJcdHR339CwV8tTczzUf5vViH/e4KeZYFXrPasc8LeMjkUgkEsn3AeXixYtGjtnCwsJyJTCZY3Y/mHPM7hW+Jd6vaRozMzPYbLacDW3vdR1B/kbShTDnfuQ/rb6X5yX/Pav15V4UanP+a9FolIWFBXw+Hw6HY8VYFFsoPQlEX9PpNLOzsyiKQiAQWDX3Zi0xle9BNSNC98R71tqouVjkf06stbbM3hcx72IftNWqhZo9O+ZCEw8iXiUSiUQikUi+r0iPWREwJ8Cv10DUNI2amhrDc/QoEIJsvYn3DxNqtJq4WM07Z87vKSkpMcRpofM8bqP7UYQyivPabDZcLldOKN5qYXbmY/NfE/tmmTGH+ImfzflVxWS19hZ6LR/xXr/fj9/vzwkpLHS+fK+mLCQhkUgkEonkWcQKK8u9yxyz+yffsFzP+/Pzsh7E2Lwfg/he53iQEKZC7Vhve8yFAxRFKSg21jr//fB9MeTN3q618oTWI/LzjzGfb62xfBTcr9dVHLOaZ/5++n6vnDSJRCKRSCSSpwHpMSsSaxWqWM0L9H0RC086P8RcqlvwIKGXTwP5hSQehvXOz+MYrwfJYTIXOIH7a+dqnkaJRCKRSCSSpxUpzIpMsZPsi82juubDnvd+PCZPgzF+v2JovZ7IB+n70zBe60XmlUkkEolEInlWsRYKX5ShjM8ucl6fLA87/s/7/D3v/ZdIJBKJRPLs8vSXu5NIJBKJRCKRSCSSpxwpzCQSiUQikUgkEonkCSOFmUQikUgkEolEIpE8Yaz5eWWyXL5EIpFIJBKJRCKRPF6kx0wikUgkEolEIpFInjBSmEkkEolEIpFIJBLJE8ZaqEy+DGWUSCQSiUQikUgkkseH9JhJJBKJRCKRSCQSyRNGCjOJRCKRSCQSiUQiecJY80MXZSijRCKRSCQSiUQikTxepMdMIpFIJBKJRCKRSJ4wUphJJBKJRCKRSCQSyRNGCjOJRCKRSCQSiUQiecJY80vkyxwziUQikUgkEolEInm8SI+ZRCKRSCQSiUQikTxhpDCTSCQSiUQikUgkkieMDGWUSCQSiUQikUgkkieM9JhJJBKJRCKRSCQSyRNGCjOJRCKRSCQSiUQiecJIYSaRSCQSiUQikUgkTxiZY/Y9R8yDoihPuCUSieT7zL0+s+VniKTY6Lou19VTQqHPBzl360faYpLHhfVJN0ByF7MgVlXpzCwGYkwVRZEfqJIczPfbs7o+8j9TnpY+mo1Ief8+HLquo2ma8buiKA/9/4v5nE/TunreMa8DyJ07KTxWJ99ZIcdI8ij5/9l7z+82jyRf+IcMIhEAAQIgmClmUqREkbKiLY1lS3KaeHb/vnveu/fLeNZp5LGcJEsiRYk5J4ARAEHknIH3A13txkNAwfbMarwqHR2SCE93V1dXrur/NYZZtSjgryXwf0mUkeYgnMfrqOUvB94wexkoFov/lgrtbwUI//9M3AsNs98akBJG9P/vtFahsvgaXh7IeBIatkQLv5QO/h3o6H87CB0c9LOSriGkldfO4WMg3BSLRYYbiUTyPz2t1/Abhv8VqYy8QkLMp1QqQSKRlB22n/vsX6JA0tzy+Tzi8Tiy2SxkMhm0Wu1rL/HPBB6n0WgUAKBUKqFWq8vefxH4VxgIvzWoht+XxR8pBs9SKH7uPIrFItLpNFKpFMRiMZRKJeRy+Ykz96rvebU1kiKRTqeRTqchkUig0WggkUj+bdaYz+eRSCSQy+WgUCigUqmqKkT/TkbnvwIIH4VCAclksky21NbWQq1Wv7TiTc/MZrNIpVIoFotQKBRQKpWQSCSv9+AVhlKphHQ6jWQyiUKhgFKpBKVSCY1GA7FYXOaIJCgUCv8rdRBhZIx37hKufm3cvD47r4GH33zErFQqoVAooFgsIpvNIpPJIJPJQCaTMWVMKpX+IsVbJBIhl8shnU6XKZNChbLS80ulEhQKBTKZDMbHx7G2tobW1lZcv34dWq32dQ7/SwLvWPB6vfj6668RjUYxOjqKixcvlu0Lb3TxSkqpVEI2m0UsFgMAaLVaKBSK13vxAsB7XoGXT5ui76fTacRiMSiVSmi12l/Ve1sqlZDL5bC1tYWHDx9CLpfj8uXL6Orq+rcTkHxKGeGa1pBKpTA3N4fZ2VmYzWa8+eabsNlsrzwdk+Lo9/sxMTGB3d1d9PX14fz589DpdAD+ffbnfxLS6TScTidmZ2exvb2NaDQKg8GAt99+G2fPni2LoPHARwhILpIzo1gsYm9vD5OTk4jFYhgeHsbw8DCUSuUrT1e/FhAegJ9w96o67nhZt7Ozg8ePHyMYDEIqlaKnpwejo6Oora1FMBiE0+lEOBxGXV0dOjo6GN/9tdf171LrRk77WCwGh8OBw8NDGAwGnDp1CkajkX3ul869UlTz13jua/j3hd+0YVYqlZDJZBCNRjE/P4/NzU2EQiGkUilIpVLo9Xp0dXVhZGQEer2eecxf5vnEoJ1OJ+7du4d4PM7eE35G+GyxWAy1Wo0333wTFosFy8vL+O6773D+/HlcvnyZCUM+DanSc150rv+Kg/6i4/yzar/ouYVCAdFoFE+ePIHH44HFYsH58+cBoAyfQkOalPbNzU189913AIAbN26gv7//RJ3GazgJtJ/8/gp/VgLeoIvH43j48CEWFhZw6tQpXLt2jQnCX5pCQvMqFovwer148OABampq0N3djc7Ozpc2zIRKxr+SLvjUI57f0O/pdBrr6+v49ttv0dnZibNnz8JqtTKF+1UEXpGMRCKYn5/HzMwMAGBoaAharRYATvDE11COO+Jhn3/+OWZmZpjTsLGxEbFYrOJ5rJQ1I8woKRQKCAQCePr0Kfx+P4xGI/r7+6FUKv9H1vyvBoqW8LRHzpBXXSYEAgFMTk7C6XSipqYGxWIRfX19kEqlmJycxN///nd4vV40NTXhww8/xPnz51FTU/MvWdurhj8+Ory8vIxPP/0U6+vrMJvN+Oijj3DlyhVoNBoAvx7Pf9Vw8Br+5+A3a5iRUHG5XPjyyy/x6NEj+Hw+KJVKSKVSZDIZFAoFTE5OYm1tDR988AFaW1srpvq8yDjBYBAPHz6E3++HSCRCoVAAcHywSbiJxWL2fEr9sFgsGBgYgNlsRqFQQD6fZx45YVrpixbpHn+HlGTg+OM/T9GsBNUifwS03hf5rFCx/KVQKQ1XGCEDgEgkgo2NDeRyOTQ3N6OlpYXtZTabhcPhwIMHDwAAHR0d6O/vrzpfoWJcLU2s0ryeRWe/hieu0vg/p97oeXPlDeKjoyNsbm5CJBKho6MDNpvthedcLBYRj8cxNzeHR48eIZVKYWRkBAaD4aXxUU355H/nvd/Pgxeh0Zeh42fR/bPWSnRcKBTg8XjgdDohl8vR0dEBs9lcFumgfalkiP0aaaE/51kv8zyau/CMVXN2vSj+/5l1i/+McV+U9uhz8Xgc8/PzmJ2dRalUwrlz59DT0wOTyYT29nY2F+F5IMfI1tYWQqEQbDYbmpubmYIunI+Q3/IOGeF6/xXRgBdxlPwcWcOv9+DgAE6nE5lMBiKRCA0NDTh16hSUSiXTHZ637peRs8/CWzU5REDnhPgcZQ/xjjCKrO7u7iKVSkEkEsHtdiObzZbtu5Cfvsy6XkQm/lwd4HkyrhqUSiWwT4hEEKG85wA5aTc2NrCxsYFwOIxcLoednR2cOXMGKpWqLEOBH/fnOvae996L0PNr4+7fH6RCxgr8skYWrwIQwwmHw/j+++9Z5OONN97A6dOnoVarEYlEMDc3h/X1ddy7dw9msxlmsxkajeal0q/os1arFbdu3UIqlQJwXB9RKpWwt7eH+fl5iEQijI6Oorm5GYVCgSkbNTU1sFqtAHAinS6Xy6FQKLAoAY0lrL0pX/tPTPgnIUGpFs8/tLynlMbkccobl0LPKi+UJRJJRRxW+g6NQ/+FeOCfW8loFn6mkkFLr+dyOeTzeezu7uK///u/EQ6H8f7778NqtbJ5y2QyNDc348KFCyiVSmhqairzkvJzEY5F+8i/T3OotnZ+b/l9e14aCS9gK0X+6LtEM9WMfXq/kuDljRchPoVpToVCAalUChsbG/jrX/8KkUiEP/3pTzAajWXpwpUaEvB5+3K5HF1dXchms+ju7mYpvTxdV+omxq9PmJ5ajV7obxqfrx0QjvMsuuPnweOl2vj8XHm6ed6ek0GWy+WQzWaxtraGTz75BBqNBn/4wx9Yqp9UKi0bg9aXz+eZcsbPtdq41ebK4+hlFAHaw0qNBiopU/zfhUKBObqIJ/LzrzZeNZoXzp2nTfqb54X8up+HL37uwnXyz3oRqLQHlfBP7xcKBUQiEXg8HuRyOfT09OD27dvo7e2FVCplmSFCuiW6crvd+Prrr7G2toYLFy7g9u3bkEqlJz7P4ziXy51IqX3WvpDj8llreln8VHqecD5CfNLfwrPHv88/u1gswul04q9//Su8Xi/UajUuXboEs9nM0t15XszzaOEagXKZX0km8Gt6EfkvHJPwLFwHv06JRAKTyQSTyYRQKASz2QyTycT2vBK/5p8npO1q/KIST64kE/lxKtEQvy4en/SMavsuHLNYLKKIY+OMrQEi5sIulY77EBiNRtTV1SGdTkOv17O9Fsr0aryi2hoqZeBU0wsq7bmQtwn5TDWafxHd4jX8z8JvLmLGM4SjoyPMzs4il8thbGwMf/nLX9Dc3Mw+09HRgf/6r//C+vo6FhYWcP78eaYEviiQwtvQ0ID333+fHTYSVBMTE1hdXYVMJsPVq1dx/vz5slo0sVgMmUyGeDxedtB5rzcZQvwahUr0T68DYjEgFksgghgi8Um8PE/xozGFnQl5QSVUivn3he/Ra0IFiXAgXEMlA4B/X/g8+kwlBUbIMHkDLR6PIxqNIpfLoVQqMeOB8u/tdjvEYjFqa2vLxqVop3CelXArVPboJ18sz39WKpWW/f0sEAolHhf893khQAotP3d6n08TFDJ7XjDw4/Gf5Y3LZDKJYrGIfD4PqVRahjOetngaJjqvra3FO++8g0uXLkGhUECn05UpT0KhT2eFN2z51ytBNYOjUsRceM7414X7wc+Jp8tKShb/mnAvhc8T7gs5PnK5HEKhEDO6eDwLBTc5VWidL8rn+LNdTTmvhiMh0PkRKg3CfRDiSahw8DQu5JeV+EwlQ4R/vpBH8J+TSqUnjMZn7ZGQNwvnKtz3ZwHPL571vhCSySTC4TBEouOITn19/Yk1CIFffzabRTweRzqdZnyJj7bQ2LyyR3iqBMKxK9G7kOc8Dy/8Z+hZ/PkXro3nHdVogn82v29kCNBrqVQKkUik7HnC8Xj6qxRZqTReJfp90cYqlfgpbyzxdM7jSaPRYGxsDHK5HMFgEA0NDRgYGIBSqSzjY8LxeR2GH5/fD6Gc4B1fwn2v5pzh946+y8tJIZ/gQchj+O+IxWKICGc//hOCXC7H8PAwAMDtdsNsNuPMmTPMASaESo48fl+qyVR+bpWcN0KDUyhvhfRRicdU06New6sHvznDDPiJ0H0+H/x+P1QqFc6ePYu2trayQ97d3Y3h4WGsra0hGo0iEon8rPHIuCKljjyPAFBTU8MYhkQigUKhAABmBFQSRIVCAZlMBn6/H36/H5FIBFKpFAaDASaTCVqtlnmz+IObz+eRTCZxdHSEUCgEkUgElUoFg8EAo9HIxgaenQYZi8Xg9XpRKpVgMBhA9TiRSAQ2mw0tLS1srdlsFqFQCIFAALFYDFKpFDqdDnV1ddDpdCeiMbS2ZDIJr9fLGmzU1NSgvr6+LLoCHEce6fkqlQr19fXQaDRl3r94PI7Dw0MUi0UYjcYyQ4qnh1KphEAgAL/fj8PDQ2SzWeRyOfh8Pmxvb0OpVMJisUAmkyGZTCIUCrH91ev1KBQKiMViLF3VZDJBIpEgEAggGAwinU5DpVLBbDbDaDRCqVSWMV+KyCSTSfj9frZHer2erTsYDKJQKMBkMkGv11cUNrQWek42m4VWq4VKpUIoFEIwGEQmk4FYLGaeUJVKhWw2i0gkgqOjI8TjcUgkEmi1WphMJtTW1kIul5cZuDTfSCTC6LBQKECj0cBoNMJgMDD6zufz8Pv98Pl8cLvdyGQyKJWOG7A4HA6o1WrU1dVBJBIhFAohGo2yTpnhcBihUAhSqRR2ux06nQ6RSATRaBQajYaNEQqFEIlEIJFIoNfrYTAYmNKSy+WQTCYRCASQz+ehUqlgMpmeWSPBC6d8Po9IJMLouFAooKamBmazGQaDATKZjH2W9pKM+0AggEgkglwuh5qaGtTV1cFoNEKtVp/wUpdKx41lotEoAoEAotEoisUimy/RQSXjhX5ms1n4fD6EQiF4vV7kcjmkUim43W44HA42b15IUzQzGAyy/SfaMxgM0Ol0J2psKUKVSCQYvZZKJbaXBoMBCoXihFJaiV75iCrRKDmoNBoN6urqoNfrIZPJTiit9H1at9/vRzKZhEQigcFgQH19PWpqathZpe/k83mk02nGP6g7pUqlKhuP5l8oFBAOhxEMBqFUKqHT6ZDNZhEIBBi+aDzqaiicK/G3UCgEv9+PdDoNpVLJeHBNTc2Jva0GhLNMJoNIJAKv14tEIgG5XA6dTgej0chkAfGJRCIBr9eL3d1dRCIR1tny8PAQ6XQatbW1MJvNJ2iyWCwyPLlcLsTjccZ7HQ4H4vE4DAYDq/Hj9zQejyMcDrP1Eg+kyAI/FkXX6AwcHR0hmUyipqYGer0eer0earWa7cuzzq2QrgKBAHw+H9vn2tpaxkflcjk7i4VCAX6/H8FgEPl8HnK5HAaDgdFDsXhcmhAMBpHL5ZizSCwWIxwOY29vD+l0mvEdn8+HjY0NJJNJxmuBY9lF8woEAkil0pDL5NAbDDCZjNBoNGV7F4/H4fP5WIqkWq2GXC5HKBRCOByGTqdDU1MT69hciV5oTsFgEF6vF8lkEgqFAiaTCalUqswA4g0kpVKJ9vZ2tLS0sC6bdP79fj/7rlarhU6nQyKRYHsnkUhQV1eH+vp6yOVydk6Pjo4YT7RYLDCZTGX8gt8/kmV+v599h3iTRqNhvIn2jniRQqGAXq8HACaH8/k8NBoNLBbLid4BpCfF43Eceb2IRWPI53OQyeTQajWoM5mgq62FTCZj85NIJGhtbYXNZoNEIoFcLmdZT8SPi8XjFPyjoyMEg0GUSiWoVKoymub1GpIbiUQCAFBbWwutVstkbTKZZDJBr9czvsHvNU9bJM9VKhWTzcSjiC7ofKvVarYXrw2zVxN+c+3yad6FQgHpdBpWq5UxND4lMJ/PAwBrIU0pPr90/ZWiI8L58cqG8LVSqYRUKoXFxUVsbm7C4XAgFotBIpHAarXi9OnTuHr1KvOAkvcrm83C5XJhcvIxFhbmcXTkRaFQgl5fi6amJoyNjWFg8DQMej0kEmnVuVG3us8//xz5fB4dHR1IJpNYW1tDIpHAtWvX0NDQwKIiq6urePr0adk8qXPRG2+8gfb2dqbwi0THHY6WlpYwPz+P7e1txsR0Oh1sNhvGxsYwPDzMDKFkMoknT57g4cOHaGxsxB//+EeoVCrk83mIxWIUCgVsb2/jyy+/RCqVYlFJYeoeGa2Tk5MYHx9nxlw+n8f4+DicTieamppw8+ZNNDY2Yn19HXfv3oVUKsV7773HlLTt7W18/vnnAIDR0VEUCgVMTRFPmh8AACAASURBVE3h6OgImUwGOp0Ozc3NuHLlCgYGBhjzI4Vkf38fExMTWFlZQSAQYMoe1QctLy8DAG7evMk6pwkVFBJmgUAAf//737G3t4euri7odDosLS3B7XYjlUpBLpejqakJZ8+exdDQEPb39/H48WOmRMhkMtTV1aGnpwdvvfUWWltby+gwGo1idXUVk5OT2N3dRSgUQrFYhE6nQ0NDA4aHh3Hu3DnU1tYiGo3i/v37mJycZMafWCzG3bt3MTMzg56eHty6dQtKpRL37t3D3Nwc6uvrYTab4XQ64Xa7YTAY8NFHH6GtrQ13797FysoKTp8+jdu3b0Mul2N5eRn379+HWCzGmTNncP36dWakx+NxzMzM4MGDB8hmsxgZGcHbb79d5ozgzxp/1rPZLPb39+F2uzE/P49AIIBCocCaA12+fBmdnZ2Qy+XsOYlEAuvr63jy5AmcTiczCDUaDWw2GwYHB3HhwgXU19eXjZ1IJNiZoS5opPA0NTVheHgYZ86cgcFgqOrZPzo6wpdffonV1VWEw2FEo1Ekk0l89dVXmJ6exsDAAN59990y4zqZTGJ9fR1TU1NYW1tDJBJBsVhEfX09BgcHcfHiRdjtdubwKZWOa0+2t7cxOTmJ9fV1HB0dMXptbm7G2bNnMTAwULUNP82XlKGjoyPMzc1hfn4eBwcHZUbGqVOnMDo6ip6eHmZk0ZrJQJiamsLOzg62t7cZr2loaMDY2BhGR0dRV1fHeCqNNzMzg7m5ORwcHCCdTkMqlcJoNKKtrQ2jo6Po7e1lilsmk8H8/DwePnyI2tpatLS04ODggBkmxIOHh4cxNjYGi8VSdjbz+TwCgQAWFhYwPT3NFHiVSsVqiUdGRmC1WssMj2pKNkVDl5aWMDMzg93dXcRiMchkMraGc+fOobu7G3K5HBKJBB6PB3fu3MHa2hp8Ph9SqRRmZ2ext7cHvV6Py5cv480332TNOohPZjIZbG1t4dtvv8XBwQF8Ph9isRgWFxfh9/tht9tx+fJlnD59uixVzufz4YcffoDD4YDb7WYKZXt7Oy5cuMBKB4CfHAShUAhzc3OYmZnBwcEB4vE4c4r19fXh3LlzaG5uLjtvQprin+d2uzE9PY3FxUV4PB4kEgnIZDJGp2fOnEFvby8zrpLJJKanpzE+Po5EIgG9Xo+LFy9idHQUarUahUIBa2tr+O6775iRfu7cOWi1WkxNTWFzc5M5qZLJJJaWluD1etHb24sbN26gra0NuVwOHo8Hs7OzWFlZgdvtRjweh1yugNFoREdHO86dO4fOzk4mI7a3t/HNN9/A4/FALpfDZrNBLpfD4XAgEAhgeHgYH3zwAdRq9Qm6IT0gmUxicXERjx8/htPpZLhtaWmBWCxGPB4/oX+kUinMzMwwuajX6/Hmm29idHQUoVAI9+7dw9raGgqFAhobG2GxWOD1erG9vc0cZY2NjTh37hwaGxuxvb2NhYUFuN1u5phoa2tj9MAb98R7CU9er5d9p66uDu3t7RgdHUVHRweUSiXS6XTZ3h3j8lhHcTgc8Pv9KBQK0Gq16O/vx+XLl9HW1sbOeDKZxNbmJqanp+HY2kIoFEY2m4FcLodGq0VLayvGxsYYHyoUClhaWsLDhw8RCoVQU1ODq1ev4tKlS8wpmEwmsbm5ibm5OWxsbCAQCJQ56aj7ZXNzM2QyGaRSKba3t/HVV1/B4/FALBajq6sLdXV1cDgc2NnZYc6KxsZGhjdy1JKjfGZmBtPT08xhIxaLoVKpmPw5e/Ys6uvrIZFIkEgk8PDhQ0xOTqKpqQk3btxgDvbXaY2vHvzmImakyMpkMpw/fx7d3d3MWOA9NZQGFAgEUCwWodVqWX3ZzzHK+FAzn7pQyZvMH4ZKIXan08kiFAqFAjU1NQiFQtjf34fD4UCxWMTt27eh0WhYsxCXy4WPP/4Y4+OPkM1mYDbXQSqVwuU6wObmJtbX13Hr1i28885NaDSaMqWPH5uUx42NDRweHmJpaQmZTAbAcdt48qTm83lMT0/j008/xfb2NuRyOdRqNfL5PNbW1rC6uoqdnR38+c9/Rm9vL1PO5ubm8PHHH2NzcxNarZZ5u9xuNzNEo9Eobty4wbx2Pp+PzYM8dyRUisUiEokEUzb7+/uZIcavi4xx8qCnUilks1m23kAgwIxBUrDW1tagUCgQiUTYfkYiETgcDoRCIRweHiKRSDBlJJfL4fDwkAlurVaLzs5OphwfHBzgk08+weTkJBKJBFQqFWQyGfx+PzY2NiCXyxGLxVBXV4cLFy48N20lk8lge3sbMzMzWF9fh0QiQTabhUqlQql03G58f38fTqcTy8vLrFGETqeDTCZDNBrF4eEhHA4H0uk0/vznP6Ourg75fB7ZbBZTU1P44osvsLW1BYVCgbq6OkgkEvh8Puzs7GBrawuJRAJvv/02M45isRijF/LqxeNxJBIJ5v0nQSyVSiGTydj1FRKJBOl0GtlsFgcHB1hZWUFdXV2ZkCuVSpifn0c8HkdDQwOGhoaQz+exv7+P77//HjMzM2htbWXe22rpjEQj1L3zq6++YvOuqalBKpWCx+PBzs4OYrEYVCoVWlpamBI7Pz+Pzz//HCsrK+xuKJVKhXA4jO3tbUaPN2/eZJHCdDpdRv/kFRaLxXC5XHA4HNje3kY2m8XVq1eZ0SlMCyKPbygUQjqdLotcyOVypNPpsppIkUgEj8eDzz//HOl0mikHsVgMOzs7cDgcyOVyeP/996HX65mDZmVlhXX1A8AUg62tLaysrGB7exupVIqlgPO45fkineH79+/j7t278Pl8qK2thU6nQzqdxubmJra2tuB2uwEAg4ODLN2V8L2wsIDV1VXkcjkWiQ4EAtjd3YXH4wEAXL16lSlgh4eH+Oqrr/DDDz+ws6jRaJjjaX19HS6XC8ViEQMDA8zT7/V6sbCwgFwuB7VajVQqBZlMBoVCgUQigd3dXWxubsLn8+Hdd9+F3W5nOPb7/fj222/xzTffwOv1sjFDoRD29vaYcfvOO++gqampqlFGOAwGg7h//z6++eYbuFwuZsSm02nGY51OJ27fvo2zZ89CpVIhk8kgFoshGo0ilUoxnkc8LJVKsXQyoZzL5XKIRqOIxWLIZrPMuRkKhaDRaFgUnOaXSCQwOTnJZJBarS7LQPD5fFAoFDh9+jQzAEnRJ6VUq9UyueJ2u7GysgKPx4MPPvgAbW1tJ9L4eboqlUrY2dnBnTt38ODBA+Y44ul+YWEBCwsLuHHjBq5evYq6ujoWBVpbW4Pf74fFYkFnZydLaS8Wi4hGo9jc3ITL5YJarYbdbkcmk8HKygr29/eZUk4OskAgAKVSyfBLivfExASL4tBZlkgkWFlZhsPhwAcffMCuG4jFYlhfX8fm5iYkEgkznhOJBBQKBTo6OlgmjjBbBgAzwj///HOsrq4ik8mw87e9vQ2ZTMa+T2eL1hsMBrG+vo5AIACr1YrBwUEWidzd3cXc3Byy2SxWVlbYWcjlcoy37u7uwuFwwGw24/DwEIeHh2wPaJ98Ph+kUimGhoZYBsLu7i7u3LmDJ0+eIBwOl+HJ6XRiaWkJu7u7eP/999Hf349cLge/34/19XX4/X4olUrMz88jmUyy+n4ad39/H/l8ntXxl0olLC0t4YsvvsDC4iIS8fhxww+IUEKJvb+zs4MPPvgAQ0NDkEqlCIfDWF9fZ2e6t7eX1aqTLPjiiy+wvLzM7vej/RGLxVhaWoLT6cStW7dYF8xIJIKVlRU4nU62VpFIxKLcBJubm/D7/SylUqFQwO1246uvvsL9+/dZphDRVaFQwMbGBlZWVuD3+3Hjxg1YLBYkk0lsb29jcXER4XAYQ0NDaGpqKksJfQ2vDvwmd4UEnk6nY7nAfCSAlBaXy4WVlRWIxWKcOnUK9fX1TGj93DFprEpG1/OAvkde1o8++ogZGg6Hg3nTFhcXMTo6yhTwaDSK77//HpOTk9Bqtbh06SaGhoagUMjh8Xjw/fffY31jHQ8ePER3dw96e/tOGI38PHnjsVQqoa+vDwMDA7BarSyc73Q68c0338DpdKK9vR1Xr15FU1MTADBv48rKCh49egSbzQaDwYBIJIKJiQk4HA60tLTg3XffRVtbGwqFAvb39/Ho0SNsbW1hfHwcHR0dOHXqFNsPmUzGvMyEJz5FlIra+VojAnqtpqYGly5dQn9/PzY3N/HJJ58gHA7j8uXLuHbtGhQKBYtw0Hg8HghHFGE9OjrC6dOncfnyZRiNRkQiETx69AhPnz7F1tYWlpaW0NraCuC45mNqagpPnjwBcBxtu3DhAvR6PetCODU1BYlEwtIW+FzyavQik8kgl8tRKpXQ09ODixcvwmQyIZFIMM8p3QdlNpvx4Ycfor+/H1KpFIeHh3j06BEWFhawtLRUFnXwer0YHx/H/v4+uru7ceXKFbS3t0MsFmNvbw/ffvsttra28OTJE/T29qK9vR03btzAuXPnsLCwgC+//BKlUgnvvPMOxsbGoFarYTQaEYvFIJfLWTqIwWDA4OAgWltbYTQaGb7kcjkUCgVLbZNIJGhvb8ebb76Jo6MjuFwuTExMwGq1QiqVYm5uDk6nE2azGVevXsXQ0BDzuAudDzxdkDArFAoYHR3F6OgoampqEA6HMTk5idnZWWxtbcHpdKKxsRGl0nGK9MTEBDY2NtDc3IyrV6/i1KlTkMvlODw8xA8//IDl5WXMzMygs7OTtfoPBoOYnJzEzs4O2tracPXqVXR1dQEAtra28MMPP2B/fx/j4+NoaGjA6dOny/gKCXqr1Yo//vGPuHLlCmZnZ/H1119DqVTi1q1bOHv2LHN4RCIRRkPpdJrdZUZNIPb393H//n04HA6srKywqEA2m4XH48G9e/ewsLCA+vp6XLx4ET09PZBIJNjZ2cH4+DgODg4wMTGBpqYmdHd3V6XVQqGA3d1dTE5OIh6PY3R0FJcuXYLVakU8HsfKygrGx8exsbGBp0+forGxkXWXpD1LpVKor6/H1atX0dHRgXw+j5WVFTx48IApagMDA2hoaEAmk2GR3lwuhytXrmBsbAwmkwnJZBLz8/N48OAB83K3trairq6OnW2JRIJkMgmdTod3330XHR0dEIvFLOJMimpbWxvq6+shlUoRjUYxPT2N+/fvIxaL4cKFC7hw4QLMZjOCwSBmZ2cxPT2NqakpVvNF6VKVIh+pVArLy8u4d+8efD4fBgcHMTo6yhoRORwOTExMYH19nUWHent70dDQgP/4j//AxsYGvvzyS+zt7WF0dBRXr16FwWBAXV0dS3HilUe5XI6+vj6YTCbs7e3hm2++webmJs6cOYNr166xtDBS5ESin+7u7O3txRtvvAGr1YpYLIa5uTk8ffoUBwcHWF9fx6lTp6DVapFOp7G4uIgHDx4gEolgZGQEb7zxBux2OyKRCKampjA1NYW5uTk0NTWhrq4OtbW1J+rr6AwHAgFMTEzg8ePHiEQikMvlUKlUzEFIl2oTnRsMBrzxxhvsTJFjiC9D4J0gws/odDp0dHQwp1cul4NUKmXpoZQGGA6HMTU1hcnJSQQCAZYKX1tby1KmaX9ra2tZZAgAGw84vu6CZJFCoahYZ8gbyl6vF5OTk3A4HKy2V61WQ6PRIJvNIhwOn6glpr0kGSuXy0/ggxpikWNNLBbDYrFAIpEgGo0iHo+jUCjA6/Xi6OgICoUCDQ0NzPmXSCRQKpWwv7+PjY0NtLe3w2AwwO/3syyLWCwGsVjM0mXpHtF0Oo2FhQUYDAZWIiCVShmeCoUCEokEtFotrFYr0uk0654Yi8WwurqKwcFB1NfXw+v14tGjR1hdXUU2k4FGo0FDQwNsNhtz8uTzeezs7GBychIWi4U5Xii9nNIRyfja2trC3bt3mdNIpVJBq9WyvgGpVAqZTAbT09NQqVTQ6XRobW2FSCSCUqlk9/9Fo1EW7QKOjXEy8smp09nZiWKxiPn5eUxMTDDDtLa2Fna7HSKRCC6Xi6WKT0xMwGazQavVoqamBgMDA8hkMmhoaEBjYyOTra+jZa8e/CYNMwK+yJX/DwChUAj379/Hzs4OLBYLzpw5w2qTqjUMeBYIibsSsVf6DO/do/9GoxHvvfcebty4AYPBgEKhgPb2dsTjcdy5c4fVkLW0tDClZ2pqCiKRCGNj5/Hhhx8xRaO7uxdqtRbB//N/4HK5sbS0jPb2jhMpXjzQnGQyGU6dOoX//M//RFdXF8udT6VSWFpawtraGoxGI27cuIFr166xfPm2tjbk83nmudvd3YVOp2MMQyqVoq+vD7/73e+g1WpRLBZx6tQpAGC1M4eHh+js7CzbR5rbs2pYeHzy74tEx93+iBGThzeVSqGpqQmDg4PM+CLPMN8Rk4dCoQCpVIr+/n786U9/Ygpr5kdm7/F44HK5WI69XC5HOBzGxsYGUqkU+vv78cc//hGDg4OMyVO7/omJibJOWs/aI1qrWCxGe3s7PvroIwwODkImkyGfz8NutyMUCuHx48eQSqUYGxvD73//exiNRpaGk8/n4XA4WB0ReSwTiQTy+TwzIN5++23mCKBUncPDQ1ZX1t3dDZvNhvr6ehbppdSXvr4+AGDeWsKh0WjEzZs38eabb7JaAGoBzztQyICSy+Xo6enBmTNn8PXXX2NhYQEtLS3Q6XSYmZlBJpNBf38/zpw5w2rLqjVN4FNEVSoVRkZG8P7776Ojo4NFV1UqFVwuF2KxGKv9o6hDKpVinTvfeecdFmnq6OgAALhcLoTDYRwdHSGbzUKpVCKZTMLn80EsFmNgYAA3btyATqeDSCRCe3s7pFIpPvnkE3ZOaJ48LVPtSXt7O6xWK/x+P2QyGWpqatDW1obe3l7mzOAj9waDAW+99RbeeecdVpvX0dGBaDQKt9uNcDgMn8+H9vZ2ZDIZ5q1WKpW4dOkSbt26xbIOuru7oVKp8Le//Q0OhwMOh4OlC/ERSlJe+DokrVaLsbExvPXWWywVzW63I51OY3x8HB6PB5FIhKVqUzOelpYW3Lp1C2+99RY0Gg0KhQKsVitzhlC9XnNzM4tiazQatLa24u2338bg4CDDo9lsRiQSwfj4OI6OjhCNRstq8gDAZDLh2rVrePfdd1laKaW9ffzxx3C73djY2MDAwABMJhOL6vt8PnR1deG9997D0NAQy8wgZ8n8/DyWl5cxPDzMMheE5xoAwuEwlpaW4HK50NTUhFu3brEGDbQHNTU1+Oyzz7C9vY3l5WU0NTVBo9GgtraWpeIeHR3BYrGgt7f3xF2A/Hr5znw1NTWYmZlhqc5dXV2wWCzMgUE8R6lUoru7G7dv38bIyAg780ajEUdHR9ja2oLf70cikYBOp0MwGGTphm1tbXjnnXdw5swZdu6NRiNSqRQWFhawsbHB0t6EBhPx+/39fSwsLDAHhNFoZI63TCaDp0+fYmZmBvF4HC6XCzMzMz8aBUYuYlREqVQAcLKjL41DPGhgYABDQ0N4/PgxPvvsM3g8HqhUKpw/fx63bt1i9WVbW1tYWFhAMBiESCSC1WplaaCxWAzj4+NYWFhALBZjrditVivL1sjn88wgIoPPYDCgs7Oz7B4/nl5yuRx2d3dZFFskErE0uO7ubqbvrKysnIiYCtfLRx3pfXqdGoVcvHgRCoUCT548wfj4OItWqlQqnDlzBhcvXoRGo2Fph5SlEggEkEwmodfrsbu7i/X1dUSjUQBAU1MTrl69is7OToRCIebgIkcL0QNl35Bj8tSpUyxlMRAI4O7du1haWmI1o5TeGIlEsL+/j2Qyyc7QBx98gFOnTsHpdOLTTz+Fw+FgMoiih8TD+PR34Nh4Wl5ehtPpRDabZU3D3nrrLZhMJjidTjx8+BD7+/vIZrNYWlpCb28v0z/4Drl1dXW4ePEihoeHIZFI8OTJEzx58gShUIj1DUgmk8yJHY1Gkc/nodfr8e677+LSpUvI5XL47rvv8PDhQyQSCUQiEbhcLuaUu3jxIs6ePQupVMpa/b82yl5NYIaZkCH9nHS+VxF4I4uYXjweZ54auVzOmAEddKB6t6vngZChVUpVrMQQeSXbbrfjjTfegFarZelVCoUC7e3tTMGjphkUut7b24PNZsOZMyPQqLWIRuPMI2u3N6G5uQ2zszNwu92stoNXoirNRaVSYWhoiKWDEhMJBoNYWlpCLpdDa2srurq6mDeNBGhnZydMJhMikQgODw/R19fHPI9UZ7C3twe73c5Sq86dO8fSCZubmwGUdyPjhYZQcFbyPFfaDypoJuOLDCPqPiaMjgnHINBqtTh79iyL6hGTNRgMMBgM2NnZYWl5lKq2t7cHpVLJcCoSHTdPkUgksNlsGBgYwMLCQkX64IGfT7FYhFwuh91uZ3UElJJTW1uLxsZGyOVyaLVadHd3o7a2lhW0U7MN8urHYjFmzNhsNvz5z38GANTX16NYLLKmGPl8HlqtFnK5HJlMhhXCE255gwo4vstPuC8ymQx2ux2Dg4Mn7vCrdJ5IUTEajRgbG8Pu7i6Wlpbw5ZdfQq1WY3d3F3a7HRcuXGCdV3lFi1dk6Jm8stHX18eusiA6MJlMzLNLRqxcLofZbMbvf/97FItF1lY6FosxZYEi9YeHhwiHw8hms6zonZTXYDCIg4MD2O12Vh80MjLClOeWlpYTOOBxSLyMpwNKQSXc87gzm83o7+9njh4AUCqVaGpqgsFgQDqdRiwWY57mjY0NRKNRtLW1oa+vD2q1GslkkuG0paUFjY2NWFpawv7+PuMplfgbH9Wmpj8ej4fV/BgMBly/fh1dXV3QaDSs4RDVU1DxfX9/PxQKBfPaa7VaVoeTSCSQSCQYrkdGRlgEw2QysbQu/vxS6izRLwHNqaOjg3nvRSIRFAoFuru70dvbC5/Px2qxaK/39/ehUqnQ29sLi8XC6nnI6GltbcXq6ipLfWtoaCiLhhLOqBaVUtq6u7vR0dHBIvXUMGVoaAhbW1uYmpqC0+mEz+dj0SJekaR6Nfqu0NjnzwPREPF6+pvOML+3CoUCXV1dbG4kq6jpxsbGBmKxGJLJJDKZDNxuN3Z2diCRSNDV1YWmpibWCAQ4NoY7OzuxtraGw8NDBAIBJgf4TAgyknd2dnB4eMhSnYeHh3Hjxg3Y7XZ2NhOJBGZmZpBMJrG/v4+jo6MTWTTC3yudu1KpxOqeKKWb5KdOp4PFYoHBYGCpf4eHh6xR0vDwMK5cucKML+C4Y3QsFkMkEsHBwUHZ2SL+09zcjHfffRdjY2PMccU3x+HnnEqlcHBwwBxIer2eOY3MZjPjC0dHRzg8PKz4DKIV/neeh9Ccrl27hrNnz7KSkYODA9bEyG6349q1azh37hyLalEjGkoRpfR2p9PJUvF0Oh1GR0dx8eJF1NXVMfrz+XzY399HOBwuc9aSbFGpVBgeHsbVq1dhNBoRj8fh9/vhdrsRCARYd1HSTSjyRbyFUsFbW1vx0UcfwePxsBo1i8VSFU8AcHh4yAzLfD4Pq9WK69ev4/Lly+xsSKVS3LlzhzVP29rawtDQUFnQQCKRoKenh9UnUgTb5XIxvMViMZZtQmeYl6/ZbBYGgwGXLl2C3W5naZ2tra2sJpHKYqplkLyGVwd+0xEz/lBRRCWdTmNychL/+Mc/WH0E3eL+cyJl1casBMT0qkXX6Ccx4Ep1aORlJgZOXRHz+TxyuRyWlhbg9XqY0KDan3g8AuD4gKdSKRiNxmcKIgDMs8LfQSUSiZgHhzp+PXnypOxunHw+z9IJqL6BFNbGxkasrKxgaWkJxWIRPT09sNlssNvtMBgMGBsbK2u7LGSMwpRRHq9C40wI9D7PnIGfumrydYKVgB+XUiPpvijeC0144BUjatCgUqlY8T85AkgAUtrki8xDqFyRQwH4qb0yn5qiVCqhUqnKUlSKxWJZSgjltpPSq1arEYvF4Ha7WZE+dbL0er2spon3ogtTgngBws+dOkjRpazCJhfV1iqXy9HS0oLLly+z7nMSiQQajQYjIyM4ffp0xRSxSkDKnkQiYZ3g+O9RWhvw072EIpEIGo0GXV1dzBNP3m8y3kjxJgWZ1kG1KouLi5iZmUE6nUZXVxfsdjszkPnawmelmQiFsxCH/HfJIOTTQunzJOiJf5RKP3X7JKN7YWEBe3t7ZcYeKZWlUoml3AiVWxpfKpXCZDLBbrdjdnYW9+7dQyAQQEdHB4tgNzQ0sFRZfo20DyqVqqzDLT9/vnkTnW+r1QqDwYBgMMiMIXKUJBIJOBwO1k2t0rz5bnmUvke1yDabDTU1NUgmk6zWJhwOM57n8XgwPj5e1uY8m81iZ2cHxeJxoybeGORpjn7G43FEIhGoVCq0traitrYWIpGI8QtS+im1PBwOI5VKnUhR5HH5rOgxgfD+ST7yytfO0GcVCgWjIR53lEZMBgEplxSJd7lcGB8fZzRJBunu7i7reEqGnjCSBQCZTKasq51Op0N7eztMJhPjzxaLBU1NTVheXmYOWar3EiqnL6qg0jnhsxpo7tSFkfaC9snv97OsBbFYzBw9tK5sNlvGX2ifW1paMDw8zJpt8Z2cK80rmUwyJwI1PqEIE3XgpbvWhEYnydBKdec8UPodrZ/OJYFOp2OR9WKxCIVCwZxSRPvURTYcDpfVw1KqIZ03MlgBsMYmJKNoXryOQutUKBTsGeSgEImOO2vabDZsb28jHo9jc3MTyWQSCwsLsNlssFqtGBgYQH19PZszX+9FQGcikUggHA6zTAq6jF0ul7O0Rkpl93g8TFcjhw3Pq9VqNctIosgj8TvaH3rdZrNBo9EwHvHNN99gd3cXLS0tqK+vh91uR319PXQ6HZRKZZk+RbrFr6HrvoZ/HvymDTMeqJ323NwcPvvsMxwdHWF0dBTvvfceGhsbmeB6EYXu14RKQgc4ySArKa6lUokVe5MX/s6dO2XePL5JBgBWJFutKYJwbiSUhdEoipAtLS0xtmbD6wAAIABJREFUzy7NCQDzeFFUhRTaS5cuIRqNYnl5GXNzc5ibm4Ner4fNZkN7ezv6+/vR3d3N0oeEUEmoVIJKwpZXfiqtvdq+VzKEgJP301DalXAO5BAgfFANGT9HHs8vyjQrKeCVjCDeqOfXUE3xJ+N6e3sbDx48wPLyMjM0SLGnNdXU1FR1OAgjVZUcErwCzD+DPxNCb2VNTQ36+vqwvLyMg4MDSCQStLW1ld0v8zwcCp0dlYwa3gDgHQPUbGR8fBxzc3Os3oQ+Sw0XNBpN2XgGgwFXrlxhXdDm5uawtLQEvV4Pq9WK9vZ29PT04NSpU6xhSDV+VGnv+LlWwjlv+PNnmscDAKZAZTIZ7OzsYHd3t+I+ksJDxolw3/k5NjU14fr16ygUClhfX8e9e/fw6NEjGAwGVqNGtYbU9IB/jtDYEO4Z790vFosIh8OYn59n3emi0WgZvWUymTLDrBJ98DjijbSamhqIxcfd/ei+PooyRaNRjI+P4/HjxyfwSrxAr9eXNSoQ0iRFnovFInOqkOOLxwHvbOGzAHicCSPQzwLhGeTHq+QwIn7Hn2HheSGgRhIUmZ2ensbs7GzZugnf1MCIapMqAW+IlErH0SyK4oslx89Rqmqg1Wkhk8tRSiSQTqdZ8yoO6891UPI4IT1BGJHm506RW+DYgJyZmcHCwgJ7NkUiCS8UUeRxLhKJTjhTqhllwE/RTjKYKDoivENSSJPC9VV7nccNPx/hOefxJMQNP4dsNsua0wDHqbsPHjzAxMREmTOM3ufxWs15xzsGhZDP51FXV4dz587h8PCQdZleW1tjV4zodDrY7XaMjIxgdHSUXSshxEO1PaD6RjoPZDSS84hkJs8rhXyVl1vCEg4ArAxkZ2eHpXB7vV4EAgHMzs5CrVajvr4efX19GBsbQ2dnJ9v/StHy1/Bqwm+uXT4Bz4BIKCwsLODjjz+Gx+NBX18f3n//fbS1tbHPCSMvP9dIq4bDaoqmkFkKlVP+d5pnpecrFAr09PSwbo10CMmjAwBWq5UpFkLBXY1x86+R4lAqlVgqHKXQ8bgDwDxYVqsVwDGzbmlpwV/+8heMjIxgY2MD+/v78Hq92NragsPhwNLiIq5cuozfvXPjxD1QlfAn9OIK0/wIqq2T/5tPn6r0vlDpedZe8iDcVz6Sxn+Xf12YsslDtXNa6fUXoSkC8lQDx2ka33zzDSYmJlBTU4P+/n7mgZVKpXC73bh37x671LgSCOmUlIZn8ZtK6+XTPui9dDpddmVCOp1GMplkNX3V4Fl7z9MUv8e0L+R99fv9+P777/HDDz9AKpWiu7sbzc3N7C44v9+Phw8fstoJei6lAn300Ufo6+uDw+HA3t4evF4vNjc3sba2htnZWVy5cgXXrl1jigGv5AjxVwnf/Jg83dLfz0rz5WlPLBbDaDSipaWl7B43+kmfbW9vL4t80PN4HCqVSgwMDMBoNGJjYwPb29s4ODiA3+/HwsIC6zJ448YNnD17tuzeqUp7yI8hpJN8Po/19XXcuXMHu7u7sNlsGBoagtlsZql+i4uLWFxcPIGXSmdfSCe5XK7MuOX5AkW4KCOBV1wJx9SRUogj4bklvi3kBTxdkvLKG3O8Q45XxIS0UQmvz+Ir1XBS6Qw/6ydFvSlVjGiNp0uKvFSaGwFbW6mEYqGAfKGAfLEImVSCkggolkrIF4solkoQAWVGyvH36dlAoVBk+0+Ox2fxJqHxWymlnl6npiR0jolGKeJLUVChY+1ZeOXphn+P32/+PAs/wz+bn79wLcIzyK+b/q4E1einVCqVRWXpdalUCqVSya4OqKRr8I1nhHMT0kUlHEokEvT19UEkEqG+vp51TyYnjdfrhdfrZdc+vPXWWyfuROVphJ7PO79JRlB9Os8DaG6VaruEPJo3cIUN6Ww2G27duoXa2lrMzs7C6/WyJiN0J+je3h6Ojo7w4Ycforu7+8Q9nK+Ns1cbfrMRM/5gUwv3Tz/9FDs7O+jt7WXKEe/hq3Sg6Vk/F6oJwUqfe5bABE4qaCKRiNUPSaVS2Gw2/OEPf0BraytjDEJjkzo1vYznhP8ceYzlcjmUSiVGRkZw8+ZNJnh4AUsMiLy+lDJYU1MDu92O0dFRRKNRHBwcYHNrC0+nprCzvY1sNgdzfT1G3xhDrpBHSSQCOGHC75mQUfJrrbSG5+G40vuVcPWsfRW+R2mP1JSDUmGqzfOXMs1qa630XF5A8grf5uYm5ufnoVAocO3aNVy/fh11dcdXMOTzeczPz2Nubo7VpQnXL/T+/Ryo9NxS6TjVbnl5GYuLi8jlcqxTILXKN5vNTNl7HgijA5UEKa/I5PN5HBwcYH5+Hvl8HleuXMHNmzdZl7JisQin08kurSc8kIClekCr1Ypz586xphtra2uYmJjAzs4OxGIxGhsbYTKZqnqyha8xRUoElMQiiEUvXtgtpBepVMpSkLq6uvD73/+ezUXokSbnC0UHecWXj7BIpVJW50hpoH6/Hy6XC4uLi5iensb8/DykUikaGhpYd05+Xvw6hRkE/JwikQgWFhawu7uL1tZWvPfee6zVNHWSS6VSWF9fL3umcIxKBghFQ4vFIks/4lP6lEolLl++jLGxsRP1QLxnn+ZS6byTp12pVLIaLOqyJ1SoKYJAacs8vVQyZl4UKjlyhPCs5wvPP3WbpbS3S5cu4dKlS2WdU3mDhoxcvnMcfxalUik0Gg1rUZ+l1MdSEUAJJYiRKxSQSqWRz+VQ4vBafpG6CKVSufFBkcDnnZ9KPE6hUECtVjNnlVqtxsjIyI9dkhUARBCJxCgWCygWjxVuqlujey35eTzv3BNQSjrhJ5fLMTlDhhB/wfGLyBke53y05Vmy8lnzpM9Tra5Go4FMJmONei5cuMAaafHfp58Wi4VlRLwIToRA/Le/vx+NjY04OjqCx+Nh1xAdHBwgk8nA6/VidnYWnZ2djK9Vkgl05oRpmjyeKB2cT7Os1A2xmqFG/4WOQ4vFgps3b+L8+fOsdnNnZwdOpxPBYBCJRAKzs7NobW1lZSI8PxbS7WtD7dWC36xhBhwTMF2c+fe//x1OpxMtLS24ffs2Tp8+DeCkYlrpAP4SeJnv80ywWs2N8PMKxfGFlTKZjBWya7XaMsOMjJh8Pl+17e6LAqXX1NXVweVywe/3o1Q6TtMiLyDNnQruKed6a2sLy8vLUKvVGB4ehtVqhVKphNFoRHvnKZjrzfh//9//hc939OM9KMdCTCaVQiwRsyJXMh4IB+SpEjK6SulaPPBKBR8l4P9+Fu4rKf7VlBS1Wg2FQsEKk7PZLDPUhEbmzzFoqtEqrzxVE/LCtJNMJsPuyKqvr2edpKg5BwkhvvlEtXVX8rq+CPDKJ//sbDaLzc1NPHr0CMlkEqdPn4ZKpcLq6irm5+fR3t6Oy5cvM4XvZXApPP/8OsgooTS5bDYLvV6Pjo4O1rmL/mcymRP7mslk2B1F1CDCbrczJ0V7ezv0ej3+9re/IRgMwuVysUYWz3MQ8XMuFYooAYDk+TRfjR7kcjkMBgPkcjkikQhrHU/4JDohjzzVY1QC6oZG9+jZbDb09/dDp9NBpVKhsbERbW1tkMlk+Prrr+Hz+RCJRCqurdI6Kr2XTCYRCoVYN8fe3j7odPofI0pALvdTZFj4daGBIKTfeDwOn8/Hakg0Gg0zOmtqatg9YEqlkuGMfx7xZWEEUrg2aoPtcrngcrkQj8ehUChYalexWGSNlSgKR/dw/lrA44LvePuyQNEKqnEKh8NIJpPsflHekUMRSf76E3oGD9TURa1Ws5btO04nAoODsNpsKJRy8Ljc2N/fQzaXZYYe7ddP9VrH4/HpuKlUCpFIhCnZPD54vNB8aU9I8eZpgYzmjo4OtLS0QiqVAaAmHB5W91RuLL48CGur6N7T7u5udhck4V0IZfyjgpNCyIMr6UfVaKPS+RWLjzt6qtVqluZHekJXVxdsNhszjN1uN7xeL+rr62G1WsuaGwkd1fzzhSn9dOfn6uoqUqkUtFothoaGcP36ddaZ+M6dO5idnWX3+VHtfrX1qNVqdoUE1ZZub2+z/YxEItjY2EAwGGR8sra29kQDjkprEOKNzsjh4SHm5uZwdHQEsfj4Yuq+vj6cOXOGpYP+4x//QDAYRCaTwdHREVKpFHQ63Yn60dfw6oJUqFj9Ei/bqwSkQO7s7OCLL77A6uoqLBYLPvjgA5w9e7ZMuefXyudjR6NRpoC9DOPkcShkaNXwzf8uTCcQfo4fRyQSoaGhAWazGT6fD+Pj47BYLKy9cal03MFqdXUVbrcbQ0ND6OrqqnhIK82bDB/eC6RWq9HV1YXV1VV2B9H169eZ9xg4FgxPnjyBWCzG6Ogo1Go11tbW8Le//Q1arRb5fB5vvvkmU1CUCgV0uloolEok4nEUS8frl0ml0Gg1EItECIfDcLlc7M4X6u64srKCQCAAtVpdJkiERonwNRIIlLvOd+QUCqpK+1ltL4XfFYvFqK+vR0NDAw4PD7G4uIienh50d3czQ2h/fx8rKyuIx+NMWal2FivtUSVa4t971nz55/MGaql0fP8V3UVDKTeUox8Oh8saLwgjz1RHwOOfn1ulNVbDMUW+6X617e1tNDY24vbt26yT5/r6OiYmJmCxWNDV1fVcpb7S68J5VkoppXWSQkcXZBcKP12G7vV6mZFGaWYOhwOfffYZ5HI53nvvPVaczUed6KJjfk+Fyo9wLmLxcSfO1I+eWYhFKHHzFtadVaNlXuFoa2vD3Nwcu3/MYDCgvr6e8YxwOIzl5WVEIhEMDw+XXQYsNERisRhmZmbw6NEjdi0AXRXBK8x0Hvn58caR8HVhpJxfH9X6hcNhBIMB1NbqUSrhx7q5XTgczh+blvyUmsjjKBAIsPsWqYFCOp3GxsYGtra2IBYfF/vr9XpIJBLU1dXBbrfD6/Vifn4eLS0tOH36NLuniOr1Njc3YbVacebMGajVauZQEu5xfX09Ojo64HK5sLq6ip6eHhb1K5WOL7qfm5vD2toaSw2kC9gJ9zxOqtFStXNBfJ/qwuhvAv533gHD8wDhf6oldrvdWFhYQENDA86dO8eiaNT8Y2NjA2azGcPDwyyVjDcGSqXjjpB0353H40E8HsfM7CxqVCr09PYinU5jZnYG6yuryGePuzY2NTXBZDKxDAZKm0skklhZWYHJZILZbIbb7cbk5CQzrPjxaY0k56ipy9OnT1m0nhpJBINBpFJJTE8/RbFYwNmzI9Dr9eyOya2tLXR3d+N3v/sdu7y+Gk+stmf0ukKhgN1uh9FoRDQaRSQSweTkJCsfCIVCGB8fRzAYPHGeCK9COqyWDltNTxCefaFjmTfyZTIZmpubYbFYWGOsx48fI5fNYWhwEGq1GpFIBPPz89jd28PQ0BDevnED+lodSsXicf4pXky+kezY39/HvXv34Pf7odFo4PP52H2KFNGVy+Xs/jhe5xGenXw+j9raWrS3t2NrawvpdBoejwffffcdUqkUzGYzu/cwFApBJDq+zqG9vb3smgzhea2mX9D7iUQC09PTWF5eRjabRUdHB27evImenh7mqKeIHE+nIpGI1cRSltUvcdC/hn8u/CYjZsR06E6LqakpFItFmM1myOVyrK6uMs8l8NPhlsvlaG9vh1qthsfjwd27d9nhHRkZYXcjvWwUjLq7VfNW0PNe5HOUzsJ77To7O3H+/HncvXsX8/PzkMlk7KLZdDoNp9OJyclJRCIRSKVSNDc3szqz540j9EqJxccd+06fPo3FxUWsrKzghx9+QC6XQ3d3NxQKBUKhEBYXF/H06VMYjUZYLBYMDg6ipaUFDQ0NcDqduH//PgCw+rRQOIzx8XH4fT7UGetgtVggEYshUSphNtdDrzfgyOvFgwcPWFt6aj87OTmJbDaL2tpaNleau7A4nRhfTU0NSxVaW1vD3NwczGYzu/iVvivs3kivV4ps0bN5jyz9N5vNOH36NNbX17G6uorPPvsMY2NjqK2tRTwex9TUFKanp5FIJMpqK55FL0RbQg8hD/w6+Dnyz6JW5oQjuVzOLqL1+Xz44YcfkMlkYDQaWZe7mZkZ5omj+1WIflUqFVQqFWKxGFZWVtjloFQzxc9bOBc+OsV3ISuVSuxy4JWVFSiVSgwODmJgYAAymQwXLlxgdyc9ffoUNpsNJpOpagSSxhHShxBoHvQZiUQCvV4PtVoNl8uFyclJAMdpNul0GisrK5iamkI4HGaOglKpBLlcjsbGRlitVmxtbWFiYgIikYjVb3k8Hjx58gTBYBAWiwVms7mskUy1vZXL5RCLREj+eKeOWq2Gud4Mq8XK+ATfXZKAhD3hgL9MXa1Wo6enB319fXj48CG7FH14eBharRaxWAybm5uYnJxkRilF/8jI5HGs0WjQ3NyM2dlZbG9v4/79+0gmkzCZTMjn89jb28P8/DwKhQLMZnNZpEnIE4X7VGkPqeV+qXR8Aez9+/fh8/khlUjh9rgxPT2FjY3NHxW2n7r/EV5KpRKCwSDu37+PXC6Hzs5OiMXHF0xPTEzg8PAQDQ0N7G4wkUgEu92Os2fPsruk7t69i2g0yi4ld7vdmJqagsPhQH9/P5qamhh90Dr4fSXDZHNzE7u7u/jyyy8RCATQ2NiIYrGIzc1NTExMIBgMore3l12FIKTZl/WSk5JPXSB3d3fZWTeZTIzH0hg8XfF8kqKC/Bm2WCwYGRmB2+3G7u4u7t69i2QyidbWVubwmZubw+bmJrq7u2G1Wtll2JWiIi0tLRgZGYHL5YLP54PP58PXX3+N8fFx5hDIZDKQSqVoamrCyMgIbDYblEolrFYr6upMOPQeovijU8fr9UImk7GrF8jZRLTFyw6KQBSLRWxtbcHr9aKnpwfvv/8+2tvbMTo6Cr/fx+7le/x4Auvrq5DLFT86u+LMcdXa2oqGhga2LsLbiyjONC+KynV2dsLr9SKZTMLpdMLj8UCr1bJrMMgoonMllCW87OL1EuIR/Dmjfeafxac80t+EQ4hEkEilEEnEkP14J+Xw8DAOf8RRyB/AwwcPsDA3B7FUgsyPzVqy2SxKxSK6urug6euDWCQum5MwvZrGpet5KELX1tYGm82GcDiMeDzOzjLJNbr2g7q6Eg+mdfJnSiQSQavVYnh4GDs7Owj//+y9aXMbSXb3+wcK+w4CJEiQBPd9UaspierpVm/Tz4x7fO14bsQ47DeOsL/J/Tr2mwk7xvbYPe5FUksjqUcrtZEiIe47QRL7fl9wTnaiWFhIgSJFnV8EgyRQVZmVmZWVJ8+2uyvyrS0vL4sUHvRutFgsGB4eFvkH5Xm3WCweeo7ktgUg2t3j8aCzsxPz8/PY3d3F0tIS/vM//xMPHz4UaTbIiom0sWazGYlEAj/99BMePXqEYDCIjz/+GMFgsKy5LHO6nDvBTN4xoYmeHrbnz58jHA4felnR4Gxra8Pf//3fo6urCysrK/jTn/6EtbU1WCwWDA0Nlexu1wJNmuQMWs2kS3Y6LrfTrw7BTeYg165dw87ODh48eIAffvgBjx49gsViEZGoFEUREQ9l34dybUgmJbIqn+5HpztIiPvrX/8axWIRr1+/xn/913+J8MfJZBLxeBxmsxnDw8MiVxklgkwkElhYWMC//uu/wuVyQa8oSCWT2ItF4XAcJKAdGxuHwWBAvlBAZ1cnJiYm8MdvvsHU1BTC4bAw3SRNF4Vtl3eX5N0yedeLJtW2tjbMzs7i6dOnWF9fR1dXl3ixUltTv8i7jNSXaiFHvVMn7zharVaMjo5icXERd+7cwaNHjzA9PS2EQzLfoYm6VmjMVAqUIH+vfoHRTrgc/ple8uPj4/jxxx/x4MEDvHr1CjabDel0WphxkUnj/v5+Sf6vhoYGNDY2YmlpCffv38fc3ByGhobwt3/7t0JLUKn95DaneuZyObx+/VrsQA4NDWFyclLkZevv78fQ0BB+/PFH3L9/H6FQCNeuXauaSF1uGzLPk9tJHj/0Mm1ra8OFCxews7ODZ8+eYX5+HlarVQRisFqtYlOENGo+nw/d3d347LPPEI/HMT09jaWlJXg8Huj1epEQ1OFw4OLFi2IHVAt6DhXlID9WeyiEZ8+e4fatW3jx4gUufHAB/89v/lo8E/Qj97ncBmSORX2oKAoCgQA++eQTRKNRPH/+HN9//z3+/Oc/w2q1ijnFZDJhfHwcPT09Zf0mdLoDM96xsTGhibh79y6eP38ugvtQpNjW1lZcuXIFgUCgRNOnNbbljRZ5/BaLRTgcDoyNjSEcDmNmZgbff/897t27BwAir6DdbvvLAjwhQrjTuKNnYHd3F3/4wx/w/fffQ6/XIxaLIZFIwOv1ihyGtEiz2WwYHR3FxsYGbt26JQQqu90OAEIr39LSgqGhoZJNJLVQRubivb29+PTTT/Hdd9/h1atXWFxchMPhEGaMhUIBPT09+Oyzz9Df339oE03eca9l8UXH2mw2ETJ8YWEB//Zv/4affvoJX331Fa5evSraqdJzTIGE5GeH3qM7Ozu4ceMG5ufnsbq6Kvx4KHhPU1MTBgcH4fP5ygpl5OM3MTGBXdrU29oSaRzoWTWbzQgGg/j0008xNjYmFsWhUAjj42NYWlr8Swj9LDY3NwH8HNGQ0r3I8wNZP3R1dWFhYUFY1WxubqKhoQHpdBpOpxOXLl1CNLqPP/3pNjY3N5DLZbG+vkGKHhgMCrxeN3p6utDSEoBiODCrLBTywgy6FhNwmnNp43lychKbm5t49uyZiESdSCRgNpths9nEZzTXyWNEnivk5476Wp1nUtb2yO9YrXGVz+eFpkvR6aHDQWj9q1evIhaN4f6f/4zdSASZdBqr8Th0eh0UvR56vQJfgw/9A/1obgrAoBwsWYsotWjQ0vbR+KPNOZp/M5kMwuEw4vF4SbRMEnA7Oztx9epVEa1bvn+aJ0jga21txccff4xEIoHp6WmkUilsb2+La9Fa48KFC7h27RqamppK5i51mhG1xoysAuh4t9uNyclJxGIxPHjwADs7O5idncXc3JzoC0U5yPd5+fJljI+PC+3j06dPcePGDXR2dqKrq0soKmgcMWeHcyeYydBOrs1mEwtQ9UMMlDpz0ougoaEBfX19Ij8KLfBqHcDy7m13d7fQJKivIWt3/H4/enp6EAgEDpkfAYDD4UBXV5dIqAn8bFbV3d2N3/72twiFQpiamkIkEhFCS0dHB0ZGRjA5OSkSG1eqs8ViETu9Ho+nZAeM6mO1WnHlyhV4vV7cvn1b5ATJ5XKw2Wzo6OjAhQsXcPHiRbS0tECv18Nms+HatWtwOp24f/8+FhYWhJmMxWJBKBTCBx98gEuXLqHB7xP18nm8+NX/+T8wGgx4+vSp2IVqaGhAZ2cnWlpa8OrVK6TTaZG0FoAwd3E4HMIkhl6ulIAzmUxiYWHhUFtQdDUKVgIc7BxaLBZhdkIJdQnSYDQ2NoqJjxZuiqIgFArhb/7mb+D1evHkyRORB4rGSC6Xw927dysK5jJGoxEtLS3I5/Mi0bHcl3SfPT09cLvdIgy5vJtJJj4GgwEul0vUtbm5GV9//TU8Hg+ePHmCSCQC4CAJbG9vLzo7O/HixQssLS0J8zun0yl2xj///HMAwMrKSslGhqIoaGxsREdHxyGtkLxD29jYiJ6eHjQ2NkKn04kEqsViEcPDw5icnERHR4fYwaRdwFgshv39fZGcMxAIaG6m0AuTNFZa2nCLxYJgMIhUKiU0CIqioKmpCV999RWcTiceP36MjY0NFAoFeDwedHV1ob+/HwsLC3j16hUsFosIne10OnH58mVYLBbcu3cPi4uLImw69cPY2BguXbpUsihVjwXqu2KxiNbWVnz22WcoFovY2tqCotdDV/x5l5vMZ4LBYEmuO7oO5VYj7Sft1NIOr91ux7179/Dy5UuRd8hkMqGnpweDg4O4evUqOjo6DlkfyPWkefjrr79Gc3MzHj58iM3NTaTTabGxNDY2homJCYyNjYlxajKZ0NzcjGg0KnIjyeOXtJehUAh2u10EXdDr9RgeHgYAEVAlkUiIelCy+8ePH4sFF2lHqP5+vx/j4+NIpVKYn1/4S/oDF7o6uzE+Po5f/OIXaGpsKklB0NTUhF//+tcIBoO4f/8+VlZWRMh3mqsmJiYwOjpaMa0Dfebz+fDFF1+gqakJ9+7dw8LCgtDkBAIB9PT04MqVKxgaGirxLyMNbUtLC7LZLPx+f02aM2pXm82G8fFxETGThFk6n8YqtbkaWhjSuCNfMYPBgKamJnz55ZcIBAL46aefMD8/j0QiId417e3tuHjxIi5evChykpXTZpMm7Ouvv0ZLSwseP34s8kXR3Nba2opLly5hdHQUTqdT3IPH48Enn1yDTqfHw4cPhV+j2WxGV1cXPB4PFhcXsbm5CavVKnyJSDC7du0aAODly5ciJ10gEBBBrlpaWvCb3/w1Ojo68fDhQywvL4t8f2T6OjIygkuXLiEUCsFoNMLt9qCjoxOKcqCZCQQCR1o4m81mjI+Pi7VEOBxGJpMR2vqWlhZsbh5o8WhMkhaINDFNTU1wu93C1E1+n2Wz2ZI60fu0sbERvb29yOfzaGpqKomKazQahVlusVgs+V6v16OzsxP/9//9v+jr7cXDhw+xsrIspZYxo6mpESOjo5j4cALB1iCymQw8Hjc6/2K663A4Ssa+TqeDy+VCKBSCw+GA3W4X9+lwODA5OQmPxyO01/Q8kSl5KBTCxMQERkZGhCDr9XrR3d0Nr9crtKVUltVqxcTEBPx+P+7du4fnz5+L97rBYIDb7cbw8DAuX76MUCgkNF/y+qJYLIr3N83rNPf19fWhUCiI3IkGgwE9PT2w2WwiJ+bm5qZ4x9BzPz4+jgsXLiAQCMBoNMJmsyEUCmFwcBChUEho+msdW8zbRXf9+vUi5UCJxWJoaGgQCQ3LTYhnHVrAxuNxrK+vi0GrleNCHpyAmTuUAAAgAElEQVQ06ZIWY2NjA4lEAoFAQCzMam0P2lna3d3FxsaGmKDIX0F9nVwuh83NTcRiMTgcjhLhjF5O+/v7InJTQ0ODWAjTy4bSAuzu7iIajQrnZdoBlRMMV6p3NBrFzs4OdLqDRJW0YFe3MSWkpUSLtPNsNBrFPWi9WLLZLCKRiBAeSSi22WxobGwsSVhJdcrlcqJesVhMmFx5PB7YbDbs7Owgk8nA6/WK3Wjaycxms/B4PGIyojbNZrPY2trC1taWEKJppziRSIg2oBcAAOzv74ud1cbGRrjdbtGfhUIB6UxG1NH5lzagNqewvNlsFtvb28IR22QywWQy4ccff8Tvf/97tLS04J/+6Z9w8eJF5PN5YVaqbv9EIiFMKMh8S44mRg7f0WhULNJl+3bg4BnZ2dlBPp+Hy+USGhzaxKBgB5S81mw2w+v1wmKxIBqNioV6Q0ODWFADEEnIyU/D6/WKMU2JYa1WK/x+f4lWq1gsiuSxsVgMTqcTPp8PhUIBOzs7wkbe4/GIpPDUn8lkEtvb2yJoRkNDg2YEUtqp3N/fx87ODvR6PXw+H5xOZ0kb0/VI4Pd6vSU+qKlUSgSrKBYPAjZ4vV6R/DMajYpAOWTmR7ugFNZYjqpnt9vh8/lEhNNK8428W51IJLC5uYloNCqCLJA/GPW/xWKBz+cr2WCic7e3twEc7GCTiRZ9T/miIpGI0GhQZFcKOEHCXKXNBLrvZDKJnZ2dkvnJYrHA4/HA7XaXjAUaBzS+fT5fSQjqYrGI3d1dbG1twWQywe/3C40ScDCnRiIRMSaMRiOcTifcbrcISpLP58VniUQC33zzDf793/8dzc3N+Id/+AeEQiFEIhEkk6m/tJH7L2a+DiiKDjpdaXAPCvSyt7eHWCwmfAzNZjM8Ho/wSdNKFkz3JPcP9cHe3p6YY4GDjSOv1wuPx6MZSIR27mlTgcau+rhyY4vyYsqBTvx+P5xOp3guyKRc3gyT2z0ajcJqtcLn85Us1snnkrRbtDlnNpvhcrnEOKhkZiWPK0qXsbe3J8wXgQMBklIT0CYaXZPGI83z+/v7KBQKIhiVyWQS/acoBwno6dmge6CxR3Oj2+1GIBAQJqqkNaT7pI1Lo9EIl8slnnVae8TjcZETETjYiG1oaBC+cJX6i37Te21vb088O0ajUbwnY7GYaG85GfTOzg52d3fFXETtRu8q2kAym83CzJ02zChhNs2BNN/p9XoxDul7q9WKhoYGcd/yeNiNRLC/t4dUMoV8oQCz+SAIkcfrhdl4ECQEOh22d7YR2d0FANGWsmnp3t4eIpGIELhoTNF7lNYSkUhErFkoYietq+T5l5492ryh+UI2caV5cnd3F/v7+yLQGr2X5ajVwMF7NxKJiNyDdrsdfr9fPMs05yaTSSEAer1e4WMqtz1pbal/PB6POFael2lM0H1WG1fM6XEuBTNCVhXT5Eefy7vjNLHJLwI6FygV6GptD3nhRG1Z6cWoVsvLYacJ2YxAfhHKLxpS26tf8nI+kGr3IZsxyPcuX4/qQ9dVl0ltrLVgkxMVy+eQaYzap0Q2V6LJTXY0l/2ItBbhcpvK90HnysKaPCHTGJD7Tf5MvbACDkwsCsWDvDqK1CbFYhFra2t49PgxmltaMDgwAEUaj+FwGP/yL/+CBw8e4MKFC/jnf/5ndHV1ifZQlyMv3GStq9a9y30hPwPyNWhM0b2rzWqp3eklJLe1lkZVK0qmut7ygl5rrFN/y/0ml01jWX7W1M96uedWft7o3tUbIeo6yWNALougMtX10BIKZe2tfI78ebX5l47Xmqu1+kLrWVTXR+5LdZ2onvLfAEr6sNqmj5ZJpdb8K38uz2lyH6jvT90GcrvIdaN5Rp4TaEPqj3/8I373u9+hubkZ//iP/4ixsTEUCkXo9RTYBCgUigB0fxHMDj5T96G6DeX60HNYi4Ck9R6Sn2mtdtOah7XapxLlTMTk8a9VJ7l89bhUvzfkca41lmsVzOQ5rFwbqQPTUD1ks3d5LKg3T+X6qJ9/ef5V94E8D8rna60t5M/pu2paTrkt6G/5/UqfyX2mXouo369a/qjyWJPvsdw7REY9V6rHonpekOcXtRmpevxpvXvoPOoTdRuT2aVcV/Vagv6X+0teR8j9rm4/gq4v97X8jlG3jbrtyKxU7hO5TDJ5Vc/r8viVr1muzZizx7k2ZZQfcjXqCUb9t/qFXm6hVqls9WStLkurrvILQX0s7QiVq3dZYUElIFV62ckPrXrCV/8tC0lai9RybU/JY7UWGOW0muodZrq2PInSseoFn9aiVf5OPkY+V+4/+Rz1JC7f+8ExRegV/YGU9hdisRju3r2L//iP/0BbWxu2fvELNDc3w2AwYG9vT/hxud1u9PX1icAV1fpM/dLX+k7+W33f6nujY6jN1S8RACU7heXKUp+rrqM8NsoJQGqhTT2OtdpAawGgBT1vWuNA3S7lxrZ6/BLlBGm5XHn8y5+Xq0u5e1AvELT6vJpPbLlNDfVGlvwZXVervErlaM2jlfpL/WxptY062Ii8GJf7SP5c6zv5ezlAAlCATicCwUFRyueXUs8fcp20/PAqQcdqjTW57yvN5+pja6XS+Nbqx2rtUen5UW841iK0ymXI/SkLwpXe//L38vxCdVA/w+p7Uc9LWvdd6T1aTsOsLldrvta6D/lvMo+Tx598T7IATKg3ZajsavNiOYFNbpty71h12VrtKOdek9uj0vpNa/zIwo/sx63+rSXA0+dyGep2kU2a5faRr6luD/V6S32f6jWUukw5irR6rKqDxMlCJnP2KQmXr/WSeteptqBVU27RUG4SroVqi1CtY8sdJ9e72jG13mO579T3Xu7Yci/gSuWoJ4xq9av2gipXrlyvci/QWq+ttQjVmuB1oONLJ02bzQaz2SwCRpB5UTQaFeauly9fxuTkpDB90zJj1Kr/ccc5fV9p3KmvUUubyfVTl3uUMVLp/1rqWu15K1cXrUWZ1hygXsholVluPtU69yh1L3ct9fnV2vsoc8qb1LHatcpdr1qfVqp/tWdcpyvVatGiVQ6CULLQxsFzLe+6UJFa82EtdawVrcVdpesd9Vmo5RrydSqN3VoEQS3B5bj1pOtpCVRa1y73DKuvV6leld6z1YTWSmusNx0rtYxDrTqV20SupW20yi93jVrHa7nxVUvZtb73apnXqvWvjHpzTev4au+PcuUeZW5Wl1fru4A5G5xrjRlz9jnKxPimC5qjfn/UzwFAr9PeSbbZbCLlwt27dzE7OytyXVFgkA8++AAff/xxSTCFWjju/Wl9X+3Yox5Xy3WOKzzVes5x63XUa/KOZP2p5zgr95lO97OpLvmsOBwOyXcL4ne16hznWToqJ3Xd80It7VPpWT1r7XvW6sO8Gcddzxz1vOOsX5izwXspmPHAPPscZ2FcLyppoGpB61wKvnHlyhUMDAxgfX0d0WgUxeLP0ZuCwaAIQPE+jdGj3OtZaJd6Cl8syJ0+tGtttVpx6dIltLe3w2QyobW1VaXVKQKorCFmjs5ptdtp9tdJlv2mG3XvMu9Snx63rsc57zz3+XnkvRTMGKYS9Z7E5J0uCiXt9/vFZ2RORdTi8M0wTH2g55OEMRLIqpkzMQzDMEy9Mcj2p+fRx4xhzgo63YFTrjrwg+zHQv8zZxfun/MLPZfl/J8YhmEY5iRhjRnDvGVYI8YwZxN+NhmGYZjThN9CDMMwDMMwDMMwp8y5D5fPMAxTb950fixnJsfmcwzDMAzz/sKmjAzDMEfkuALU2winzjAMwzDMuwmbMjIMwxwDFqwYhmEYhqknrDFjGIY5JiycMQzDMAxTLwxaPmXsY8YwDMMwDMMwDPP2YFNGhmEYhmEYhmGYU4YFM4ZhGIZhGIZhmFPGQCaLHC6fYRiGYRiGYRjmdGCNGcMwDMMwDMMwzCnDghnDMAzDMAzDMMwpY9AyYWRTRoZhmJOlWCxyuH2GYRiGYQScx4xhGOYtI/v2EiykMQzDMMz7DQtmDMMwJ0it1gfVjmPBjWEYhmHONyyYMQzDvGVqFdZkYYzOYQGNYRiGYc4n7GPGMAxzQmiZLGr9r4VOp2NTR4ZhGIZ5j+CojAzDMCeAWiijDa9CofDG1+ONM4ZhGIY5f7ApI8MwTJ0pJ5Sp/64FnU4HvV4vzmXNGcMwDMOcTwwA2JSRYRimTqgFMC0h7SiQSSMJZwzDMAzDnE9YY8YwDFMnKvmUHUcwk/3MCoUC9Hq90Jqx9oxhGIZhzhcsmDEMw5wA1QIraQlosqBFf8vCGQtlDMMwDHN+YcGMYRjmBNASxOSfXC6HXC4HADAYDDAYSqdjnU5XIpyxQMYwDMMw5xuDvHAADi8mGIZhmNooJ4QVCgURjbFYLCKfzyORSCCRSKBQKMBkMgnhTKfTQVEUKIoCo9EIRVGEYKbT6VAoFEqENBbUGIZhGOZ8wBozhmGYE0Jrg4u0ZalUCvv7+8hkMkIQMxgMMJvNMBqN4sdsNgvBrVwZLJwxDMMwzLsPC2YMwzAniJY5Y6FQQDabRTqdRjweRy6XE5oynU4Ho9EIq9UKp9MJp9NZ8l2hUBBRGvV6PQtlDMMwDHNOMKhNbtiUkWEY5vjIwpfajJH+zufz4ieZTCKRSJScp9frYbfbkU6nSxJSGwwGMTeT2SOVSbCgxjAMwzDvJqwxYxiGeQuoN7sKhQJyuRyy2SxSqRSy2SwymQwymQyKxSLsdjtyuZzQjimKArPZXCKQlSuHhTOGYRiGefdgwYxhGOYto9PphBki+ZwlEgnEYjHhd2a325FKpZDJZMR5TqcTNpsNJpNJJJwmgU8WxrQ+YxiGYRjmbMOCGcMwzClAwhmRz+eRTqcRi8UQjUaFgJbL5UpMH0l7Jp9LiafpugzDMAzDvHuwjxnDMEwdqTSnaoXQl0PeFwoFZDIZxGIxFItFZLNZZLNZFIvFkiiNJJQZjcaSEPpUvtr3jIU1hmEYhjn7sMaMYRjmFNHKcZZKpZBOp5FOp5HNZpHP50tymZH2zG63w2g0HorOqPYzY78zhmEYhjn7sGDGMAxzCsiRG9VWCsViEZlMBvl8Xvwv+6TJmjSHwwGj0QgAJdo3Fs4YhmEY5t3ikCkjADZlZBiGOSblzMLVgpjsYyYfR8IVCWDqUPoUbl/WsjkcDphMphKtGn3HwhjDMAzDvBuwxoxhGOYEIOGq2mflzgV+DqmfSqXE5/SdLMAVi0U4nU5h1kgaNoCFM4ZhGIZ5V2DBjGEY5gTQEsDUVglq80X1/1qmjjqdDoqiwGAwQFEU8ZlerxdmjSSwseaMYRiGYd4dWDBjTgWtRSsvHJnzAglPFLSDBCP6TDZLBMoLahRtkYKC0LkkmKk1cLLPmRwQpJ6m6fycMgzDMMzJwOHy68i71GanXdezJpjVs+zTbtvzimzCd1aoNleS4CSHxVcLZVrX0xLQCoUCstkscrlciQaM/M3kH0pCbTAYxDWoPtXar57tW+++Okt9zzAMwzD1hjVmdeJ9F2yPumAq1z4nsfA66b7gxeLbQZ2Q+bTRCu4hf0e/5cTQAMT/lcaN+jv52rlcDtFoVDNgiGzmSEIgac5kfzSte9Eq902pt5CnTgvAMAzDMOcJFszqgBwxrZJQVk1AKBQKhxaeWrvqMsddqFa7bjWoXLUvS61onXOSAtTbXMy9b0L524L68KwszuVnXv25/CObIMqmh7WME61jSHMWjUah1+sPCV70mdvtFmaPiqIcCp0P/CzQ0X3UolE7Cke9VqXjqc5npf8ZhmEYpt4Y1IuE91Xj8ybQ4ktrkXZUAYjyFh2l7OPwpv2rHjdHrbcWJ6kNKVe/s6SBYSoja3xOe3Gu3oyRP5e/lz+njRcyN5SPVQtN1TZ3CoUCMpkM9vb2AGhr2HQ6nYjUqHWM/Jm6LuXa9m2/G9RRKI9ikskwDMMw7xqsMasDlYRZeeH/plqqs8RJ3Mvbah+1+dlJaAoYbaqZ1NVyLnHawpmMrHECKm98HOe+y2mlM5kM9vf3xXWLxSJyuVyJqaTb7RamjbXU5V15JjjSJMMwDHPeYMHshKiXkKFewMqLNDJBUlNJC3SSwg9pBaietdSHNAhvGypXLaC9DQ3aURaUFDRC5iwtRtUmcNU0Wm+icZH7Sm6Xo7SH2pywnHlfLdcpF7yj0jnqZ7nWOlf6ThbO9Ho9jEYjzGYzTCaT+KHPjzK+a+krWYiTP6tVqKv2LKj96Cg9AMMwDMOcRzgqYx3QarNaFjSFQqHqQoNM8NTHUxJZrUVNPcwKj4q8aM7lciWO+pUEHqqrHLXupOuZTCaxsrKClZUVpNNpuN1uhEIhNDY2vpXya4HagxIM06L0rAXAAH7ucxqP8tjU6lN5of0mWo+jzFFymbJAXk54rFYn2ZRRy4RZfSz1p6IoQqCThUv13KE2Fa7kj1koFJBOp7G3tyfOzWazyGQyyOVyyGQyaGpqgtvthtls1hw/R+0HrTrKc1Sl+ancfdRa7tuaKxiGYRjmbfPea8yOs4NdjzLJR0Sn08FisWgeVygUEI1GsbCwgNXVVcRiMZjNZrhcLvT09KC5ufnMmHMlk0ksLCzg9evXiMViUBQFDocDnZ2daG1thc1mK3tuLpdDNpuFXq+HyWQ6sfspFotIpVJ48OABbt68ia2tLRgMBuj1egwPD+Orr74SwtlJRYfM5/PIZDIAAIvFcmiRTOMxlUphYWEB4XAYiURC+Av19vYiGAyeaDvVSj6fRzQaxdLSElZXV0UwioaGBvT09KCpqQl6vf7Q5gMJZJlMBoVCAUaj8UiakDfRuFG4edIgkZAkB7M5iXalchKJBNLptBC239TkURbs5IAg8mYRCY/5fB5er7escHZUUqkU1tbWsLy8jO3tbeTzebhcLrS3t6OtrQ1Wq7Vsv+bzeWSzWeh0upJE2QzDMAzzPvPeC2bH3TF/EwqFAlZXV/HgwQOEQiFcvHhRLBap/EKhgLW1Ndy6dQuPHj1CJBIRwQMURcHg4CC++uor9Pf3a0ZzfFuQBurWrVtC2CENWS6XQ1dXF7788kuMj48LIUg+t1gsYmFhAU+ePMHQ0BD6+/tPpP0pOMvKygp+/PFH7O3t4fLly/B6vZiamsLU1BTa29vh9/sBnJyQvrm5icePH8Pj8eDixYswmUwl3xeLRUSjUdy4cQN3797F5uamaE+DwYCenh589tlnGBkZKes39DbI5XJYXV3FnTt3cP/+fRGEAgCMRiMGBwfx5Zdfoqen51AOL+CgPxYWFvD8+XN0dXVhcHBQ5Nw6CUgojkQiePLkCfR6PXp7e9HY2Cg2RmRhRm7XSoEwqmnLZCKRCMLhMHQ6HTo7O8uaIqvbqlbkgCDlTC11Oh08Ho8Qzo5ivimXs7e3hwcPHuDu3btYW1tDNpsFcCDgNjc34+OPP8alS5dgt9sPXZvmtqdPn8Lv92N4eLhEMGYYhmGY95X3WjCTTYpo8UuLspPYwaVF3/b2Nr777ju8evUKbW1th4Ih0O7206dPcePGDdjtdnzyyScIhUJIJBJ48OABpqamYLVa4ff74Xa7T0U4ozpHIhG8fPkSAPDJJ5+gtbUVmUwGU1NTmJ6exp/+9CcEg0EEg0FNf5RcLoenT59iZWUFNpsNbW1tda+rXq9HKpXCixcvEIvF8Pnnn2NychJ6vR4ejwe///3vsby8XPdyAQiNxfb2Nr7//nvMzMzgl7/8JQwGw6F+I8Fsfn4eBoMBn3/+OZqbm5FMJvHs2TPMzc3BarWipaUFzc3Np2JyTH324sUL3Lx5E1arFR9//DHa2tqQTqfx6NEjPHv2DCaTCV6vVwi7MjTmX758iXA4DLvdLoSVk6x3MpnE06dPMTMzg7a2NrEZEAwGYbPZSjZH6qE9IwEpkUjg2bNnePnyJQYGBqAoihBmjoOW4EaCHvmcaY0Nmus8Ho8QSI9qwkgbHHfu3MHKygoGBwfR398PRVEwNzeHp0+f4vbt2/D7/RgaGirR6lP5hUIB8/PzmJqagsFgwPDwMBRFOfFNMYZhGIY5yxhkgeB98jEjs7bV1VVsbm6iUCigsbERzc3NsFqtR/ZfqdZm8u76zMwMpqam0NHRgba2NpHjSOtafr8fn3/+OSYmJmCxWIRP1O9+9zvMzs5ieXkZHo/n1PpLp9PB7Xbj888/h8FgQDAYhNVqRT6fR3NzM/b397GysoKNjQ20tbUJk0VaWBYKBXi9XgSDQTx+/Bj37t2D1+uF3W6vm7BJ5ezt7SEcDsPhcKC/vx9WqxWZTAYulwt2ux3RaBSJRAI2m62uZZP54uzsLJ48eYLGxkZ0dHSU1Zi4XC58+umnsFgsCAaDsFgsyGazaGxsFALk9vY2gsGgaM+3haxh0el0CAQCuHr1Ki5fvizGJwm6i4uLWFlZgc/nKxF06J79fj9CoRBu376Ne/fuoaGhAS6Xq6LvpZZvk/ydVsRH2a/MaDTC6XQil8vh2bNnmJ2dRXNzMwYHBzE0NIS2tjY4HI6q5nXVnnnZjDCbzWJ1dRXT09PQ6/VoaWmB0WgUJqpa91YNLaGMfpPgHIvFDl1fNmsk4YzusxazbqpjPp+HxWLB5OQkvvjiCzQ2NqJYLKKrqwuZTAZzc3MIh8Po6+sT4frpfJ1OB6/Xi/b2dvzwww+4d+8efD4fWlpaagoEct7fTQzDMMz7y3unMaMXezwex+3bt3H37l2srq5Cp9PB7/fjo48+wqVLl+D1eo+0Y15tkUYLw729PTx9+hTRaBQdHR1wuVzI5/MisIPsMzI4OIiWlhb09vbCbDajUCjAYDCgvb0dTqcTm5ubiEajdWuboyDfq8PhwOjoqFiw5XI5KIoCn88Ht9uNWCxW0WTLZrOhv78fL168wOPHj8UiWe3/8yZ1pbbf2dlBa2sr7HY7FhcXsbCwgKWlJUQiEdjtdqRSKdjt9jcqT41Op0M8Hsf09DRisRgmJyfFQlY9vhRFgdPpxNjYmGhP8sXx+/2w2+3Y3NxEOp2uax2Pci8AYDAYMDIygtbWViGM53I5GAwGNDY2wul0Yn19HbFYDAAOmc0Vi0XYbDZ0dXXh4cOHmJqaQn9/v7jv4wSjUAu6sgaavne5XPjkk0/Q0tKC6elphMNhLC4uYnFxEQ8ePEBfXx+GhoaEWavNZjuyBkcWyoADX6zZ2VmsrKxgZGQEjY2NmmO6XDlaAULk/8vNU/l8HvF4XAhq6XRahNGXtVjk/6k1f8kBXORy2tvb8dd//ddwuVxCI5rP5+F0OhEIBDA7O4t4PI5cLleSR43GgcViQUdHB9xuN6anp9Hd3Q2fzydMe1lrxjAMw7yPvJeCWSaTwfT0NL755hssLy+LyIBbW1uIRqOw2Wz4xS9+8cZR4+QyZfOdubk5eL1ehEIh4Vej9mkhASwYDJZco1gsYmdnB6lUChaLBVar9Vj+KPVEjkxH9xGNRjE3N4eNjQ3YbDbY7XaxKJR398lnrq2tDa2trZiensazZ8/Q2dlZstP+JlB56XQaxWIRLpcLi4uL+PHHH7G2tgbgIHgJRRaUhYg3gfo8l8thcXERc3NzIjiCwWAQZWkha1ELhQLi8TjC4TC2t7eFhu80+1xRFAQCATQ1NYmFP9U7Go0imUzCYDDAaDQeen7of0VR0NLSgpaWFszMzODVq1fo7e2F1Wo9Vp3IjC8ejyOfz5eYJuv1elgsFpjNZhGQZnR0FEtLS5idncXc3BxWVlZw+/ZtPHv2DKFQCOPj45iYmIDb7QZwtA0CWbO0traGV69ewWg0or29HTabTQjW1YQr+Vqy1lF9vKxFlLXRFGiGgp0YjUaYTKaSgCs6nQ4mk0lzc0j9Px3vdrtFu8h+dqlUCru7uwAgtHHqZ56u6/f70dbWhrW1Nbx+/RrDw8NobGysKVotwzAMw5xH3qtw+fJC+dmzZ1hZWSnxedDr9VhbW8OTJ09w5cqVmgWDWs2astkspqamsLOzg4sXLyIYDEKv15cswuVzgNLdcjK/nJ6exs7ODnp7e9HU1CR25t9mn2mVRZrI6elpsdDOZDKYmJhAc3OzEMzkc6nubrcbra2tmJqaQjgcxv7+Pnw+X0mi3DepZ6FQwP7+PjKZDPL5PB49eoTXr19jYmICra2tuHPnTomAWS/BrFg88GsKh8PY3d1Fd3c3mpqaStqhnKaC6kx+WNPT0ygUCrhw4QICgYAQhk77WSWfTOr/2dlZ7OzsoL29XQhussAg19npdKKnpwezs7NCq9Tb21vRlFR9Dbp+LpdDOBzGnTt3hHBQLBahKAoaGhpw+fJl4cdmMBgQCATg8/kwMDCA9fV1vHjxAg8fPhQbCtvb2/B4PBgfHy8RLOQyyz0HZC6YTqexuLiI9fV1tLe3o7W1VYTM15pzy2nHqrWDfLysrQMgEk7Lmnu5joqiwG63w2KxCI2V/NxoCY3q/HXAgVC+vLyMcDgMk8mExsZGca/qa+h0OtjtdmHWuby8jLW1tUNmr1r3fNrjnWEYhmFOivdOY0ZEo1FkMhkYDAaxaNHpdMjlctjb20Mmk4HJZKrLIoAWGIlEQmhompub4XA4RDRGrXJoQSPvfj969Ai3b9+GzWbDpUuXxML3tHeYScDc2NjAd999h8XFRaTTaRGkwmw2C82FDC3qzWYzmpubYbfbEYlEsLa2hsbGxrrmZKPFZCKRwO7uLoLBIK5duwadTodHjx6dSKJrEqY3NjZQLBaFmR9Qmx/P4uIivv32WywvLyOXy6GzsxNNTU3CtLWW6IEnhVqISCQSePz4Me7fvw+Hw4EPP/xQBCjRWmjrdAepInw+HxRFwc7OjhCojgOll5iensba2lpJMInm5mb09fWV1IHGA4XQz2azQiCUzf2OIiwR9Mwmk0lsbW0J3zun0yk2ANRtUan/6F7ka5fTtlHdZSEsl8shlUphb28PiqKIZNPFYrEkbYBsblip3+T5hja75ufncZxXQgwAACAASURBVOvWLcRiMVy6dAnd3d0Voy0aDAb4/X64XC7s7+8jEokIQZFhGIZh3kfeS8GM/JoAlJiTFYtFGAyGivl3joOsOUkmk7BYLPB4PCIqXznkxVU6ncaTJ0/w3XffIZVK4fPPP8fIyEjJoqpS+TInsYCnBZ3P58NHH32EYDCImZkZbG9v4+7du/D5fOju7i5rGqrX6+H3+2GxWBCJRETY/XrVVV4Mkx8c5RGjMaCluawH8XhcLIgDgQAcDkdFjZBs6hcIBDA5OSlyxG1ubuKnn36C3+9HV1fXIeFM5qT7XRYQUqkUnj9/jhs3biAej+Ojjz7C6OioMGUsV7Zer4fdbofD4UAsFkMsFkM2mxWmnkepM5n//upXvxK59Ai73Y729nYoioJMJiPCyi8uLmJ6ehqvXr3C2toacrkcfD4f2tvbMT4+js7OzpqSJZczJyZhqFgswul0CoFaS/OjNvmjv2VBUdZ20Xdknij7jVF9ZAGL2oOSUSuKIkw+KRl1oVDQNEGsRDabxfz8PK5fv475+Xn09PTgypUraGho0Nw0orrp9Xo4HA7Y7XZsbGxgZ2cHuVyubhtiDMMwDPOu8V4JZnLggp6eHgQCAayvr5cIZi6XC4ODgzCbzSKIRb3K3d/fRyKRgNForCnABC2qMpkMXrx4gf/93/9FJBLBhx9+iI8++ggOh6PEPFBrZ5sEErUpVj2hRRSFnp+cnMTIyAhmZ2fx7bffYmZmRkSgtFgsZetqs9lgNpuRTqeRSqXq5jtH5cl+NWazWfiZ2e12bG1twWq1IpVKvXF56rKz2ay4LiWGriRMU7/r9XoEAgF4vV5hIvi///u/mJ6eRk9PT4mvmpa/kfz3SfU7bRq8fPkS169fx87ODsbGxjA5OSl8kKoJjmazGVarFTs7O4jFYsjn82Vzmmn5V8mCbFNTE/x+f9lxk0qlsLy8LISxcDiMnZ0dGAwGeL1e9Pb2YnR0FL29vfD5fCWBK44qKFLbJJNJ6PV6seEjh8k/6vimzRoSwsxmM2w2G2w2G6xWqxjj5LupHhdkxknHkk+g2WwWPyaTSeQcrNR3ZAq5vLyM69ev4/nz5wiFQrh27ZpIeVHJL4/8/igKKvl5MgzDMMz7ynvlYwb8vIgbGRnBr371K9y4cQPb29swGo1CqPjwww/LLnS1qKXNaJGWzWahKIowTarmp5JOp/Hw4UN8++232N7exocffogvv/wSDQ0NQnDU6/Ul5pDy9bLZLNLptFjMmUwmmM3mI7WZul5qZLMqqrfNZsPAwADW1tawtraG7e1tZDIZWCyWEm2R2k/mpMaiXq8XeaoURUF/fz+2t7dx69YtGI1G4XsWiUTQ3d1dlzD0VG/S0MkaUPme1eeo/Y2Ag8h5vb29WFpawtLSEjY2NpBOp0tyoclaEup30ojQorteyGahjx8/xo0bN7C1tYULFy7giy++KBGOqvUfPQ/ydctp+8q1mdaxWvWNRCK4fv067t27J1Ij9Pb2YmBgAAMDA2hvbxfh8mlTQ+vZ0hqb9LfahJCiasoaL/W9aH1GY5XuSV0eXdNkMsHhcAhTSYfDIQQ1i8UiEpHLWmNKWE5jw+l0wmazCRPHcvMf1YP851ZWVnDjxg28ePECra2t+OSTT9DT03NoTqLryPdB9ycnSlf7/Ko5z+8mhmEYhnmvNGbAz/4RLpcLX3zxBdrb27G8vAyd7iAnU19fn4h4Vy9tmey/Qf9X2hmmhQeZL/7xj3/E9vY2Ll++jF/+8pcichlFL9Pazaf/l5eX8dNPPyGZTMJoNGJsbAwjIyPHjnwma7FkkyT1ApOuT2ZJ1cwt5QUb7frXS2NG1yfBLBaLYWBgAD6fD6urq0IrQhqXNw04UqkOQGVBRfYPIvNKagcSwgGUjClCbvvl5WXcv38f8XgcVqsVfX19GB4eFv1Rj4AqqVQKz549w3fffYfNzU1MTEzgq6++QnNzM3K5nBjjRqOxrABKf5MASdEBj0slzTDlk9vb2wMADA8PY2hoCH19fWhraxNabFkwqtc4oOdey89SfRwJTaRdBX5OOl9uYwQ40Dy63W6RpsLj8cDtdsNut4sxrtUPNCfSpg2Ns3JCEM1fy8vL+OGHH4RQ9vnnn2NgYAAmk0lsRpTLB0ftQWalJMidpGafYRiGYc46751gBvycU8lsNmN0dBQjIyNCwKAd23ol7ZUXNxTenhIZV9pNzuVyeP78Of77v/8bGxsbGB0dxUcffQSTyYRYLIbt7W3Mzs6ip6cH3d3dAA5rFQqFAl69eoUffvgBhUIBPp8PfX19dTMPLBYPfItev36NeDwuzO7IRGpzcxOvXr0CAGEWVq5suhZp1ShARr0oFosi59LW1hYSiQTGx8cxPDwsAsDQgrheyaUJ0gjlcjlkMpmyGlLgQNiZm5tDMplEa2sr3G63OHd1dRXhcFhEGZR9FGXBN5lMYmZmBjdv3kQikUAgEBD+VZV80mqB+p3MF7///ntsb29jYGAAExMTsNlswkdwaWkJ7e3tYsxp+SwVCgWkUilhumqz2UqCdhwHrfOobLvdjvHxcYyMjKCnp0cEpiHhUA76IV9Lfc1qWjv632QyCVO9VColxlk5FEUR5n3y3EH57OQIi3RPlKOMnp9sNot8Pi/yHpKpI212qLWr6vmunLaMhMNsNivMFx8/foympiZMTEwgGAwikUhga2sLCwsLMJlMGBkZ0TTbVmt2FUURmkrWiDEMwzDvKwbg8O71+2IuQru2slB0HE1NtTajhY7T6RQJgiORiDBFlMunBfbW1hZu3ryJxcVFmEwmRCIRfPvttygWDwKU7O/vY2NjA4qioLu7u0SDQnWJRqNYWFgQESY7OzvR1dVVUufjIN9vNpvF48eP8ac//QmdnZ1oa2uDw+FAOp1GOBzG7Owsmpub0dvbKwKVqNu3WDzwo6P8bA6HAy6Xq27h4KmuTqcTfX19WFlZwcOHD9HQ0CAiYwIQ/VFPTR0AWK1WeL1ebG9vIxKJIJlMwmq1lghJVMd4PI6HDx/i8ePHCAaDaGlpgcvlQiKRwOvXr7G4uIiWlhZ0dXXBaDQKE0n5XjOZjBA+rVYrQqFQSb8fF3mOWF9fx61btzA7Owuj0YidnR3cvHlTtN/e3h4ikQg+++wz9Pb2Hiqb7peSIJNZocPhKHkuq9XjKHXX6/Vwu92YnJwU2jlZMNESHCvVodozROazbrcbhUIBe3t7SKVShxI6y9egCKUkpJA2izZrUqmUEM7ohwTlRCKBeDwuIqDqdDrhLwZABGIhDZY832gF6JBNKYGfA+hEo1FMTU3h6dOnSKVSiMfjePToEZ4/fw6dTiciUfb19aGvr08ImfJ1qGwK+EKm5KRtq5Qq4X14NzEMwzDvJ++lxoyQd45rjUB2HOj6TqcTwWAQ8/PzWF9fx/7+PhoaGjTPIRMfWlitrq5iaWlJLFjIHNNmsx2qOy16otEo1tfXkc1m0dDQgKGhIXi93rpqhIxGI7q6ujA/P4/Xr19jdnZWaHJ0Oh1CoRA++ugjdHd3awZuoPqSaVQymURHRwf8fn9d6gf8rC2xWCzo7e3F8+fP8ejRI2SzWZFLLpfLoaWlBSMjI3UrlxaQ1O8U+S8Wi8Fut5douWgcWq1WdHd3Y2lpCa9fv8arV69KklF3dnbiF7/4hRC01EJZsVhELBbDxsYGcrkcnE4n+vv74XK53tiEUS6HtDTkk7SysoLV1VXR1iQEWSyWitdKpVJYXV0VqRUoj1W9kQOEUJ1ks8I30c5p1Ze08larFYFAAFarVQjmpL3SupbBYBB+mGazWURdpGcqlUoJX1UKLJLNZoVAnkgkRIRGo9EofM1kPz6a99SaN9nvk4LlUNn0Oc0tmUxG1Hd/fx/RaLRkk4GSecsbRbL2UafTIZPJYHNzE3t7e3C73fB6vSJSJMMwDMO8j7zXghlQPX9QvSgWD3ynOjs7cf/+fayurmJnZ0f4NMkLpGKxCJ/Ph7/6q7/C7u6uqJ+8iCwWizCZTOjo6Dh0LpW3u7uLvb09ITxReHW6xnGRyzKZTBgfH0djYyMWFxexubmJdDoNs9kswo63tLSULIbV7ULaveXlZSiKgq6urqoR/Y5TZwBoamrCRx99hFu3buHp06d48uQJDAYDXC4XJicnhV9MPcs1m80IBoOwWq1YXV3FxsaGyD9Hx9DC2Gq14sKFC/D5fFhcXMT+/j5SqZTI9xUMBhEMBku0j0CpBmd3dxebm5vQ6/Vobm5GZ2enZt6z49wLjbVAIICvv/76UN4xuT5msxltbW3C31BLKx+LxcSGQ1dXV9UEw29SdzVvujlRrX6klWtsbITL5UI0GsXOzg5aW1tLNinkIBhGo1E8K/l8HkajEVarVWj3MpmMMFuMx+NQFAWxWEwIS8lkEmazWQhldLzstyn7rcnBQOT5hcy6yXyRvtPr9XA6nbh8+TLa2tpKApsQpNVvamqC1WoV15THhl6vRyKRwOrqKvL5PNrb2+Hz+d6oPxiGYRjmXee9F8zqhXrhofUdmR12d3fj5cuXwkdMzpMk+8KMjY2VfCabPKp9RNTk83msrq4ilUrB4/EI4Ql48wWpfF+0E9/d3Y2Ojg4R9IGCCcjCYjkzsWKxiKWlJSwvLwutldVqRS6Xq6uApNPpYLVaMTY2hkAggNevXwsNg9/vR1tbm/CDq4c5o1qA7u7uxosXLxAOh9Hb2ys0I2pNAgXr6O7uFr5CchS9cpovnU6HbDaL7e1txGIxuN1ujIyMCCGwHm1JdXQ4HBgaGir5TAt1ImSZXC6H9fV1LC8vw+v1or+/H1artWy4fHV/HOeeTkLgK/e8AwcaOr/fj87OTrx69Qqrq6vo6ekpMWE2mUwiQIfNZhOCVy6Xg9VqhcPhEME7crkckskk4vE4dnd3hUBG/mUkmNHzQz8Uol++dzmVBmnC5CivdAyZy1KdjUYj2traEAqFNPuWziXNl5bPWjabxcbGBlZWVuBwONDf3y/yntUz6ArDMAzDvEscCpcPsB3/UdESkLTaT6fTwePxYGxsDOFwGDMzM7hy5Qr8fn9JxDVa2JWL3KjeeVYvfMj3a21tDel0GkNDQ+jp6Tl0br2gRR2ZP5HZFS3MZJNRGVq0x2IxzM7OIpPJYGhoCE1NTSVmfvWuq6IoCAaDCAQCoj3IXJAWy9WiSB4FnU4Hr9eL0dFRLC8vIxwOIxKJoKWlpeyzRuWT9k72ySq3aC0WDwKo7OzsoFgsoqOjAz09PRWDrhwX2T+pElp9T/2eTCbx+vVrpNNpjI+PIxgMVtzgoP9prNVDeD4uWnOmDNVNr9fD6/VieHgYkUgEy8vLWF1dRWtrK4CD/iWTRYvFIgQv2RSSIitSDrREIiF8VOPxOEwmU4l5YzqdFsmiSbCica1OS0B1rSawyvdL/U7zk/o8eaNBK2Q+mWQuLS1hf38foVBIBKeptinC7yaGYRjmPMMasxNAvbCUd/aNRiMGBwextLSEmZkZhMNhYcKjXpRU02xVS97a1taGsbExXLx4UfgY1TPaIEELPnnRVstiDzhYIO7s7GBxcRGhUAgXL14USahPoq6yiRaVD0DkLat3mSTkGQwGdHV1YXh4GHNzc5ifn0dLSwuAw5ofuT3lhWgtmgQK+T86OoqhoSGRWuFNIx1q3ZdsnljpOBl5jFP0vpaWFly4cEFELyzXB/KYelsmyNXQ0gbR3/IzHwwGMTg4iJmZGaytraGpqUmYJ8pjMp1Ol/h62e12uN1uOJ1OkW/PYDAgk8kgHo/DZrMhHo8LDVs2mxX+qaRJo3x21GdyGgY5hD/9riUQitb31f6XiUQiWFhYgMvlwvj4ODweT13HJ8MwDMO8i7BgVmfk3WKgdDFDCx6fz4dPP/0Udrv9WIvNSgsYWnzZ7XZcvXoVIyMjcLlcMJlMdbi7yhxlsSwLG8ViEV1dXRgZGUFbW9uJCGRyubLmoJyZXT2h8nw+Hz7++GM4HA4AqKpxkttTFtjLCUNkYvjBBx9gcHAQVqu1xF/uJO7xOKaE8u9QKISenh50dHQcafyc5BipBRJiZA0m/Vb78pFf1uDgoPD/InNlo9EIk8kkBDNKBG42m0tMGUljRqaPlHPMbrcjkUiIICCU+DmZTCIajYogHBaLRfyQcKYWrCsJaEcxL6x2HH0fCAQwPDyMkZERMT/VUsZZEcoZhmEYpt4cMmWs5LfElKfSDrK8qKbPGhsb8eWXX5ZE3KtnXQAI3yngZ7PHo/TrUY49ikAmC6HFYhGtra0icp1WW6kXj/VE1k6o66mmmqlXpe91uoMIds3NzcKXRu73am1da18Ui0WRL082zay3AFoP/7u2tjY0NjbCZrNVzV9Vrv6nbcqoVQe5T+k7RVHg8XgwMjIixgKZ1VKIeDJBNpvN4jOz2SzaRxaY6DzKeWaxWJBIJESuPNKUkdBG5o1UP606EmoBTf5cfibVAqla66vVZlR+c3MzPB6PEEyPs6nDMAzDMOcN1pjVAVpUUAJf9XdqFEURjv6yOVG9oYAB1epz2lDuKuDkfEjUJmdqoU+96DwJqAyKVHdSYcG1QrGfRWw2G+x2+5H6XC0snDbyBgNweBNBFoBIEwZA5CCTfRtJMCM/zXw+L4QvMnekIDCyUJZKpWC32xGPx4XWLJvNioTU8t90zXLmipU0+JU+l3/XgjqJttyG1dpb62+GYRiGOQ+wYFYnSBt1lEUjOeBrJXdVU+8AGNU4zqLnKOfIAhH5ppXz8Srnu1Ppum9St0qU09jImsBKqLUo9ajDaXHUMVmu7Y4qaJ2V+1cLCVpaV7XALwsiam2U+lyKhkjPhxzanswTM5kMbDabyFdG/mRypEaK8kj/k5aKTBplwUoteFWyBJD/r3aMGronuR202rCSFQLDMAzDnDdYMKsjR/V9KLcg1Vrw1kNLcJL+VMf1NaK/a72/Wv1XTgKta9Ni8l3xjaonb9rW52FxraV51RIu1GOE/qfNGfqO/M/kKK2UNkLewCBTRtnfzGKxwGAwiOiMJIzRTzKZRCqVEpo72Y9MvpdKWrF6ovUsVHo+zsN4YRiGYZhKGNTaiEq+E8zb4V1s93exzkelHvf4PrTT+0C5flSbZarnUy0/Xi2hjgQmWUCTtUwGgwEGg0EkpibhzGw2I5PJiAiP5GsmC2YU/VJtankcqm1G1VODzc8OwzAMc95hjdkZhHeGGeZso2V6KGvGjho4RxbWKKm4fG2g1PTZbDaLCIzkr+VwOIS5Iv1OJBIirH4sFoPVahVmj+RrVkv9jmoNIJ/LMAzDMExtnB+7KoZhmFPmTTRBJJRRAA8tk0gKMmQ0GmE2m2G1WoWmjELjGwwH+20UoTGTyYjIjKRBU5dRSZA8rlDGMAzDMMzRMNAurLzTe1KR8RiGYc4rWsE/jvJTKBTKRupUBw0hPzODwXBIQDMYDCLHWiqVQiKRgNVqFaHzSTizWq3Cp02t5aP/j2LqqPahYxiGYRjmaLApI8MwzClSTjNGfmblQvBTdEWLxYJUKgWLxSKCgSiKIoKAJBIJoVFzOBxCQNMyZ6wUiIe1ZgzDMAxzsrBgxjAMcwqUS+4MQORE1PpeURQUi0WhLcvlckIDZrfb4Xa7RTJpCrNPZo3JZBLJZFJo0Sg6o5y6QQ7zz+HpGYZhGObtYahkWsMwDMPURqXoi1pmi/RbPlcdmVF9XfpMNmeU/c3cbre4JmnNjEajMFkEDoS1bDaLTCaDXC5XEu1RnYtRnaePYRiGYZiTgzVmDMMwp4RerxeClFpLpRV6n46jc41GI/L5PCwWC6xWq8h5ZjKZYLPZkEqloNfrYTKZ4HA4YLPZYDabYTQahZasWuh/FsgYhmEY5u3AghnDMMxbRha+1MJYpaTlcmJqvV4vcphZrVbo9XrY7Xak02nE43FEo1Gk02kUi0UYjUZYLBa4XC54PB4hpJlMpkPllUtEf5IJ6hmGYRiGAQzql2wteW0YhmGYw9RqBl5OuCn3uZzLTD5WURQR7MPhcAAAMpkM4vE4EomESDZNWjO73Q6XyyVC65NgRqaV6vLpXBbGGIZhGObkOeRjRrlt2MfsaHB7vZvwgvNsUu55Omv9VSlEvvr/cv671e5JnWtMvgb5mhmNRnE8RWB0uVzIZrNCmNPr9cIXzWQyiXxnNOdTREZ18A/yP1Nr9erNu9LnDMMwDHNSHDJlZI3Z0ZGd+JnzCz8bp89ZMqcrJ2gdZZPmqPdRTXghAYpMHNWJqin3GXAgkKnNF+kzLQFNvn69kdtSvr5WWWeh7xmGYRjmJCgRzFjAeDM4ouW7x0kuoo9TxknW4zSptQ0qLcTloBeVjn8b1BLBtp4aoHJaNq2Q+qRFU+dBo2MplL76WrIQpvUjH1NPqpl1yt+fhb5nGIZhmJOCw+XXgUrhr5mzizpx71GO16LSNTi6Xe1UW6jLZnynlWdLHfa+XKAMLZNGmXLnaZWlDrevFsrk79TXLqfZUxSlJJm1/KMOm69u/5NE3S5qM0rWXjMMwzDnEY7KWGfUi6H3kaP60JwWsjahFsHpTe7jKOeeJXO9amiN8XLPQLlog+rPqkUkrMXc7W2gJZhp3bssFNUyxsq1aTmhTas8WWiT6yf7i2ldUy2UnbQJYzm0hMhK0SoZhmEY5jzAglkdUTv91wst89K3vVCqBbVW4CwsnrWQ60cLUPKtKbcAPg3Oer9raYXkxXMlLVI9tS+ntVjXEopqPa/WgB/0t9rMXB2MI5/Pi8/V56ifRy1hS6tOtQhl5awrTnKcnpXxzzAMwzD1hgWzE6CWRZrs6F5t0SP71qh34c/CIkV9L2rhppLJIB2rjvx2kuTzeSQSCSQSCRQKBZjNZtjtdphMJgAnH+RDjpKnhbq91IvtauPmbaGupxwwQu7TN722XMabjvmT1uZqCZ1HeWbVGxt0z7KgJfd9oVAQQpm6LBLK5HK1xpxsykj/q39X0gTK1620OVPpPtX1YRiGYZj3EfYxqwNau9NayIspIp/PVxQESIiIRCJIp9NQFAVWqxUejwcWi0Vc97Q1BrlcDqlUCtFoFIlEAgBgs9nQ0NAAk8lUsmCXketNbXESJktUbj6fx8rKCh4+fIjFxUVks1nY7XaMjo7iwoULsFgsbyRQ1FIHrf/VC998Pn+oPe12O9xuNywWy6kLZ1R+LpcTyYxTqRR0Oh2sVitcLpdIelztOke9l+NqpbU0T8DPwTLKXbOcWaXWM19J4yqbPZbboCDS6TR2dnZE39Nz73Q6RVRFWShSC2HV5nG5Duqxp9ZsUi4zdfvk83mk02lEo1FEo1EUi0WYzWa4XC44HA4oiqJZrtwH6vuuprHmdxPDMAxznnnvNWa0SFD7VJwU5LQfj8exvLwMl8uF1tZWzcVGJpNBOBzGo0ePMD8/j2QyCb1eD6fTiZGREXzwwQfw+Xyi3qe1YInH41hYWMCzZ8+wtLSEWCwGAHC73RgYGMCFCxfQ2NioeW4+n0ckEsH29jYaGxvh8XgAnEw/5PN5bGxs4ObNm5ienobH44HNZsP6+jr29vbg8XgwODhYt/K0BLFEIoGVlRVYLBa0t7cD+Lnv6PhEIoHZ2Vk8ffoUa2trSCQSKBaL8Hq9GBgYwMWLF0W/nwZUz2QyiXA4jMePH2NxcRGpVAp6vR5utxtDQ0MYGxuDz+fTFM6o3zc3N9HU1ASPxyMEpJMYx9S+8XgcKysrMBqN8Pl8MJvNMBgMFRMpH2WToJwWqFgsIplMYn19HQDQ1tYmNixkaIw+ffoUL1++xO7uLvL5PMxmM9rb2zE+Po7Ozk6RGFqtpSShXj2mqE50jhz0QyvwRzkzVPq7UChgY2MDU1NTmJmZwfb2NnK5HOx2Ozo6OnDhwgV0d3eXbMrI/RCNRrG5uQmn0wmfzyeEuLNiBcAwDMMwp4Hyd3/3d/8fmcNks1lYLBY4HA5xwHl+Sco7zmoTvKPedy07uXRMOp3G48eP8cMPP8DtdqOjowO5XO5QmcvLy/if//kfvHz5EhaLBQ0NDTAajVhZWcH8/DzMZjNaW1vFouZtO+cXiweht+fm5vDNN9/g+fPnUBRFaMk2NzcxNzeHQqEgFqLq3flCoYCVlRX88Y9/RDKZREtLy6Hj6lHXQqGAXC6HmZkZ3L17F6FQCL/61a8wOjoKg8GAubk5WCwWdHd3l12gH7VM9f/pdBpPnjzBzZs3YbFYEAqFDo23TCaDly9f4ptvvsHc3BwURYHH44HRaMT6+jqWlpag1+vR0tJSojl72+TzeayuruLbb7/F9PQ0LBYL3G43FEXB2toaFhcXodfr0draKkxE5bYoFApYXl7G9evXEYlE0NzcLO5Hbg8ZtWldOa2PGlm7tbOzg+vXr+PRo0diA8FsNsNoNFbV2mkJK7U884VCAZlMBnNzc7h+/TqSyaQQrtTa2f39fdy7dw8//vgjUqkUGhoa4HK5EIvFMDc3h2QyidbWVrjd7pL5S/5R11kWxuSfWgQ09b3LQvmdO3dw/fp1ZDIZNDQ0wGazIRqNIhwOIx6PIxAIwO12Hzq/UChgbW0Nt27dwvLyMnw+H+x2e8lx5fpBp9OJOjMMwzDMeaPElJE47+YisqlOIpFAMplEsViEyWSCw+EQL/+jXK+a6ZBssrW4uIibN29Cr9ejsbFRJIFVn2s0GtHW1obe3l4MDAzA6XQilUrh/v37uH79Op4/f46RkREEg8ESrd/bgOpaKBSwtbWFra0tDAwM4Nq1a/D7/Uin03j58iW+//57vHjxAoODgxgaGkIulztkFuV0OqEoCu7evQufz4cLFy4Ic616LMConHg8jlevXsFms+HKlStobW0FAPT29uL58+fY29tDLpeDoih1EXjkcZbL5bC4uIg7d+4gnU6jqalJmInRb+BA4FlfX0ckEsGFCxdw6dIleDwe5PN5TE1N4fr163j8+DF6e3vhdDpP5TmlMk0mE9raRFfqTwAAIABJREFU2tDV1SXqk8lk8OjRI9y5cwcvX77E0NAQ7Hb7Ia0OAGGW+eDBAzQ0NODSpUuHhLhK5avnrEpaYznRcjqdxosXLxAOh9Hc3IzOzk709/cjFArB7XaLfq8koGs98+W0baQFu3v3LlZXVzE8PCySP6vrbzAY4PV6cfHiRXR3d6OlpQVGoxHhcBjff/89FhcXMTs7i0AgUFJHdZtomVjS8bIAVmnO0GpL+TO3241Lly6hp6cHzc3NKBaLeP36NX744QcsLS1hcXERbW1tmv5pTqcTdrsdL168gN1ux8cff1zTeD7v7yaGYRjm/Ub57W9/e0hjRruXwPnVmGUyGSwsLOD27du4efMmXrx4gc3NTdhsNrhcriMJZkDlBYO8aEqlUvjzn/+Mp0+fYmxsDBMTE2U1XjabDe3t7ejs7ITb7YbRaITZbIbVakU4HEY6ncbAwAAaGho0zz9J5LJSqRRsNhuuXr2K3t5eGI1GWCwWYSa4ubmJ9vZ2IQipd8UNBgOSySRmZmaQTqcRCoUO7aDXg42NDfz0009wOByYmJgQGpTl5WXMzs7CYrFgYGCgxHfvTZC1BMlkEg8fPsTz58/R19eHDz74QFMI0el0yOfzcDgc+PDDD9HV1QWz2QyLxQKz2Yzl5WVsb2+jo6MD7e3tJ+YPV+2+9Ho9rFYrWltb0dXVBb/fD5PJJPzKFhYWkEql0N3djaamphKTO7qG0WhEPB7H9PQ0kskk2tra4HK5ygo6lTRm8vdyTsFyglOhUEAikcDGxgbm5+exsLCAzc1NZDIZKIoCs9l86LmspjHT8tUiTenLly/x4MEDNDU14erVq3C5XJrXNhqN8Pv96OrqQjAYhMVigcFggNVqRTQaxdraGpqamtDV1QWDwVCxLWQtmlpLJgtoWtoyrT5XX7upqQk9PT0IBAJifJpMJmxvb2N9fR0tLS3o6uo6JODSxlc2m8Xr168RiUTQ1NQEv9+vWZ66HqwxYxiGYc4r752PmWxK84c//AFTU1NIJpNiMba8vIzf/OY36O3tPbZZoxYk/C4tLeHFixewWq3o6OgQO+daO9d6vR42m61kZx0AstksstlsiSnSae0iK4qCvr4+dHV1wWg0ltRVXigD5QMrGAwGhEIhNDY2IhwOY2ZmBj6fr8TM9E3J5XKIxWLI5XLw+/1IJBJ49uwZ5ubmsLe3h0gkAo/Hg3Q6Xbf2lH1+NjY2MDMzAwDo6OiA0+kEcHhhrigKent70d3dfWhzQK/XC00iXf80URSlZBMH+P/bO5Pfto47jn9JPu4UxU2iKIpaKUuyFle24ziOnTpwbBcwWsQHI6eghx7aHnJK/oWe2t5qFAhQoAVySmCgSIDUSGqkgRM7sVQ5lmXJlmUtliiKpEiK+072IMz0iXqkNkrefh9AkC2Rb35vZh413/ktsz7WbH4qFAoIgiC5acHG3eVywWazYWlpCTMzM2hoaOCCY6eI2xELI3Ef6/V6DA8Po6OjA4uLi5ibm8Ps7Cx8Ph9++OEH3L9/Hx0dHTh06BDcbjfsdjt0Ot2u7GCfNeFwGFNTU8hkMmhvb4fJZKo6dmq1mtvL8sVYKC6w7qkUzwMxTACLv5eLoq1CNsuRer8gCPzaYm8km+/lc1X8fhad4HA4YLfb8ejRIzx+/BgulwsGg6HqZkP5mBIEQRDEy8QrJ8xYvsfU1BQmJyeRTqcBrIc6Ma/NTz/9hPb29h17zbYin8/j6dOn8Pv9cDqdPBypfKFUHqLFdpdDoRC8Xi/u3r2LWCyGwcFBmM3mZ7ZAZ4ssthtfviD1+/1YWVmBXq+HyWSCQqHYtOhitjc2NqKpqQnz8/OYmZnB0NAQD23ayyJMLK7T6TQKhQIUCgWmp6cxOjoKvV7Pi69sVVVzN+2WSiVks1ksLCzA7/ejvr4eDQ0NmzxIYjuVSuWG98vlcuRyOaysrPCCCeKQu2cJszOXyyESicDj8eD+/fuIx+MbvLnARhHK5k19fT2am5vh8XgwPz+Pw4cPVywUs5UdhUIB0WgUHo+HVzNk7anVajQ3N8NqtUKlUqGhoQEWiwXd3d3w+XyYm5vDkydPsLCwgImJCczNzWF+fh7vvPMOOjo6qhYHqWZTLpeDx+PB0tISDAYDWlpaoFar+biWI54PhUIBiUQCgUAAjx49wtTUFO+v8mdJHMpZ/rlVLRdvtwJY/O9isYh4PA6/34+pqSnMzc3BbDbDbrdvCFuWigiwWq0oFov8c5HlN2/13JM4IwiCIF5GeI4ZsL1cqRcZdl/5fB7Ly8uIxWK8IhsjmUxiaWkJqVQKBoNhW/1Q3oeVYAUAMpkM7HY7LBZLxXwZMYVCAR6PBzdu3MDy8jKCwSCam5tx5MgR6PV6vkP9rMZMfA/MYxIIBDA6OopYLIbh4WE0NTVt8vwx5HI51Go1HA4HBEGAz+fjizTmMdirbcViEel0GtlsloeEqVQqXLx4EXq9HtevX99UcnyvsOuk02ksLy8jlUqht7cXNpttU8l2cR+WF0rIZrPwer24d+8eMpkMBgYG4HA4qnoiDwLWLvMEf/vtt1hYWEA0GoXL5cLg4CCMRiPP25N6r0ajgdPpxN27d+HxeHiVRqnDtYGN1UfF983m3dOnT/Gvf/0Lfr9/Q6XVxsZGXLx4EWazeYOgYZ5rk8nEK4JOTU1hbW0NPp8PsVhsU0gka7vSXGHjxsZueXkZkUgEfX19PKxT7GWq1K9ra2vcixeJRCAIAo4fPw6Xy8XnSbngEvdPpZw38e/2MneYDeFwGLdv38bk5CRCoRB0Oh36+vp41VGp/gHWx76pqQkGgwHBYBB+vx8tLS1VN8TY/T3LKAGCIAiC2C9eOY8ZWzQxmKBhf+zFeRe1/MPPFujRaJRXLmRhXpVyOsoFDwsPUiqVSCaT8Hg8aGtr2xROJtW2+Lq1RGr3PBQK4c6dO5ienkZzczOOHj3KRW6le5XL5WhqaoLRaEQkEkEgEEBnZ2dNbWWL4Xw+j0wmA4vFgsbGRmQyGQiCwIVjrfsolUohEolwT41Wq63ajlhM5vN5BAIBjIyMYG5uDm1tbRgaGuIhrltd4yC9CgqFAkqlEoIgIJlMYmVlBS0tLTxsUwqlUgmLxYK6ujrE43EEg0Fks9mqz0YlZDIZNBoNmpubodPpNjxDrGogex3L/VpbW8PKygpmZ2fx9OlTeL1elEol2O12dHZ2bsoFq4ZUuGYul0MymYRMJoPJZIJard4gqKXy1tj3YrHIQ6xVKhWy2SwCgQAXP9vJB6vUT7WC3YMgCLy6ZTqdht/vRygUkhx7sbgym80wm81YWlpCOBxGNpvlzwdBEARBvGq8UsJMnB9ht9thMBiQSqX4z4vFIt/FZaFCtah0yIRfPB5HKpWCUqmEwWCoeG2pkK+WlhZcunQJgUAAExMTGB8fx8jICOx2OwYGBjaFxonbFh9sW8sDnKV2wsPhMEZHR3Hv3j2YzWa88cYbaG5u3lBcoNJ1tFotFAoFUqkUUqnUnmyTQjzOzNb5+XnodDpks9lNor0WsHA2djg4OzdrK1hO4urqKm7fvo2JiQlYLBacOHECLpdr10Khlojnp9PpxMWLF+H3+zE5OYmJiQleZXN4eJjbUz63S6USLxYTjUb5OOwUuVwOlUqF1tZWmM3mDdU/gfUCMyxMLplMwufz8QqHi4uLCAaDAACr1YrBwUG43W60t7fzXMed9p1Y/MXjcV4sRalU8t9Lbf6Ui5ZTp06hu7sbs7OzuHv3Lh4+fMjFTDXBK/bk7SavbCf3aDKZcOrUKfT09GBmZobbabFYYLPZuIgst42F7SqVSi5gq202iO+BQhkJgiCIlxEB2ByW87KGMgL/LzowNDSEp0+fYmJiAplMBsB60n13dzeOHj0KpVK57VCxrfqNCYFkMolsNssXopXCssRFM9gChHnZTCYTrFYrstksJiYmsLCwgIGBgYp2MpvEuR61GluxZwcAAoEAbt++jbGxMdTV1eGtt95CX1/fhtCkSmFNAHgxk0KhwAsdVLqvndrICj+wghSNjY0YHx/H9evXodPpEAwGYTAYEIlE0NzcXLNQRmC9PDvLZWSVGMtFv1RYXiAQ4KFsFosFZ86c4UVpmCCSEpLlc7Fans9e7k28wFYoFDCbzbBarbDZbMhms3j48CFWVlaQy+X4mV3l12DvZR6yTCaDQqEgKV7Fmwvl9yMOj2NeqfK8R5lMhng8jpGREYyNjcHn8yGdTkOtVqO9vR1dXV289LvRaIRKparoOd8qlJF9T6fT3GPGKj2WPzeVriuXy2EwGKDT6dDQ0ACNRoNvvvmGP/NGo3HDPKomxGv9eV5+38xOm80GpVLJS+aHw2F+XIIU4rHP5/OSn4fV2iUIgiCIl4lXymMG/F+YNTQ04Pz582hqasLi4iIUCgWampowNDTEy7rX6lwwttNbKBRQLBYhCAIXK9XCmcTCjYW1FYtF6HQ6XvQjl8ttWKyI8y9kMhkikQiWlpZ4nk9DQwM/Q6tWsPDF77//HmNjY9Dr9Th9+jQGBgagVCo3LEbZfVXrJ3bNWtgo9syIS6D39/dDqVTC6/VCoVDA5XLx0uS1hHnhmNDcak6x1/v9fty6dYt7yt5880309fVtKJEuDr0sDymNRqNYWlpCJpOBWq2G1Wrl+U177VfWfvm8Y4KaFXVgwiSbzfJKg+V2ijcNAGyrFDqb2+LXlQs0cYgy+yoWi4hGo7zIh16vR39/Pzo6OtDZ2ckrMLLy8eKNkd0i7iPmBa10j+UeLvZ6APx8M61Wi1QqhXQ6LemFYhtAKysrSCQSvMBKU1PTBm/dXhDbyf7P7FSpVDCbzdBoNHzsy+eK2F7xOFYSmARBEATxqvDKCTOGUqlER0cH7HY70uk0BEGASqXa5MmqBexaKpWKh+0wD0olCoUCYrEYgPXdaCZwCoUCwuEwVldXudiQao8Jm5mZGVy/fh3ZbBZ6vR5vv/02HA5HTYpqsK9QKITvvvsOo6OjqK+vx9mzZzE4OAiNRsPPijIajbDb7VW9BNlsFrlcDmq1GjqdrqZVEsXeh1AoBKPRiAsXLvCjElj+GTvMuVbClXl4BEHg91cpx4j9fHV1Fd999x3Gx8dhs9lw9uxZHD58GEqlEtFoFOFwGPX19Vz8lPdRLpfD7Owsbty4gXg8DpPJhBMnTvBqh7UQG6wSH9soUCqV3CsWjUYRCoW454uJ3UrtsvL67LyuvYhjqZA9sTBTKBQwmUwYHh5GT08POjs7eb6n+DyvUqlUE5EuLhvPNmYqUSqVuOjS6XR8o4AJ+1AohGQyyb1nUv1ZKBSwuLiIr7/+Gj6fDwaDAcePH0djY+Oe70UMs1Or1W6wM5FIIBwOI51Ow2azce9lpbHPZDLIZDJQKpV8HhEEQRDEq8orKczYAqFQKHARAGy9o72X9orFIgwGA9RqNWKxGCKRSMUQKRZy9e233yIUCsHtdsPhcECj0fDDaufm5njp7Er5Zel0Gl6vF8FgkIfviav57Rax3YlEAvfv38f4+Djy+Twvfz05Ock9dtPT0+jv74fFYtlQKU/cP4VCAfF4HJlMBlqtdtM5X7Wgvr4eHR0duH//Pubn52G1WmEymTZ5sWoZ8geAC/5oNIpkMol8Pi95VpdMJkM0GsW9e/fw4MEDKBQKWK1WpFIpTExMQCaTIRAIYH5+HsPDw2hoaNhU6ZKFA3o8Hvh8PgBAU1MTHA5HxYPMdwIb+2g0ilu3bmFlZQUdHR1wOp3QarVIp9OYnp7G48ePUVdXB6fTyc/qk2qXHfScTCb5uWjllVL3ijivzWQy4fTp01AqlfwIB6nncC99JH4eNRoNDAYDcrkcEokE9xCWl7oH1o/TmJ6exvj4OCwWC1pbW/mB2z6fD2NjY8hkMnA4HBXPQsvlcvD7/QgEAkilUrBarXA4HLxEfy3GPpvN4tGjRxgfH4fZbEZbWxvq6+tRKpWwtLSEsbEx5HI5nscr1S575suFGRuPgyxgQhAEQRDPC4I4FKla3sTLCFtAiRe34hDD7bJVv7GfabVaWCwWeL1ehMNhZDIZqFSqTSE+bIc5l8vhwYMHmJqagtFohEajQTabRSQSgVarxZEjR9DV1VUxTCgej2NlZQXFYpHnz7HF/F6qTorbi8fjmJmZQTAYhEKhwNTUFKanp7n3gbXV1tbGc43EMNGaz+exurqKbDbLBZNUmfK92MuKQzx48AB37tyBTCZDa2srPydMr9fDZrPVbO6z69TV1fFxDwaDfNzF4kPsfZyamkIoFIJKpcLExAQePHjAc7GYwOnu7t5Ucp1dI5VKYXV1FZlMBkajEW1tbXA4HDW5L3YNdu4fG2+DwcArB0YiEej1egwMDKCtra3iM8HmeCQSQSqVQl1dHc9HYrlTtco1EgsllkPIPFjl4Z3V2pSyodrPVSoV9Ho9P2g6kUjwjSCp9xUKBXi9XkxMTECn00Gr1fLwxFwuB7fbjf7+/k15W6y9dDqNYDCIVCoFtVqNtrY2PsfZ59xenntgfezZEQ4TExMYGRmBXq/nGwv5fB5utxs9PT0b7CwXoszryo4tYdVlqxVdepX+PhEEQRCvHq+kx0wMW/AeBDqdDi6XCzMzM/B6vVhdXYXT6dywEGGhWDqdDidPnoTRaMSTJ0+QSqWQz+eh0Whgt9tx6NAhHD58WHJHmi1cYrEYvF4visUiGhoa0N3dLVmEYTewcC+tVovu7m7uARLnPTGbmCBioqw8fI8tKJeXl5HNZuF0OmG1WgHUJs+PhROqVCo4nU4MDAzgxx9/xDfffMMPapbJZDhy5AhsNtue2ytvW6/Xo6WlBY8ePcLy8jJWV1c3jRvrz7q6OvT29vJcJ/F12HedToeWlpYNi21GqbSeXxYMBiGTrZ/f1dnZyce9VnPdYDDgxIkT0Ol0WFhYQDweR6lUgk6ng8PhQE9PD3p6ergnpZKHI51O8xzItrY2NDQ0bKqoWAvK86GknvtqXpjdCAFW8MPpdMJkMiEYDMLn823wHItRKBTo7OzEuXPn8PDhQ/j9fu5dbWpqgtPpRH9/Pxda5TaXSiUkEgkEg0Hk83k0Njaio6ODC8O9wuaoRqNBT08PZDIZHj16xDdUWPVYZqfT6ZS0k9nKPPqJRAKtra2w2+27OiaBIAiCIF4WXnlhdhCwhb9KpUJXVxfu37+PQCCA5eXlDYsX8euZiLDb7Th+/PiGEDiWK8W8bZVCxPx+P9LpNF9INTU1Afh/9cO9LNZYm3V1dXjjjTdw7NixiovpQqHAvQRimGekUCjA7/fD4/HAbDajv7+fHy5dC9iiWi6Xo76+HidPnoTJZML09DQSiQRUKhUaGxvR0tJSk/YY4lyl1tZW2Gw2hMNheL3eDYtrhlwuh8Viwdtvv83Lxpd7GdhcYp4UcTvsezweRyQSgUajQXt7O5xOp2Tu1W7viXmeWlpa0NjYiGg0ilQqhWKxyEPSWFiaOGeLIc75CoVCWF5ehsFggNvtRl1dXc2Oqahk/24KoOwm77RUWs8BdblccLlcmJubw+LiIjo7O/n4iceXzU+W/xaLxZDL5SCXy6HRaPgzX+mwbhYOHI1GoVQq0draivb2dh4aWuuw4OHhYRw6dAiJRAK5XI7Pi7q6Omg0Gv5aqU0jAHzjSKVSwe12882Y7dhJ4o0gCIJ4GRGkQhgpVGRn7KTfHA4Huru7cfv2bSwsLPAiGeKFhlgwCYIAq9XKFy2MYrFYUViVSuuFNJaXl5FIJNDW1oaenh6eiC/2bO3lnoF1McEW4tWQKuTB7jmfz8Pj8WBtbQ3d3d1oaWnhfVmrQizia9TX1+PYsWPo6+vj3hO1Wr1vhV/kcjlsNhvcbjdu376Nubk59Pf3o76+XjL3SqVS8ZwgKYEiFrTieysWi0ilUvD7/chms7DZbOju7oZGo6npwlzcP+zQbCn7xK+V6tNsNovFxUWEQiF0dnZysbqdoi97/YzajciqZMNWv6uvr8ehQ4ewsrLCz0xzuVySxwcA68Kkrq6OH24t/r3UER5iYba6uopwOAyTyYSurq6abnCIERdSMZvNG+wo7xMpUc5y4VZXV2EymdDa2rrhmAOpSo5S1yYIgiCIlwnymB0QbFGsVqsxNDQEj8eDxcVFeL1edHV1IZ/PVyyhncvlNv28WogQ+znzwPT29vKKiLXyRLAFNIBt5a6IQ/HK7Y1EInjy5AmMRiOGhoa410TsCdor5SGDgiBsWPhWqpRYi3ZZiF9fXx9WVlbg8/mwvLxcMcxPHG5XaYFb7gETX6dQKMBsNqO3t5cfRr1f3gWpPEAp28ph4z4/Pw+VSoXe3l6YTCYAtTum4lki9oRpNBp0dXVhaWkJ8/PzWFhYgMPh2OTJKg+3LJ8blZ4hMey8Q5fLhba2tg2VJWs5t9ncLM9zlLJX6r2JRAJzc3MoFovo7e3lVSPZ2Nf6oHeCIAiCeBEgYVZjpBaVbJHBFqxNTU147bXXMDIygkAgALfbDaDywkkq1LEazAN07NgxOJ1OuFyuTUU3asl2FozliHfXI5EIcrkchoaG0N3dve8Lc7HgKQ8R3C8UCgWcTidOnDiB0dFRBAIB9PT0cBvK266UX1YJ9juNRoPBwUE4HA7YbDbodLpNxRdqCeu33XgxWKjekSNH0Nvbu2GzQSz2pOw+6DC2SvconjdSApVtYJjNZgwNDSGZTCIUCvFKhJXa2sn9MduUSiXcbjf0ej1MJhMsFgt/jXgjpVbs5rkHwMNtk8kk3G43BgcH+TyttceaIAiCIF4kZF9++WXJ5/Mhm83CYDDAYDDAYrFsuZiLRCIA1sPC9kotr7WXNnZjByt7bzQatxWCxV7j9/vh8/nQ0tLCz6Mqh/V9OBwGgA3jshXlrwuHw5DJ1suF13KhK5UHVQkpzxBbpEWjURiNRhgMBm4rC5HaDqyPdvKeWrFV22KhkclkEA6HIQjChkIjexUaYhvKhefzkosj7gc27mtrazCbzTAYDPw15bDnUuxRY+KlVp9PO319pfDl8mdgbW2NhzPm83nEYjHu0VQqldseH3bd8rkmlYMotekg/i7F2toagP/38W4ov0alz4NSab1IydraGvR6/YYCPOw64s8q8XW2M/blHMTfl+3yKtiy1XWfpz7YT170+3yR7N+Lrbtd91V7z37//akF223zRZoH1Xje70NsH3nMasR2FwusBLhWq0V7ezssFkvF/B+2KJHynmzHHrZoFB9yW+sKlMy27Ygy8SJLHKZoNpt5WB8AbutOPGfsvp5FGNx22mb3q9VqecXFWnowxDaUh7M+T4jngMlk2taHpFhYiO/pWQrOamF6wGZPrCAIUCgUUKlU2wr3k7qu+LOgXGyxdsRzaifP+m69X9WuUcn7xYqciJ/58s+rSuO8U1FGEARBEC8SJMxqgHjBuJ0iCzKZjB+kKlUhTiocCtiZ6KgUGref1e528rpqoXvs3zs5U26/76+WbbN7l6pYeFA2PAukwka3E2YpvrfncVFezQNdfgxGpfvdzhzYzmfBVqK1Ujv7IcwqXU/8s/Kz6tj5h9Xe+7yNP0EQBEHUCtknn3xSyuVyyGazSCaTqK+vR2Nj477mpbys1Do3Yj/LhhPEi8rz9pm0nQqSQHWxVE20lr9GzE686VIhl/spdCrlCe6mvedtzAmCIAhiP6By+TWk1n1GifDEy4TU4nqn8/t5fCZ2m/cpRtw3WxUZ2asd22mvVuxlzA/KRoIgCIJ4XqBQRoI4QHYaYvayQ54QohyaEwRBEMSrCgmzGkILCmK30Nx5can12G2VB1ZrDtpjRhAEQRCENBTKSBAE8QLwIn4mv4g2EwRBEMSzgipLEARBEARBEARBPGOEcu+Y+DwZgiAIgiAIgiAIYv8RisUipL6oXD5BEARBEARBEMTBIBQKBRSLRRQKBZRKJRQKBf5vgIQZQRAEQRAEQRDEfiOUSiXuISv/DpAwIwiCIAiCIAiC2G+4MKNQRoIgCIIgCIIgiGcDD2VkXxTKSBAEQRAEQRAEcbBQ8Q+CIAiCIAiCIIhnjMBEmPiLhBlBEARBEARBEMTBIZR7ychjRhAEQRAEQRAEcbAI4rwy8RcJM4IgCIIgCIIgiINBEHvIyGNGEARBEARBEARx8AhSIYzMYyaTyUiYEQRBEARBEARB7DOCOHxRXDK/WCxCLpfvSJgxL9t2IdG3/2i1Wmg0GoTD4WdtCkEQBEEQBEEQFRBYCCNDXAxkK5hXTYrW1lYoFArMzc1teY394Pz580in07h586akbYIgYHZ2tuo1Wltb8bOf/QwzMzOYnJxEZ2cn8vk8nj59WjM7t2vLbrl48SJ0Oh2++OILEmcEQRAEQRAE8ZzChdnhw4fx2muvIZfL4ccff8TKygpkMtkG4SQWcb/85S+RSqXw73//W1KcdXR0QKVSYXl5GWtrawAO1kPGbM1kMjh58iQcDgdu3boFn8+Hzs5OqFQqeL1ebpsUuVwOxWIR+XweWq0Wbrcb2WwWjx8/3rVdu7Vlt1y/fh3vvvsuLl26hH/+858IBoM1b4MgCIIgCIIgiL0hsH+4XC4olUpkMhlEIhH4/X7k83ke1sjy0BjpdBqJRALz8/MAsEnA/eUvfznA29hMKpVCPB7H48eP0dPTA4vFAo/Hg7m5uW0LK41Gg2w2i9XVVYyMjGBkZGTPdu3Wlt3y+PFjLC4u4ne/+x0uXbqEv/71r1heXt7XNgmCIAiCIAiC2BlCsVhEc3MzbDYbIpEI5HI5MpkM8vk83nnnHfT29kIQBCSTSXz//fcIBoN49913odFoYLVa8fvf/x43b97EmTNnkEqlYLVauVgzGo24evUq3n//fdhsNnz66aeIxWL49a9/jXQ6jX/84x+IRCLcmA8//BAAoNfrYTAYkEwmMTExgY6ODjQ0NCCfz+O///0vrl27hgsXLuDUqVP4/PPPMTY2Brfbjffeew/T09P47LPa6wO3AAACZklEQVTPkM/nkcvl8Jvf/AZNTU0AgCtXruA///kP2tvbUVdXhz//+c+4cuUK+vv7kU6nYbFYkM/nMTk5ic8++wyJRALFYhHpdBpra2v48MMPEYvF8PHHH6OxsRFXrlyBy+WCXC5HIBDAl19+iQcPHuDo0aM4d+4cGhoaUCwWsbS0hE8//RTvv/9+VVuAdU/ksWPHoNfrkclk8NNPP+GLL76Ay+XCe++9h1AoBLvdDp1Oh2g0iuvXr2N0dLTqIK+treGPf/wjPvroI/z2t7/Fn/70JywuLtZ8MhEEQRAEQRAEsTuEUqkEp9MJmUyGUCiEhoYGyOVynD59Gj09PRgZGcEPP/yAy5cv4/XXX8e1a9fwhz/8AR988AFisRj+/ve/o7OzEzKZDDqdDjdu3IDX68Vbb70FmUyGYrGIW7du4fLly3jzzTeRzWah0+lw8+ZNZDIZqNVqHuIol8uh1+vx1Vdfwe/34/Llyzh27Bju3LmDTz75BL/4xS8wMDCAmZkZCMK6s0+pVEKj0UClUkEul0MQBGg0Gsjlcsjlcly9ehWXL1+G2+3GtWvXMDs7i87OTsjlcmg0GgiCALVajcnJSfztb3/DxYsXcfjwYfz85z/norH8mhqNBpcvX4bFYsHnn3+OcDiMS5cu4cKFC0gkEjh//jwKhQI+/vhjtLa24uzZszh37tyWtpw5cwavv/46pqen8fXXX+P06dM4cuQIkskk5ufnIZfLYbPZ8NVXXyGZTOJXv/oVjh8/jomJiS0H2u/34+rVq/jggw/w0Ucf4erVqzXNlXsZ2K98R4IgCIIgCILYiv8BsblXCBSwlbkAAAAASUVORK5CYII=)"
      ],
      "metadata": {
        "id": "ef7bleHYwTDw"
      }
    },
    {
      "cell_type": "code",
      "source": [
        "# Element wise multiplication\n",
        "print(tensor, \"*\", tensor)\n",
        "print(f\"Equals:{tensor * tensor}\")"
      ],
      "metadata": {
        "colab": {
          "base_uri": "https://localhost:8080/"
        },
        "id": "PasznkgowQZ1",
        "outputId": "a43132b0-8846-457e-d844-5339aad9953b"
      },
      "execution_count": 9,
      "outputs": [
        {
          "output_type": "stream",
          "name": "stdout",
          "text": [
            "tensor([1, 2, 3]) * tensor([1, 2, 3])\n",
            "Equals:tensor([1, 4, 9])\n"
          ]
        }
      ]
    },
    {
      "cell_type": "code",
      "source": [
        "#Matrix Multiplication\n",
        "torch.matmul(tensor,tensor)"
      ],
      "metadata": {
        "colab": {
          "base_uri": "https://localhost:8080/"
        },
        "id": "u62hxVN1xZpi",
        "outputId": "5c308a9e-8231-4526-d140-955fa2032b89"
      },
      "execution_count": 10,
      "outputs": [
        {
          "output_type": "execute_result",
          "data": {
            "text/plain": [
              "tensor(14)"
            ]
          },
          "metadata": {},
          "execution_count": 10
        }
      ]
    },
    {
      "cell_type": "code",
      "source": [
        "#matrix miltiplication by hand\n",
        "1*1 +2*2 +3*3"
      ],
      "metadata": {
        "colab": {
          "base_uri": "https://localhost:8080/"
        },
        "id": "SPtpm9zexmDr",
        "outputId": "46256eaa-0108-457b-b3fb-ec29607a0a66"
      },
      "execution_count": 11,
      "outputs": [
        {
          "output_type": "execute_result",
          "data": {
            "text/plain": [
              "14"
            ]
          },
          "metadata": {},
          "execution_count": 11
        }
      ]
    },
    {
      "cell_type": "code",
      "source": [
        "%%time\n",
        "value = 0\n",
        "for i in range(len(tensor)):\n",
        "   value += tensor[i]* tensor[i]\n",
        "print(value)"
      ],
      "metadata": {
        "colab": {
          "base_uri": "https://localhost:8080/"
        },
        "id": "xyN7RLHSyL85",
        "outputId": "68ab33b1-7a23-4ad0-cfe8-672429ad0636"
      },
      "execution_count": 12,
      "outputs": [
        {
          "output_type": "stream",
          "name": "stdout",
          "text": [
            "tensor(14)\n",
            "CPU times: user 2.71 ms, sys: 0 ns, total: 2.71 ms\n",
            "Wall time: 2.9 ms\n"
          ]
        }
      ]
    },
    {
      "cell_type": "code",
      "source": [
        "%%time\n",
        "torch.matmul(tensor,tensor)"
      ],
      "metadata": {
        "colab": {
          "base_uri": "https://localhost:8080/"
        },
        "id": "XH2Gz5p2ygly",
        "outputId": "39292baa-70e4-4b23-bd39-fb63b9ee9423"
      },
      "execution_count": 13,
      "outputs": [
        {
          "output_type": "stream",
          "name": "stdout",
          "text": [
            "CPU times: user 106 µs, sys: 0 ns, total: 106 µs\n",
            "Wall time: 110 µs\n"
          ]
        },
        {
          "output_type": "execute_result",
          "data": {
            "text/plain": [
              "tensor(14)"
            ]
          },
          "metadata": {},
          "execution_count": 13
        }
      ]
    },
    {
      "cell_type": "code",
      "source": [
        "### One of the most common error in Deep learning is shape error\n",
        "torch.matmul(torch.rand(2,3),torch.rand(3,2))"
      ],
      "metadata": {
        "colab": {
          "base_uri": "https://localhost:8080/"
        },
        "id": "e_Rescu6yyjb",
        "outputId": "12879870-4dba-4438-a04d-c7fca729656b"
      },
      "execution_count": 14,
      "outputs": [
        {
          "output_type": "execute_result",
          "data": {
            "text/plain": [
              "tensor([[0.5292, 0.6424],\n",
              "        [0.4098, 0.9337]])"
            ]
          },
          "metadata": {},
          "execution_count": 14
        }
      ]
    },
    {
      "cell_type": "code",
      "source": [
        "torch.matmul(torch.rand(3,2),torch.rand(2,3))"
      ],
      "metadata": {
        "colab": {
          "base_uri": "https://localhost:8080/"
        },
        "id": "5xfZThr20Xmy",
        "outputId": "c86cb85a-3eb5-497f-da65-fcb11559d431"
      },
      "execution_count": 15,
      "outputs": [
        {
          "output_type": "execute_result",
          "data": {
            "text/plain": [
              "tensor([[1.1934, 0.7880, 1.1539],\n",
              "        [0.4766, 0.3748, 0.3334],\n",
              "        [0.8900, 0.6437, 0.7420]])"
            ]
          },
          "metadata": {},
          "execution_count": 15
        }
      ]
    },
    {
      "cell_type": "code",
      "source": [
        "# Shapes for matrix multiplication\n",
        "tensor_A = torch.tensor([[1,2],\n",
        "                          [3,4],\n",
        "                          [5,6]])\n",
        "tensor_B = torch.tensor([[7,8],\n",
        "                          [9,10],\n",
        "                          [11,12]])\n",
        "\n",
        "tensor_A.shape, tensor_B.shape\n",
        ""
      ],
      "metadata": {
        "colab": {
          "base_uri": "https://localhost:8080/"
        },
        "id": "yOTWuVyN0nWz",
        "outputId": "20739841-88b1-46d8-8e32-5b85999fcb4a"
      },
      "execution_count": 21,
      "outputs": [
        {
          "output_type": "execute_result",
          "data": {
            "text/plain": [
              "(torch.Size([3, 2]), torch.Size([3, 2]))"
            ]
          },
          "metadata": {},
          "execution_count": 21
        }
      ]
    },
    {
      "cell_type": "code",
      "source": [
        "torch.matmul (tensor_A, tensor_B)"
      ],
      "metadata": {
        "colab": {
          "base_uri": "https://localhost:8080/",
          "height": 165
        },
        "id": "p7MSECzp2C5M",
        "outputId": "5c6d8612-e2eb-4f42-e3c0-9f86a1fbebe1"
      },
      "execution_count": 22,
      "outputs": [
        {
          "output_type": "error",
          "ename": "RuntimeError",
          "evalue": "ignored",
          "traceback": [
            "\u001b[0;31m---------------------------------------------------------------------------\u001b[0m",
            "\u001b[0;31mRuntimeError\u001b[0m                              Traceback (most recent call last)",
            "\u001b[0;32m<ipython-input-22-8ddd3dd42530>\u001b[0m in \u001b[0;36m<cell line: 1>\u001b[0;34m()\u001b[0m\n\u001b[0;32m----> 1\u001b[0;31m \u001b[0mtorch\u001b[0m\u001b[0;34m.\u001b[0m\u001b[0mmatmul\u001b[0m \u001b[0;34m(\u001b[0m\u001b[0mtensor_A\u001b[0m\u001b[0;34m,\u001b[0m \u001b[0mtensor_B\u001b[0m\u001b[0;34m)\u001b[0m\u001b[0;34m\u001b[0m\u001b[0;34m\u001b[0m\u001b[0m\n\u001b[0m",
            "\u001b[0;31mRuntimeError\u001b[0m: mat1 and mat2 shapes cannot be multiplied (3x2 and 3x2)"
          ]
        }
      ]
    },
    {
      "cell_type": "markdown",
      "source": [
        "TO fix our tensor shape issues, we can manipulate the shape of one of our tensors using a Transpose\n",
        "\n",
        "A transepose switches the axes or dimension of a given tensor"
      ],
      "metadata": {
        "id": "OsWkd9aF3ABu"
      }
    },
    {
      "cell_type": "code",
      "source": [
        "tensor_B\n"
      ],
      "metadata": {
        "colab": {
          "base_uri": "https://localhost:8080/"
        },
        "id": "MrcNpQVD29or",
        "outputId": "5caa3aa3-71f1-455b-c400-2c8eef1e8660"
      },
      "execution_count": 26,
      "outputs": [
        {
          "output_type": "execute_result",
          "data": {
            "text/plain": [
              "tensor([[ 7,  8],\n",
              "        [ 9, 10],\n",
              "        [11, 12]])"
            ]
          },
          "metadata": {},
          "execution_count": 26
        }
      ]
    },
    {
      "cell_type": "code",
      "source": [
        "tensor_B.T\n"
      ],
      "metadata": {
        "colab": {
          "base_uri": "https://localhost:8080/"
        },
        "id": "Va5h8LlZ3gkl",
        "outputId": "9d7b719f-628b-482a-b045-80b2e8372022"
      },
      "execution_count": 27,
      "outputs": [
        {
          "output_type": "execute_result",
          "data": {
            "text/plain": [
              "tensor([[ 7,  9, 11],\n",
              "        [ 8, 10, 12]])"
            ]
          },
          "metadata": {},
          "execution_count": 27
        }
      ]
    },
    {
      "cell_type": "code",
      "source": [
        "tensor_B.T.shape"
      ],
      "metadata": {
        "colab": {
          "base_uri": "https://localhost:8080/"
        },
        "id": "DmpM-RKq3ti0",
        "outputId": "86af2166-aed8-4f1d-8a78-e983edd546f6"
      },
      "execution_count": 28,
      "outputs": [
        {
          "output_type": "execute_result",
          "data": {
            "text/plain": [
              "torch.Size([2, 3])"
            ]
          },
          "metadata": {},
          "execution_count": 28
        }
      ]
    },
    {
      "cell_type": "code",
      "source": [
        "torch.matmul (tensor_A, tensor_B.T)"
      ],
      "metadata": {
        "colab": {
          "base_uri": "https://localhost:8080/"
        },
        "id": "UG9Rcw_x3yzb",
        "outputId": "d04864cd-2157-4746-bd22-46cdbc85f055"
      },
      "execution_count": 32,
      "outputs": [
        {
          "output_type": "execute_result",
          "data": {
            "text/plain": [
              "tensor([[ 23,  29,  35],\n",
              "        [ 53,  67,  81],\n",
              "        [ 83, 105, 127]])"
            ]
          },
          "metadata": {},
          "execution_count": 32
        }
      ]
    },
    {
      "cell_type": "code",
      "source": [
        "## Matrix multiplication  operation works when the tensor_B is transposed\n",
        "print(f\"Origional shape : tensor_A = {tensor_A.shape}, tensor_B={tensor_B.shape}\")\n",
        "print(f\"New shapes : tensor_A = {tensor_A.shape} (same as above), tensor_B={tensor_B.T.shape}\")\n",
        "print(f\"Multilying: {tensor_A.shape} @ {tensor_B.T.shape} <- inner dimsnesion must match\")\n",
        "print(f\"Output: \\n\")\n",
        "output = torch.matmul(tensor_A,tensor_B.T)\n",
        "print(output)\n",
        "print(f\"\\nOutput shape : {output.shape}\")\n"
      ],
      "metadata": {
        "colab": {
          "base_uri": "https://localhost:8080/"
        },
        "id": "64YJjPA533LM",
        "outputId": "a42c9127-f5cc-4198-b33a-e60d2476d9b6"
      },
      "execution_count": 40,
      "outputs": [
        {
          "output_type": "stream",
          "name": "stdout",
          "text": [
            "Origional shape : tensor_A = torch.Size([3, 2]), tensor_B=torch.Size([3, 2])\n",
            "New shapes : tensor_A = torch.Size([3, 2]) (same as above), tensor_B=torch.Size([2, 3])\n",
            "Multilying: torch.Size([3, 2]) @ torch.Size([2, 3]) <- inner dimsnesion must match\n",
            "Output: \n",
            "\n",
            "tensor([[ 23,  29,  35],\n",
            "        [ 53,  67,  81],\n",
            "        [ 83, 105, 127]])\n",
            "\n",
            "Output shape : torch.Size([3, 3])\n"
          ]
        }
      ]
    },
    {
      "cell_type": "code",
      "source": [],
      "metadata": {
        "id": "ciMI_v4H4lsL"
      },
      "execution_count": null,
      "outputs": []
    },
    {
      "cell_type": "markdown",
      "source": [
        "# Findings the Min, Max, mean, Sum etc, (tensor aggregation)"
      ],
      "metadata": {
        "id": "bKNthIq57Djg"
      }
    },
    {
      "cell_type": "code",
      "source": [
        "#create tensor\n",
        "x = torch.arange(0,100,10)\n",
        "x, x.dtype"
      ],
      "metadata": {
        "colab": {
          "base_uri": "https://localhost:8080/"
        },
        "id": "A-AD0UcW7Lu7",
        "outputId": "7baf130a-c43c-4d5c-f693-b0c4029c1403"
      },
      "execution_count": 46,
      "outputs": [
        {
          "output_type": "execute_result",
          "data": {
            "text/plain": [
              "(tensor([ 0, 10, 20, 30, 40, 50, 60, 70, 80, 90]), torch.int64)"
            ]
          },
          "metadata": {},
          "execution_count": 46
        }
      ]
    },
    {
      "cell_type": "code",
      "source": [
        "#find the Min\n",
        "torch.min(x), x.min()"
      ],
      "metadata": {
        "colab": {
          "base_uri": "https://localhost:8080/"
        },
        "id": "3uJtoTNV7WFO",
        "outputId": "cec3fbff-fa87-4b27-e660-98790e06a563"
      },
      "execution_count": 43,
      "outputs": [
        {
          "output_type": "execute_result",
          "data": {
            "text/plain": [
              "(tensor(0), tensor(0))"
            ]
          },
          "metadata": {},
          "execution_count": 43
        }
      ]
    },
    {
      "cell_type": "code",
      "source": [
        "#Find the max\n",
        "torch.max(x), x.max()\n"
      ],
      "metadata": {
        "colab": {
          "base_uri": "https://localhost:8080/"
        },
        "id": "8PTEn5jW7gRQ",
        "outputId": "10cd447f-ebee-407f-e635-7f29030dfe8c"
      },
      "execution_count": 44,
      "outputs": [
        {
          "output_type": "execute_result",
          "data": {
            "text/plain": [
              "(tensor(90), tensor(90))"
            ]
          },
          "metadata": {},
          "execution_count": 44
        }
      ]
    },
    {
      "cell_type": "code",
      "source": [
        "#find the mean -Note :  the torch.mean() function requires a tensor of float32 datatype to work\n",
        "torch.mean(x.type(torch.float32)), x.type(torch.float32).mean()"
      ],
      "metadata": {
        "colab": {
          "base_uri": "https://localhost:8080/"
        },
        "id": "nX5WxugN7pjr",
        "outputId": "e8e79ed7-1488-4fe0-bd67-2c98b4f4d184"
      },
      "execution_count": 48,
      "outputs": [
        {
          "output_type": "execute_result",
          "data": {
            "text/plain": [
              "(tensor(45.), tensor(45.))"
            ]
          },
          "metadata": {},
          "execution_count": 48
        }
      ]
    },
    {
      "cell_type": "code",
      "source": [
        "#find the sum\n",
        "torch.sum(x), x.sum()\n"
      ],
      "metadata": {
        "colab": {
          "base_uri": "https://localhost:8080/"
        },
        "id": "eIvB9zZ57wqD",
        "outputId": "42460e31-5ac1-4ba2-aab1-48c506953136"
      },
      "execution_count": 49,
      "outputs": [
        {
          "output_type": "execute_result",
          "data": {
            "text/plain": [
              "(tensor(450), tensor(450))"
            ]
          },
          "metadata": {},
          "execution_count": 49
        }
      ]
    },
    {
      "cell_type": "markdown",
      "source": [
        "# Finding the Positional min and MAX"
      ],
      "metadata": {
        "id": "5G7ixf379YIt"
      }
    },
    {
      "cell_type": "code",
      "source": [
        "x"
      ],
      "metadata": {
        "colab": {
          "base_uri": "https://localhost:8080/"
        },
        "id": "FP6zvIMj-IhQ",
        "outputId": "70fbd7a8-6e2e-42c7-a7d5-1f722d1c0e9a"
      },
      "execution_count": 53,
      "outputs": [
        {
          "output_type": "execute_result",
          "data": {
            "text/plain": [
              "tensor([ 0, 10, 20, 30, 40, 50, 60, 70, 80, 90])"
            ]
          },
          "metadata": {},
          "execution_count": 53
        }
      ]
    },
    {
      "cell_type": "code",
      "source": [
        "x.argmin()"
      ],
      "metadata": {
        "colab": {
          "base_uri": "https://localhost:8080/"
        },
        "id": "pO8g9H1B9217",
        "outputId": "41221704-f105-447c-9402-c701df9bac84"
      },
      "execution_count": 52,
      "outputs": [
        {
          "output_type": "execute_result",
          "data": {
            "text/plain": [
              "tensor(0)"
            ]
          },
          "metadata": {},
          "execution_count": 52
        }
      ]
    },
    {
      "cell_type": "code",
      "source": [
        "x[5]"
      ],
      "metadata": {
        "colab": {
          "base_uri": "https://localhost:8080/"
        },
        "id": "nsOxbKM3-GRb",
        "outputId": "a70f4f2b-0e28-46fa-fdf9-308946538547"
      },
      "execution_count": 55,
      "outputs": [
        {
          "output_type": "execute_result",
          "data": {
            "text/plain": [
              "tensor(50)"
            ]
          },
          "metadata": {},
          "execution_count": 55
        }
      ]
    },
    {
      "cell_type": "code",
      "source": [
        "x.argmax()"
      ],
      "metadata": {
        "colab": {
          "base_uri": "https://localhost:8080/"
        },
        "id": "U4YlbSab-Ndb",
        "outputId": "1d57d505-e388-4c48-e465-255e625b7b8a"
      },
      "execution_count": 56,
      "outputs": [
        {
          "output_type": "execute_result",
          "data": {
            "text/plain": [
              "tensor(9)"
            ]
          },
          "metadata": {},
          "execution_count": 56
        }
      ]
    },
    {
      "cell_type": "code",
      "source": [
        "x[6]"
      ],
      "metadata": {
        "colab": {
          "base_uri": "https://localhost:8080/"
        },
        "id": "fN2sE58G-SST",
        "outputId": "fccb9ab2-13d2-4581-a1d1-1a81942cb49a"
      },
      "execution_count": 57,
      "outputs": [
        {
          "output_type": "execute_result",
          "data": {
            "text/plain": [
              "tensor(60)"
            ]
          },
          "metadata": {},
          "execution_count": 57
        }
      ]
    },
    {
      "cell_type": "markdown",
      "source": [
        "## Reshapping , stacking, squeezing and unsquezing tensors\n",
        "\n",
        "* Reshaping - reshape an input tensor to a defined shape\n",
        "* View - return a view of an input tensor of certain shape but keeps the same memory as the origional tensor\n",
        "* Stacking - Cobine multiple tensors on top of each other(vstack ) or side by side (hstack)\n",
        "*Squeez - Removes all 'l' dimensions from a tensor\n",
        "* Unsqueez - add a 1 dimension to a target tensor\n",
        "* Permute- Return a view of the input with dimension permuted(swapped) in a certain way."
      ],
      "metadata": {
        "id": "Pc0YIg8N_J8Y"
      }
    },
    {
      "cell_type": "code",
      "source": [
        "#Lets create a tensor\n",
        "import torch\n",
        "x = torch.arange(1., 10.)\n",
        "x, x.shape"
      ],
      "metadata": {
        "colab": {
          "base_uri": "https://localhost:8080/"
        },
        "id": "A79v42mx-Utx",
        "outputId": "5c573868-4f9d-4c8e-8b84-a342ed136855"
      },
      "execution_count": 59,
      "outputs": [
        {
          "output_type": "execute_result",
          "data": {
            "text/plain": [
              "(tensor([1., 2., 3., 4., 5., 6., 7., 8., 9.]), torch.Size([9]))"
            ]
          },
          "metadata": {},
          "execution_count": 59
        }
      ]
    },
    {
      "cell_type": "code",
      "source": [
        "#Add extra dimension\n",
        "x_reshaped = x.reshape(1,9)\n",
        "x_reshaped, x_reshaped.shape"
      ],
      "metadata": {
        "colab": {
          "base_uri": "https://localhost:8080/"
        },
        "id": "GZ0nbQGhCSlS",
        "outputId": "7c77615b-6c92-428c-b799-d37ed5aeb834"
      },
      "execution_count": 62,
      "outputs": [
        {
          "output_type": "execute_result",
          "data": {
            "text/plain": [
              "(tensor([[1., 2., 3., 4., 5., 6., 7., 8., 9.]]), torch.Size([1, 9]))"
            ]
          },
          "metadata": {},
          "execution_count": 62
        }
      ]
    },
    {
      "cell_type": "code",
      "source": [
        "x_reshaped = x.reshape(1,9)\n",
        "x_reshaped, x_reshaped.shape"
      ],
      "metadata": {
        "colab": {
          "base_uri": "https://localhost:8080/"
        },
        "id": "EQ3iT01bCe5r",
        "outputId": "f2c8ec54-42d1-4c54-b082-223af347f7ac"
      },
      "execution_count": 78,
      "outputs": [
        {
          "output_type": "execute_result",
          "data": {
            "text/plain": [
              "(tensor([[5., 2., 3., 4., 5., 6., 7., 8., 9.]]), torch.Size([1, 9]))"
            ]
          },
          "metadata": {},
          "execution_count": 78
        }
      ]
    },
    {
      "cell_type": "code",
      "source": [
        "#change the view\n",
        "z = x.view(1,9)\n",
        "z, z.shape"
      ],
      "metadata": {
        "colab": {
          "base_uri": "https://localhost:8080/"
        },
        "id": "rKnNxUjeDFrU",
        "outputId": "80d71937-7669-4bb6-f104-70e9ba364de1"
      },
      "execution_count": 64,
      "outputs": [
        {
          "output_type": "execute_result",
          "data": {
            "text/plain": [
              "(tensor([[1., 2., 3., 4., 5., 6., 7., 8., 9.]]), torch.Size([1, 9]))"
            ]
          },
          "metadata": {},
          "execution_count": 64
        }
      ]
    },
    {
      "cell_type": "code",
      "source": [
        "#Changing z chnages x (becuase a view of a tenso shares the same memory as the origional)\n",
        "z[:,0] =5\n",
        "z, x\n"
      ],
      "metadata": {
        "colab": {
          "base_uri": "https://localhost:8080/"
        },
        "id": "kY56ZH7tC8dy",
        "outputId": "e30a3016-7705-44b0-b511-4be1d11bdee5"
      },
      "execution_count": 65,
      "outputs": [
        {
          "output_type": "execute_result",
          "data": {
            "text/plain": [
              "(tensor([[5., 2., 3., 4., 5., 6., 7., 8., 9.]]),\n",
              " tensor([5., 2., 3., 4., 5., 6., 7., 8., 9.]))"
            ]
          },
          "metadata": {},
          "execution_count": 65
        }
      ]
    },
    {
      "cell_type": "code",
      "source": [
        "# Stack tensors on top of each other\n",
        "x_stacked = torch.stack([x,x,x,x], dim=0)\n",
        "x_stacked\n",
        "\n"
      ],
      "metadata": {
        "colab": {
          "base_uri": "https://localhost:8080/"
        },
        "id": "Go1J9346EA6b",
        "outputId": "a14cb361-eee7-4669-ef80-17d0e5db9c77"
      },
      "execution_count": 70,
      "outputs": [
        {
          "output_type": "execute_result",
          "data": {
            "text/plain": [
              "tensor([[5., 2., 3., 4., 5., 6., 7., 8., 9.],\n",
              "        [5., 2., 3., 4., 5., 6., 7., 8., 9.],\n",
              "        [5., 2., 3., 4., 5., 6., 7., 8., 9.],\n",
              "        [5., 2., 3., 4., 5., 6., 7., 8., 9.]])"
            ]
          },
          "metadata": {},
          "execution_count": 70
        }
      ]
    },
    {
      "cell_type": "code",
      "source": [
        "#torch.squeeze() - removes all the simgle dimension froma arget tensor\n",
        "x_reshaped"
      ],
      "metadata": {
        "colab": {
          "base_uri": "https://localhost:8080/"
        },
        "id": "ze-mWOYtEdlZ",
        "outputId": "8ff05e38-2308-47b4-d6c4-5bdc422476d8"
      },
      "execution_count": 72,
      "outputs": [
        {
          "output_type": "execute_result",
          "data": {
            "text/plain": [
              "tensor([[5.],\n",
              "        [2.],\n",
              "        [3.],\n",
              "        [4.],\n",
              "        [5.],\n",
              "        [6.],\n",
              "        [7.],\n",
              "        [8.],\n",
              "        [9.]])"
            ]
          },
          "metadata": {},
          "execution_count": 72
        }
      ]
    },
    {
      "cell_type": "code",
      "source": [
        "x_reshaped.shape"
      ],
      "metadata": {
        "colab": {
          "base_uri": "https://localhost:8080/"
        },
        "id": "XP9C3ynWFSkm",
        "outputId": "7dc639cd-2282-4808-851a-61ade42c170c"
      },
      "execution_count": 73,
      "outputs": [
        {
          "output_type": "execute_result",
          "data": {
            "text/plain": [
              "torch.Size([9, 1])"
            ]
          },
          "metadata": {},
          "execution_count": 73
        }
      ]
    },
    {
      "cell_type": "code",
      "source": [
        "x_reshaped.squeeze()\n"
      ],
      "metadata": {
        "colab": {
          "base_uri": "https://localhost:8080/"
        },
        "id": "s6QOxkMjFas4",
        "outputId": "d1171e0d-7bcb-440e-e943-fa27cd07a11e"
      },
      "execution_count": 74,
      "outputs": [
        {
          "output_type": "execute_result",
          "data": {
            "text/plain": [
              "tensor([5., 2., 3., 4., 5., 6., 7., 8., 9.])"
            ]
          },
          "metadata": {},
          "execution_count": 74
        }
      ]
    },
    {
      "cell_type": "code",
      "source": [
        "x_reshaped.squeeze().shape"
      ],
      "metadata": {
        "colab": {
          "base_uri": "https://localhost:8080/"
        },
        "id": "8TVlbvEbFiXq",
        "outputId": "5ab067af-b62c-44f0-9eda-9ade5430912a"
      },
      "execution_count": 76,
      "outputs": [
        {
          "output_type": "execute_result",
          "data": {
            "text/plain": [
              "torch.Size([9])"
            ]
          },
          "metadata": {},
          "execution_count": 76
        }
      ]
    },
    {
      "cell_type": "code",
      "source": [
        "print(f\"Previous tensor: {x_reshaped}\")\n",
        "print(f\"Previous shape: {x_reshaped.shape}\")\n",
        "\n",
        "# Remove extra dimension from x_reshaped\n",
        "x_squeezed = x_reshaped.squeeze()\n",
        "print(f\"\\nNew tensor: {x_squeezed}\")\n",
        "print(f\"New shape: {x_squeezed.shape}\")"
      ],
      "metadata": {
        "colab": {
          "base_uri": "https://localhost:8080/"
        },
        "id": "bxpH49hPFoJd",
        "outputId": "2e32a185-2ab0-4cf2-d169-29537a7e39a6"
      },
      "execution_count": 79,
      "outputs": [
        {
          "output_type": "stream",
          "name": "stdout",
          "text": [
            "Previous tensor: tensor([[5., 2., 3., 4., 5., 6., 7., 8., 9.]])\n",
            "Previous shape: torch.Size([1, 9])\n",
            "\n",
            "New tensor: tensor([5., 2., 3., 4., 5., 6., 7., 8., 9.])\n",
            "New shape: torch.Size([9])\n"
          ]
        }
      ]
    },
    {
      "cell_type": "code",
      "source": [
        "print(f\"Previous tensor: {x_squeezed}\")\n",
        "print(f\"Previous shape: {x_squeezed.shape}\")\n",
        "\n",
        "## Add an extra dimension with unsqueeze\n",
        "x_unsqueezed = x_squeezed.unsqueeze(dim=0)\n",
        "print(f\"\\nNew tensor: {x_unsqueezed}\")\n",
        "print(f\"New shape: {x_unsqueezed.shape}\")"
      ],
      "metadata": {
        "colab": {
          "base_uri": "https://localhost:8080/"
        },
        "id": "aYNsprBRGTRK",
        "outputId": "2cc98e54-b19d-4b21-daaa-b845adcb871e"
      },
      "execution_count": 82,
      "outputs": [
        {
          "output_type": "stream",
          "name": "stdout",
          "text": [
            "Previous tensor: tensor([5., 2., 3., 4., 5., 6., 7., 8., 9.])\n",
            "Previous shape: torch.Size([9])\n",
            "\n",
            "New tensor: tensor([[5., 2., 3., 4., 5., 6., 7., 8., 9.]])\n",
            "New shape: torch.Size([1, 9])\n"
          ]
        }
      ]
    },
    {
      "cell_type": "code",
      "source": [
        "# torch.permute - Reaarange the dimension of a target tesndoe in a specified order\n",
        "x_original  = torch.rand(size=(224,224,3)) # [Height, Width, colour channel]\n",
        "\n",
        "#Permute the origional tensor to rearrange the axis (or dimension) order\n",
        "x_permuted = x_original.permute(2,1,0) # shifta axis 0->1,1->2,2->0\n",
        "\n",
        "\n",
        "print(f\"Previous shape: {x_original.shape}\")\n",
        "print(f\"New shape: {x_permuted.shape}\")"
      ],
      "metadata": {
        "colab": {
          "base_uri": "https://localhost:8080/"
        },
        "id": "dwNITuXDG5bR",
        "outputId": "10f48757-ec4a-4101-8c7a-a6cea57ff509"
      },
      "execution_count": 86,
      "outputs": [
        {
          "output_type": "stream",
          "name": "stdout",
          "text": [
            "Previous shape: torch.Size([224, 224, 3])\n",
            "New shape: torch.Size([3, 224, 224])\n"
          ]
        }
      ]
    },
    {
      "cell_type": "markdown",
      "source": [
        "## Indexing (Selecting data from Tensors)\n",
        "Indexing with Pytorch is similar to indexing NumPy\n",
        "\n"
      ],
      "metadata": {
        "id": "8YXbuSH4Klvd"
      }
    },
    {
      "cell_type": "code",
      "source": [
        "#reate a tensor\n",
        "x = torch.arange(1,10).reshape(1,3,3)\n",
        "x, x.shape"
      ],
      "metadata": {
        "colab": {
          "base_uri": "https://localhost:8080/"
        },
        "id": "w4wxv6usIzyF",
        "outputId": "74652386-5056-4159-98fa-8a2debf43beb"
      },
      "execution_count": 88,
      "outputs": [
        {
          "output_type": "execute_result",
          "data": {
            "text/plain": [
              "(tensor([[[1, 2, 3],\n",
              "          [4, 5, 6],\n",
              "          [7, 8, 9]]]),\n",
              " torch.Size([1, 3, 3]))"
            ]
          },
          "metadata": {},
          "execution_count": 88
        }
      ]
    },
    {
      "cell_type": "code",
      "source": [
        "#Lets Index on our new tensor\n",
        "x[0]"
      ],
      "metadata": {
        "colab": {
          "base_uri": "https://localhost:8080/"
        },
        "id": "A2JFkxUOLDKt",
        "outputId": "571c46b7-4651-40ee-8f2c-ab071a1f7039"
      },
      "execution_count": 89,
      "outputs": [
        {
          "output_type": "execute_result",
          "data": {
            "text/plain": [
              "tensor([[1, 2, 3],\n",
              "        [4, 5, 6],\n",
              "        [7, 8, 9]])"
            ]
          },
          "metadata": {},
          "execution_count": 89
        }
      ]
    },
    {
      "cell_type": "code",
      "source": [
        "#Now lets Index on the middle Bracket (dim=1)\n",
        "x[0,0]"
      ],
      "metadata": {
        "colab": {
          "base_uri": "https://localhost:8080/"
        },
        "id": "pWT1LM4cMrsb",
        "outputId": "80f16a95-4f5e-49a2-ad23-49e44f296b59"
      },
      "execution_count": 91,
      "outputs": [
        {
          "output_type": "execute_result",
          "data": {
            "text/plain": [
              "tensor([1, 2, 3])"
            ]
          },
          "metadata": {},
          "execution_count": 91
        }
      ]
    },
    {
      "cell_type": "code",
      "source": [
        "#Lets Index on the inner bracket (Last dimesion\n",
        "\n",
        "x[0][2][2]"
      ],
      "metadata": {
        "colab": {
          "base_uri": "https://localhost:8080/"
        },
        "id": "YFdX9r7QM2Mc",
        "outputId": "a06c969e-a982-4260-b5df-14e4f8194a16"
      },
      "execution_count": 97,
      "outputs": [
        {
          "output_type": "execute_result",
          "data": {
            "text/plain": [
              "tensor(9)"
            ]
          },
          "metadata": {},
          "execution_count": 97
        }
      ]
    },
    {
      "cell_type": "markdown",
      "source": [
        "## NumPY is a popular scientific Python numerical compuing libraray\n",
        "\n",
        "and because of this, PyTorch has functionality to interact with it\n",
        "\n",
        "* Data in NumPy, wants in PyTorch tensor -> torch.from_numpy(ndarray)\n",
        "* PyTorch tensor -> NumPy -> torch.Tensor.numpy()\n"
      ],
      "metadata": {
        "id": "A6wtzjQEO_h3"
      }
    },
    {
      "cell_type": "code",
      "source": [
        "# NumPy aray to tensor\n",
        "import torch\n",
        "import numpy as np\n",
        "\n",
        "array = np.arange(1.0,8.0)\n",
        "tensor = torch.from_numpy(array) # when converting from NumPy -> PyTorch, putorch reflects numpy's default datatype of float unless speficied otherwise\n",
        "array, tensor"
      ],
      "metadata": {
        "colab": {
          "base_uri": "https://localhost:8080/"
        },
        "id": "Yj6GMTujNM7D",
        "outputId": "f9ee15cb-3942-4b83-ba82-4c0a5c813a15"
      },
      "execution_count": 105,
      "outputs": [
        {
          "output_type": "execute_result",
          "data": {
            "text/plain": [
              "(array([1., 2., 3., 4., 5., 6., 7.]),\n",
              " tensor([1., 2., 3., 4., 5., 6., 7.], dtype=torch.float64))"
            ]
          },
          "metadata": {},
          "execution_count": 105
        }
      ]
    },
    {
      "cell_type": "code",
      "source": [
        "array.dtype\n"
      ],
      "metadata": {
        "colab": {
          "base_uri": "https://localhost:8080/"
        },
        "id": "M1OwCQFpQJa-",
        "outputId": "56e81872-0b26-4bda-ab7a-eaeab5c7da2f"
      },
      "execution_count": 100,
      "outputs": [
        {
          "output_type": "execute_result",
          "data": {
            "text/plain": [
              "dtype('float64')"
            ]
          },
          "metadata": {},
          "execution_count": 100
        }
      ]
    },
    {
      "cell_type": "code",
      "source": [
        "tensor.dtype"
      ],
      "metadata": {
        "colab": {
          "base_uri": "https://localhost:8080/"
        },
        "id": "kb03utQrQSjM",
        "outputId": "180036d8-b8c6-4663-a723-3079a1c7b950"
      },
      "execution_count": 101,
      "outputs": [
        {
          "output_type": "execute_result",
          "data": {
            "text/plain": [
              "torch.float64"
            ]
          },
          "metadata": {},
          "execution_count": 101
        }
      ]
    },
    {
      "cell_type": "code",
      "source": [
        "tensor = torch.from_numpy(array).type(torch.float32)\n",
        "tensor"
      ],
      "metadata": {
        "colab": {
          "base_uri": "https://localhost:8080/"
        },
        "id": "hGWucBbfQYnj",
        "outputId": "21a28519-efc9-4fbb-f5fa-10ebf86138b3"
      },
      "execution_count": 103,
      "outputs": [
        {
          "output_type": "execute_result",
          "data": {
            "text/plain": [
              "tensor([1., 2., 3., 4., 5., 6., 7.])"
            ]
          },
          "metadata": {},
          "execution_count": 103
        }
      ]
    },
    {
      "cell_type": "code",
      "source": [
        "#chnage the value of array\n",
        "array = array+1\n",
        "array,tensor"
      ],
      "metadata": {
        "colab": {
          "base_uri": "https://localhost:8080/"
        },
        "id": "9bBoZHadQqQ9",
        "outputId": "cc578ddf-3332-4d3c-e4ac-399efb01a307"
      },
      "execution_count": 106,
      "outputs": [
        {
          "output_type": "execute_result",
          "data": {
            "text/plain": [
              "(array([2., 3., 4., 5., 6., 7., 8.]),\n",
              " tensor([1., 2., 3., 4., 5., 6., 7.], dtype=torch.float64))"
            ]
          },
          "metadata": {},
          "execution_count": 106
        }
      ]
    },
    {
      "cell_type": "code",
      "source": [
        "# Tensor to NumPy arrray\n",
        "tensor = torch.ones(7)\n",
        "numpy_tensor = tensor.numpy()\n",
        "tensor, numpy_tensor"
      ],
      "metadata": {
        "colab": {
          "base_uri": "https://localhost:8080/"
        },
        "id": "rLmcAGGnRL6u",
        "outputId": "61b36543-e39a-4af8-9bce-c75c9f145376"
      },
      "execution_count": 107,
      "outputs": [
        {
          "output_type": "execute_result",
          "data": {
            "text/plain": [
              "(tensor([1., 1., 1., 1., 1., 1., 1.]),\n",
              " array([1., 1., 1., 1., 1., 1., 1.], dtype=float32))"
            ]
          },
          "metadata": {},
          "execution_count": 107
        }
      ]
    },
    {
      "cell_type": "code",
      "source": [
        "#Chnage the tensor, what happen to Numpy_tensors?\n",
        "tensor =tensor+1\n",
        "tensor, numpy_tensor"
      ],
      "metadata": {
        "colab": {
          "base_uri": "https://localhost:8080/"
        },
        "id": "RJ4ZekrlRisr",
        "outputId": "c13eb3e6-d2ef-4af7-c94a-969d3bb45e2e"
      },
      "execution_count": 108,
      "outputs": [
        {
          "output_type": "execute_result",
          "data": {
            "text/plain": [
              "(tensor([2., 2., 2., 2., 2., 2., 2.]),\n",
              " array([1., 1., 1., 1., 1., 1., 1.], dtype=float32))"
            ]
          },
          "metadata": {},
          "execution_count": 108
        }
      ]
    },
    {
      "cell_type": "markdown",
      "source": [
        "## Reproducbility (Trying to take random out of random)\n",
        "In short how a neural learns.\n",
        "\n",
        "Start with random numbers -> tensor operation - > Update random number to try and make them better representation of the data -> again - > again again\n",
        "\n",
        "\n",
        "To reduce the radomness ine neural network and PyTorch comes the concept of a **random seed*\n",
        "\n",
        "\n",
        "rc- https://pytorch.org/docs/stable/notes/randomness.html"
      ],
      "metadata": {
        "id": "OICOZDNTSYvK"
      }
    },
    {
      "cell_type": "code",
      "source": [
        "torch.rand(3,3)"
      ],
      "metadata": {
        "colab": {
          "base_uri": "https://localhost:8080/"
        },
        "id": "_d1UUr4qSpCJ",
        "outputId": "d2e2df0a-55a9-4790-af7c-6b68b2a60406"
      },
      "execution_count": 109,
      "outputs": [
        {
          "output_type": "execute_result",
          "data": {
            "text/plain": [
              "tensor([[0.3839, 0.3948, 0.0962],\n",
              "        [0.4496, 0.3358, 0.0966],\n",
              "        [0.8023, 0.2819, 0.8916]])"
            ]
          },
          "metadata": {},
          "execution_count": 109
        }
      ]
    },
    {
      "cell_type": "code",
      "source": [
        "import torch\n",
        "\n",
        "#Create two random tensors\n",
        "\n",
        "random_tensor_A= torch.rand(3,4)\n",
        "random_tensor_B= torch.rand(3,4)\n",
        "\n",
        "print(random_tensor_A)\n",
        "print(random_tensor_B)\n",
        "print(random_tensor_A ==  random_tensor_B)\n"
      ],
      "metadata": {
        "colab": {
          "base_uri": "https://localhost:8080/"
        },
        "id": "cSvImDWcSwxQ",
        "outputId": "e05ba8fc-d8e3-4eee-ec9b-c7bfa856e95a"
      },
      "execution_count": 112,
      "outputs": [
        {
          "output_type": "stream",
          "name": "stdout",
          "text": [
            "tensor([[0.5884, 0.6631, 0.0622, 0.8813],\n",
            "        [0.3526, 0.4574, 0.2573, 0.3445],\n",
            "        [0.0662, 0.8597, 0.3738, 0.8835]])\n",
            "tensor([[0.2743, 0.8747, 0.6538, 0.6397],\n",
            "        [0.0690, 0.0446, 0.8861, 0.8896],\n",
            "        [0.2390, 0.2965, 0.1977, 0.9045]])\n",
            "tensor([[False, False, False, False],\n",
            "        [False, False, False, False],\n",
            "        [False, False, False, False]])\n"
          ]
        }
      ]
    },
    {
      "cell_type": "code",
      "source": [
        "#Lets Make some random but reproducibble tensors\n",
        "import torch\n",
        "random_tensor_A = torch.rand(3, 4)\n",
        "random_tensor_B = torch.rand(3, 4)\n",
        "\n",
        "print(f\"Tensor A:\\n{random_tensor_A}\\n\")\n",
        "print(f\"Tensor B:\\n{random_tensor_B}\\n\")\n",
        "print(f\"Does Tensor A equal Tensor B? (anywhere)\")\n",
        "random_tensor_A == random_tensor_B\n"
      ],
      "metadata": {
        "colab": {
          "base_uri": "https://localhost:8080/"
        },
        "id": "tW-JohH1TkfM",
        "outputId": "ea68f976-bbb5-40a4-ba6e-986ee8ea93fe"
      },
      "execution_count": 113,
      "outputs": [
        {
          "output_type": "stream",
          "name": "stdout",
          "text": [
            "Tensor A:\n",
            "tensor([[0.6962, 0.9244, 0.6336, 0.6878],\n",
            "        [0.4341, 0.0290, 0.2086, 0.0573],\n",
            "        [0.1263, 0.6986, 0.9274, 0.4817]])\n",
            "\n",
            "Tensor B:\n",
            "tensor([[0.9641, 0.8346, 0.7419, 0.6039],\n",
            "        [0.4419, 0.9795, 0.6001, 0.6428],\n",
            "        [0.3472, 0.1396, 0.8283, 0.4025]])\n",
            "\n",
            "Does Tensor A equal Tensor B? (anywhere)\n"
          ]
        },
        {
          "output_type": "execute_result",
          "data": {
            "text/plain": [
              "tensor([[False, False, False, False],\n",
              "        [False, False, False, False],\n",
              "        [False, False, False, False]])"
            ]
          },
          "metadata": {},
          "execution_count": 113
        }
      ]
    },
    {
      "cell_type": "code",
      "source": [
        "import torch\n",
        "import random\n",
        "\n",
        "# # Set the random seed\n",
        "RANDOM_SEED=42 # try changing this to different values and see what happens to the numbers below\n",
        "torch.manual_seed(seed=RANDOM_SEED)\n",
        "random_tensor_C = torch.rand(3, 4)\n",
        "\n",
        "# Have to reset the seed every time a new rand() is called\n",
        "# Without this, tensor_D would be different to tensor_C\n",
        "torch.random.manual_seed(seed=RANDOM_SEED) # try commenting this line out and seeing what happens\n",
        "random_tensor_D = torch.rand(3, 4)\n",
        "\n",
        "print(f\"Tensor C:\\n{random_tensor_C}\\n\")\n",
        "print(f\"Tensor D:\\n{random_tensor_D}\\n\")\n",
        "print(f\"Does Tensor C equal Tensor D? (anywhere)\")\n",
        "random_tensor_C == random_tensor_D"
      ],
      "metadata": {
        "colab": {
          "base_uri": "https://localhost:8080/"
        },
        "id": "Oi44sb6SUTi6",
        "outputId": "22f78df2-3968-4878-d73c-6eeb3e6c53d2"
      },
      "execution_count": 114,
      "outputs": [
        {
          "output_type": "stream",
          "name": "stdout",
          "text": [
            "Tensor C:\n",
            "tensor([[0.8823, 0.9150, 0.3829, 0.9593],\n",
            "        [0.3904, 0.6009, 0.2566, 0.7936],\n",
            "        [0.9408, 0.1332, 0.9346, 0.5936]])\n",
            "\n",
            "Tensor D:\n",
            "tensor([[0.8823, 0.9150, 0.3829, 0.9593],\n",
            "        [0.3904, 0.6009, 0.2566, 0.7936],\n",
            "        [0.9408, 0.1332, 0.9346, 0.5936]])\n",
            "\n",
            "Does Tensor C equal Tensor D? (anywhere)\n"
          ]
        },
        {
          "output_type": "execute_result",
          "data": {
            "text/plain": [
              "tensor([[True, True, True, True],\n",
              "        [True, True, True, True],\n",
              "        [True, True, True, True]])"
            ]
          },
          "metadata": {},
          "execution_count": 114
        }
      ]
    },
    {
      "cell_type": "code",
      "source": [],
      "metadata": {
        "id": "4rEon6POVxKh"
      },
      "execution_count": null,
      "outputs": []
    },
    {
      "cell_type": "markdown",
      "source": [
        "# ##Running tensors and Pytorch objects on the GPUand making faster computation)\n",
        "\n",
        "\n"
      ],
      "metadata": {
        "id": "pH1NPd2FV0HP"
      }
    },
    {
      "cell_type": "code",
      "source": [],
      "metadata": {
        "id": "Hu-F0TuOV1zr"
      },
      "execution_count": null,
      "outputs": []
    }
  ]
}